{
  "nbformat": 4,
  "nbformat_minor": 0,
  "metadata": {
    "colab": {
      "provenance": [],
      "gpuType": "T4"
    },
    "kernelspec": {
      "name": "python3",
      "display_name": "Python 3"
    },
    "language_info": {
      "name": "python"
    },
    "accelerator": "GPU"
  },
  "cells": [
    {
      "cell_type": "code",
      "execution_count": 2,
      "metadata": {
        "id": "vnVdURRMJ6Jv"
      },
      "outputs": [],
      "source": [
        "# Dataset\n",
        "from tensorflow import keras\n",
        "from tensorflow.keras import layers\n",
        "import numpy as np\n",
        "import tensorflow as tf\n",
        "import matplotlib.pyplot as plt"
      ]
    },
    {
      "cell_type": "code",
      "source": [
        "from tensorflow.keras.datasets import boston_housing"
      ],
      "metadata": {
        "id": "VtbrE1tmO_dy"
      },
      "execution_count": 3,
      "outputs": []
    },
    {
      "cell_type": "code",
      "source": [
        "(train_data, train_targets), (test_data, test_targets) = boston_housing.load_data()"
      ],
      "metadata": {
        "id": "j5yQRZxBRC_t",
        "colab": {
          "base_uri": "https://localhost:8080/"
        },
        "outputId": "bbcc2468-8dde-4020-e7ff-d018d67a1d47"
      },
      "execution_count": 4,
      "outputs": [
        {
          "output_type": "stream",
          "name": "stdout",
          "text": [
            "Downloading data from https://storage.googleapis.com/tensorflow/tf-keras-datasets/boston_housing.npz\n",
            "\u001b[1m57026/57026\u001b[0m \u001b[32m━━━━━━━━━━━━━━━━━━━━\u001b[0m\u001b[37m\u001b[0m \u001b[1m0s\u001b[0m 1us/step\n"
          ]
        }
      ]
    },
    {
      "cell_type": "code",
      "source": [
        "print(train_data.shape)\n",
        "print(train_targets.shape)"
      ],
      "metadata": {
        "colab": {
          "base_uri": "https://localhost:8080/"
        },
        "id": "i1K2BGcxRH07",
        "outputId": "eb87ed88-6ede-42c4-f54d-127a2decb19d"
      },
      "execution_count": 5,
      "outputs": [
        {
          "output_type": "stream",
          "name": "stdout",
          "text": [
            "(404, 13)\n",
            "(404,)\n"
          ]
        }
      ]
    },
    {
      "cell_type": "code",
      "source": [
        "print(test_data.shape)\n",
        "print(test_targets.shape)"
      ],
      "metadata": {
        "colab": {
          "base_uri": "https://localhost:8080/"
        },
        "id": "DW3fKj9HRI4G",
        "outputId": "454d09c7-f6dd-4922-c68a-0ef562d6b456"
      },
      "execution_count": 6,
      "outputs": [
        {
          "output_type": "stream",
          "name": "stdout",
          "text": [
            "(102, 13)\n",
            "(102,)\n"
          ]
        }
      ]
    },
    {
      "cell_type": "code",
      "source": [
        "train_data[0]"
      ],
      "metadata": {
        "colab": {
          "base_uri": "https://localhost:8080/"
        },
        "id": "EvCSRmYUROIq",
        "outputId": "49a61f5b-118c-427a-f626-a078707e769a"
      },
      "execution_count": 8,
      "outputs": [
        {
          "output_type": "execute_result",
          "data": {
            "text/plain": [
              "array([  1.23247,   0.     ,   8.14   ,   0.     ,   0.538  ,   6.142  ,\n",
              "        91.7    ,   3.9769 ,   4.     , 307.     ,  21.     , 396.9    ,\n",
              "        18.72   ])"
            ]
          },
          "metadata": {},
          "execution_count": 8
        }
      ]
    },
    {
      "cell_type": "code",
      "source": [
        "test_data[0]"
      ],
      "metadata": {
        "colab": {
          "base_uri": "https://localhost:8080/"
        },
        "id": "mEVuZiFARQq_",
        "outputId": "9d820599-74c0-4650-b17a-c173bfd713df"
      },
      "execution_count": 9,
      "outputs": [
        {
          "output_type": "execute_result",
          "data": {
            "text/plain": [
              "array([ 18.0846,   0.    ,  18.1   ,   0.    ,   0.679 ,   6.434 ,\n",
              "       100.    ,   1.8347,  24.    , 666.    ,  20.2   ,  27.25  ,\n",
              "        29.05  ])"
            ]
          },
          "metadata": {},
          "execution_count": 9
        }
      ]
    },
    {
      "cell_type": "code",
      "source": [
        "train_targets[0]"
      ],
      "metadata": {
        "colab": {
          "base_uri": "https://localhost:8080/"
        },
        "id": "eUJsmszlRTzB",
        "outputId": "53fbfc19-43b1-4ac9-9ed9-925903315d48"
      },
      "execution_count": 10,
      "outputs": [
        {
          "output_type": "execute_result",
          "data": {
            "text/plain": [
              "np.float64(15.2)"
            ]
          },
          "metadata": {},
          "execution_count": 10
        }
      ]
    },
    {
      "cell_type": "code",
      "source": [
        "test_targets[0]"
      ],
      "metadata": {
        "colab": {
          "base_uri": "https://localhost:8080/"
        },
        "id": "QhhqhHXlRU8G",
        "outputId": "6d186ba5-c0b3-4aef-9411-e49458dff53c"
      },
      "execution_count": 11,
      "outputs": [
        {
          "output_type": "execute_result",
          "data": {
            "text/plain": [
              "np.float64(7.2)"
            ]
          },
          "metadata": {},
          "execution_count": 11
        }
      ]
    },
    {
      "cell_type": "code",
      "source": [
        "np.max(train_targets)"
      ],
      "metadata": {
        "colab": {
          "base_uri": "https://localhost:8080/"
        },
        "id": "VJvt4SCPRW-n",
        "outputId": "23d6ac5b-c350-4e18-da18-f3b756b89dcc"
      },
      "execution_count": 12,
      "outputs": [
        {
          "output_type": "execute_result",
          "data": {
            "text/plain": [
              "np.float64(50.0)"
            ]
          },
          "metadata": {},
          "execution_count": 12
        }
      ]
    },
    {
      "cell_type": "code",
      "source": [
        "np.max(test_targets)"
      ],
      "metadata": {
        "colab": {
          "base_uri": "https://localhost:8080/"
        },
        "id": "Od4M350VRZDP",
        "outputId": "89b322e0-c4a4-404c-c989-97b1a72ca685"
      },
      "execution_count": 13,
      "outputs": [
        {
          "output_type": "execute_result",
          "data": {
            "text/plain": [
              "np.float64(50.0)"
            ]
          },
          "metadata": {},
          "execution_count": 13
        }
      ]
    },
    {
      "cell_type": "code",
      "source": [
        "# feature-wise Normalizing the data\n",
        "mean = train_data.mean(axis = 0)\n",
        "print(mean.shape)"
      ],
      "metadata": {
        "colab": {
          "base_uri": "https://localhost:8080/"
        },
        "id": "Q3_J3CjMRbxP",
        "outputId": "cc407cb5-c544-4d84-d8e2-1d7208b22a95"
      },
      "execution_count": 14,
      "outputs": [
        {
          "output_type": "stream",
          "name": "stdout",
          "text": [
            "(13,)\n"
          ]
        }
      ]
    },
    {
      "cell_type": "code",
      "source": [
        "print(mean)"
      ],
      "metadata": {
        "colab": {
          "base_uri": "https://localhost:8080/"
        },
        "id": "ZCH-sSsES-vG",
        "outputId": "794537b8-4fe7-4b81-ab3a-0f389bf65127"
      },
      "execution_count": 15,
      "outputs": [
        {
          "output_type": "stream",
          "name": "stdout",
          "text": [
            "[3.74511057e+00 1.14801980e+01 1.11044307e+01 6.18811881e-02\n",
            " 5.57355941e-01 6.26708168e+00 6.90106436e+01 3.74027079e+00\n",
            " 9.44059406e+00 4.05898515e+02 1.84759901e+01 3.54783168e+02\n",
            " 1.27408168e+01]\n"
          ]
        }
      ]
    },
    {
      "cell_type": "code",
      "source": [
        "train_data -= mean"
      ],
      "metadata": {
        "id": "WMBlHq5vTBFW"
      },
      "execution_count": 16,
      "outputs": []
    },
    {
      "cell_type": "code",
      "source": [
        "train_data.shape"
      ],
      "metadata": {
        "colab": {
          "base_uri": "https://localhost:8080/"
        },
        "id": "PRjRrqkpTDR5",
        "outputId": "9a2fe603-034f-45a9-a58a-63bae031aa31"
      },
      "execution_count": 17,
      "outputs": [
        {
          "output_type": "execute_result",
          "data": {
            "text/plain": [
              "(404, 13)"
            ]
          },
          "metadata": {},
          "execution_count": 17
        }
      ]
    },
    {
      "cell_type": "code",
      "source": [
        "std = train_data.std(axis = 0)\n",
        "train_data /= std\n"
      ],
      "metadata": {
        "id": "sF496N3WTEsd"
      },
      "execution_count": 18,
      "outputs": []
    },
    {
      "cell_type": "code",
      "source": [
        "test_data -= mean\n",
        "test_data /= std"
      ],
      "metadata": {
        "id": "ywvT7BNUTNFp"
      },
      "execution_count": 19,
      "outputs": []
    },
    {
      "cell_type": "code",
      "source": [
        "test_data.shape"
      ],
      "metadata": {
        "colab": {
          "base_uri": "https://localhost:8080/"
        },
        "id": "JW4gnzssTRc1",
        "outputId": "bda93160-4896-4efb-8297-c62c19c158e3"
      },
      "execution_count": 20,
      "outputs": [
        {
          "output_type": "execute_result",
          "data": {
            "text/plain": [
              "(102, 13)"
            ]
          },
          "metadata": {},
          "execution_count": 20
        }
      ]
    },
    {
      "cell_type": "code",
      "source": [
        "def build_model():\n",
        "  model = keras.Sequential([\n",
        "      layers.Dense(64, activation = \"relu\"),\n",
        "      layers.Dense(64, activation = \"relu\"),\n",
        "      layers.Dense(1)\n",
        "  ])\n",
        "\n",
        "  model.compile(\n",
        "      optimizer = \"rmsprop\",\n",
        "      loss = \"mse\",\n",
        "      metrics = [\"mae\"]\n",
        "  )\n",
        "\n",
        "  return model"
      ],
      "metadata": {
        "id": "7MZICvDPTSSW"
      },
      "execution_count": 21,
      "outputs": []
    },
    {
      "cell_type": "code",
      "source": [
        "# K-folds cross validation\n",
        "\n",
        "\n",
        "\"\"\"\n",
        "i = 0\n",
        "val_data[0:101]\n",
        "partial_train_data = train_data[101:]\n",
        "\n",
        "i = 1\n",
        "val_data[101:202]\n",
        "partial_train_data = train_data[0:101], train_data[202:]\n",
        "\n",
        "i = 2\n",
        "val_data[202:303]\n",
        "partial_train_data = train_data[:202], train_data[303:]\n",
        "\n",
        "i = 3\n",
        "val_data[303:404]\n",
        "partial_train_data = train_data[0:303], train_data[404:404]\n",
        "\n",
        "for each fold, model is trained for 100 epochs on training dataset\n",
        "\"\"\"\n",
        "k = 4\n",
        "num_val_samples = len(train_data) // 4\n",
        "num_epochs = 100\n",
        "all_scores = []\n",
        "print(len(train_data))\n",
        "print(num_val_samples)\n",
        "for i in range(k):\n",
        "  print(f\"Fold being processed: #{i}\")\n",
        "  val_data = train_data[i * num_val_samples: (i+1) * num_val_samples]\n",
        "  val_targets = train_targets[i * num_val_samples: (i+1) * num_val_samples]\n",
        "\n",
        "  partial_train_data = np.concatenate([train_data[: i * num_val_samples], train_data[(i+1) * num_val_samples: ]], axis = 0)\n",
        "  partial_train_targets = np.concatenate([train_targets[: i * num_val_samples], train_targets[(i+1) * num_val_samples:]], axis = 0)\n",
        "\n",
        "  model = build_model()\n",
        "\n",
        "  model.fit(partial_train_data, partial_train_targets, epochs = num_epochs, batch_size = 16, verbose = 0)\n",
        "\n",
        "  val_mse, val_mae = model.evaluate(val_data, val_targets, verbose = 0)\n",
        "\n",
        "  all_scores.append(val_mae)\n",
        "\n",
        "print(all_scores)\n",
        "print()\n",
        "print(np.mean(all_scores))"
      ],
      "metadata": {
        "colab": {
          "base_uri": "https://localhost:8080/"
        },
        "id": "KlyqyEfuTzN-",
        "outputId": "ff4cad9c-b41d-4095-d43e-c4fe95948fd1"
      },
      "execution_count": null,
      "outputs": [
        {
          "output_type": "stream",
          "name": "stdout",
          "text": [
            "404\n",
            "101\n",
            "Fold being processed: #0\n",
            "Fold being processed: #1\n",
            "Fold being processed: #2\n",
            "Fold being processed: #3\n",
            "[2.04693603515625, 2.4631247520446777, 2.446840763092041, 2.430683135986328]\n",
            "\n",
            "2.346896171569824\n"
          ]
        }
      ]
    },
    {
      "cell_type": "code",
      "source": [
        "print(train_targets.shape)\n",
        "print(type(train_targets))"
      ],
      "metadata": {
        "colab": {
          "base_uri": "https://localhost:8080/"
        },
        "id": "oQH-iq_epbkN",
        "outputId": "819decf6-16aa-4f9b-8459-87fa7a7afe9b"
      },
      "execution_count": null,
      "outputs": [
        {
          "output_type": "stream",
          "name": "stdout",
          "text": [
            "(404,)\n",
            "<class 'numpy.ndarray'>\n"
          ]
        }
      ]
    },
    {
      "cell_type": "code",
      "source": [
        "# Saving the validation log at each fold\n",
        "\n",
        "num_epochs = 500\n",
        "\n",
        "all_mae_histories = []\n",
        "\n",
        "for i in range(k):\n",
        "\n",
        "  val_data = train_data[i * num_val_samples: (i+1) * num_val_samples]\n",
        "  val_targets = train_targets[i * num_val_samples: (i+1) * num_val_samples]\n",
        "\n",
        "  partial_train_data = np.concatenate([train_data[: i * num_val_samples], train_data[(i+1)* num_val_samples:]], axis = 0)\n",
        "  partial_train_targets = np.concatenate([train_targets[: i* num_val_samples], train_targets[(i+1) * num_val_samples: ]], axis = 0)\n",
        "\n",
        "\n",
        "  print(f\"Fold {i}\")\n",
        "  #print(f\"val_data shape: {val_data.shape}\")\n",
        "  #print(f\"val_targets shape: {val_targets.shape}\")\n",
        "  #print(f\"partial_train_data shape: {partial_train_data.shape}\")\n",
        "  #print(f\"partial_train_targets shape: {partial_train_targets.shape}\")\n",
        "\n",
        "  model = build_model()\n",
        "  # 4 different models are trained for each i in k\n",
        "\n",
        "  history = model.fit(partial_train_data, partial_train_targets,\n",
        "                      batch_size=16, epochs = num_epochs,\n",
        "                      validation_data = (val_data, val_targets), verbose = 0)\n",
        "\n",
        "  # one list per fold containing per epoch values of val_mae\n",
        "  mae_history = history.history[\"val_mae\"] # validation MAE values recorded at the end of each epoch for this fold\n",
        "  # 4 folds and 500 epochs\n",
        "  # [\n",
        "  # [val_mae_epoch_0_fold_0, val_mae_epoch_1_fold_0, .., val_mae_epoch_499_fold_0],\n",
        "  # [val_mae_epoch_0_fold_1, val_mae_epoch_1_fold_1, ..., val_mae_epoch_499_fold_1],\n",
        "  #..\n",
        "  # [val_mae_epoch_0_fold_3, val_mae_epoch_1, fold_3, ..., val_mae_epoch_499_fold_3]\n",
        "  # ]\n",
        "  all_mae_histories.append(mae_history)\n"
      ],
      "metadata": {
        "id": "y_cBmAf1v0vo",
        "colab": {
          "base_uri": "https://localhost:8080/"
        },
        "outputId": "1f8887bc-7bbd-4f9f-95b5-7d5fddf684d3"
      },
      "execution_count": null,
      "outputs": [
        {
          "output_type": "stream",
          "name": "stdout",
          "text": [
            "Fold 0\n",
            "Fold 1\n",
            "Fold 2\n",
            "Fold 3\n"
          ]
        }
      ]
    },
    {
      "cell_type": "code",
      "source": [
        "# Average of the per-epoch MAE scores for all folds\n",
        "\n",
        "# extract the MAE at epoch i across all folds and then calculate the mean of those MAEs\n",
        "average_mae_history = [np.mean([x[i] for x in all_mae_histories]) for i in range(num_epochs)]\n",
        "# average validation MAE at each epoch i across all folds"
      ],
      "metadata": {
        "colab": {
          "base_uri": "https://localhost:8080/"
        },
        "id": "NlHys8pNroPU",
        "outputId": "fbd54a21-e614-488f-aff6-5947b44a3062"
      },
      "execution_count": null,
      "outputs": [
        {
          "output_type": "stream",
          "name": "stdout",
          "text": [
            "500\n"
          ]
        }
      ]
    },
    {
      "cell_type": "code",
      "source": [
        "plt.plot(range(1, len(average_mae_history) + 1), average_mae_history)\n",
        "plt.xlabel(\"Epochs\")\n",
        "plt.ylabel(\"Validation MAE\")\n",
        "plt.show()"
      ],
      "metadata": {
        "colab": {
          "base_uri": "https://localhost:8080/",
          "height": 451
        },
        "id": "KCmiYJPhvmu1",
        "outputId": "fb960cb4-3320-4ae1-d8b6-ba9ee702bbb7"
      },
      "execution_count": null,
      "outputs": [
        {
          "output_type": "display_data",
          "data": {
            "text/plain": [
              "<Figure size 640x480 with 1 Axes>"
            ],
            "image/png": "[encoded data removed]"
          },
          "metadata": {}
        }
      ]
    },
    {
      "cell_type": "code",
      "source": [
        "truncated_mae_history = average_mae_history[10:]\n",
        "plt.plot(range(1, len(truncated_mae_history) + 1), truncated_mae_history)\n",
        "plt.xlabel(\"Epochs\")\n",
        "plt.ylabel(\"Validation MAE\")\n",
        "plt.show()"
      ],
      "metadata": {
        "colab": {
          "base_uri": "https://localhost:8080/",
          "height": 449
        },
        "id": "XDMuxhrH0jmK",
        "outputId": "75457a56-cfca-42a8-ad3e-93b0444e40ef"
      },
      "execution_count": null,
      "outputs": [
        {
          "output_type": "display_data",
          "data": {
            "text/plain": [
              "<Figure size 640x480 with 1 Axes>"
            ],
            "image/png": "[encoded data removed]"
          },
          "metadata": {}
        }
      ]
    },
    {
      "cell_type": "code",
      "source": [
        "model = build_model()"
      ],
      "metadata": {
        "id": "6le4J1_E0-HT"
      },
      "execution_count": null,
      "outputs": []
    },
    {
      "cell_type": "code",
      "source": [
        "model.fit(train_data, train_targets, epochs = 130, batch_size = 16, verbose = 0)\n"
      ],
      "metadata": {
        "colab": {
          "base_uri": "https://localhost:8080/"
        },
        "id": "SPfZSwfi1NJk",
        "outputId": "b934f9c5-33a5-4b10-b041-564224e4339c"
      },
      "execution_count": null,
      "outputs": [
        {
          "output_type": "execute_result",
          "data": {
            "text/plain": [
              "<keras.src.callbacks.history.History at 0x7e212c083c10>"
            ]
          },
          "metadata": {},
          "execution_count": 75
        }
      ]
    },
    {
      "cell_type": "code",
      "source": [
        "test_mse_score, test_mae_score = model.evaluate(test_data, test_targets)"
      ],
      "metadata": {
        "colab": {
          "base_uri": "https://localhost:8080/"
        },
        "id": "bs5qXRk_1UZ2",
        "outputId": "942dc1f1-7c00-4daa-dbcc-a01a73a2943f"
      },
      "execution_count": null,
      "outputs": [
        {
          "output_type": "stream",
          "name": "stdout",
          "text": [
            "\u001b[1m4/4\u001b[0m \u001b[32m━━━━━━━━━━━━━━━━━━━━\u001b[0m\u001b[37m\u001b[0m \u001b[1m1s\u001b[0m 86ms/step - loss: 10.0764 - mae: 2.1625\n"
          ]
        }
      ]
    },
    {
      "cell_type": "code",
      "source": [
        "test_mae_score"
      ],
      "metadata": {
        "colab": {
          "base_uri": "https://localhost:8080/"
        },
        "id": "kuNFzdK41foK",
        "outputId": "621cc57f-1705-40ec-dce1-02ac8a876387"
      },
      "execution_count": null,
      "outputs": [
        {
          "output_type": "execute_result",
          "data": {
            "text/plain": [
              "2.3128552436828613"
            ]
          },
          "metadata": {},
          "execution_count": 77
        }
      ]
    },
    {
      "cell_type": "code",
      "source": [
        "predictions = model.predict(test_data)\n",
        "predictions[0]"
      ],
      "metadata": {
        "colab": {
          "base_uri": "https://localhost:8080/"
        },
        "id": "OIvVKg3w1h3m",
        "outputId": "9779c299-0fc1-45c7-bdba-32e498ff6a44"
      },
      "execution_count": null,
      "outputs": [
        {
          "output_type": "stream",
          "name": "stdout",
          "text": [
            "\u001b[1m4/4\u001b[0m \u001b[32m━━━━━━━━━━━━━━━━━━━━\u001b[0m\u001b[37m\u001b[0m \u001b[1m0s\u001b[0m 81ms/step\n"
          ]
        },
        {
          "output_type": "execute_result",
          "data": {
            "text/plain": [
              "array([7.6287036], dtype=float32)"
            ]
          },
          "metadata": {},
          "execution_count": 78
        }
      ]
    },
    {
      "cell_type": "code",
      "source": [],
      "metadata": {
        "id": "9Xg4iaGG1tQd"
      },
      "execution_count": null,
      "outputs": []
    }
  ]
}