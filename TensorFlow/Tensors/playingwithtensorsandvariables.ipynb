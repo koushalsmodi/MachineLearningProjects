{
  "nbformat": 4,
  "nbformat_minor": 0,
  "metadata": {
    "colab": {
      "provenance": [],
      "gpuType": "T4"
    },
    "kernelspec": {
      "name": "python3",
      "display_name": "Python 3"
    },
    "language_info": {
      "name": "python"
    },
    "accelerator": "GPU"
  },
  "cells": [
    {
      "cell_type": "code",
      "execution_count": 1,
      "metadata": {
        "id": "tyoQX49mjm5I"
      },
      "outputs": [],
      "source": [
        "import tensorflow as tf"
      ]
    },
    {
      "cell_type": "markdown",
      "source": [
        "All-ones and all-zeros"
      ],
      "metadata": {
        "id": "jbuSPfI_kIwX"
      }
    },
    {
      "cell_type": "code",
      "source": [
        "x = tf.ones(shape=(3,1))\n",
        "print(x)"
      ],
      "metadata": {
        "colab": {
          "base_uri": "https://localhost:8080/"
        },
        "id": "1Zr8DdatkKo7",
        "outputId": "92fed0f9-009d-429d-bfce-3d29f9c6c8dc"
      },
      "execution_count": 2,
      "outputs": [
        {
          "output_type": "stream",
          "name": "stdout",
          "text": [
            "tf.Tensor(\n",
            "[[1.]\n",
            " [1.]\n",
            " [1.]], shape=(3, 1), dtype=float32)\n"
          ]
        }
      ]
    },
    {
      "cell_type": "code",
      "source": [
        "x = tf.zeros(shape=(2,2))\n",
        "print(x)"
      ],
      "metadata": {
        "colab": {
          "base_uri": "https://localhost:8080/"
        },
        "id": "yRXNS0NSkMzz",
        "outputId": "052289b8-bf2f-45c7-d11e-86083a94ec66"
      },
      "execution_count": 3,
      "outputs": [
        {
          "output_type": "stream",
          "name": "stdout",
          "text": [
            "tf.Tensor(\n",
            "[[0. 0.]\n",
            " [0. 0.]], shape=(2, 2), dtype=float32)\n"
          ]
        }
      ]
    },
    {
      "cell_type": "markdown",
      "source": [
        "Random tensors"
      ],
      "metadata": {
        "id": "tR0UeF4fkSod"
      }
    },
    {
      "cell_type": "code",
      "source": [
        "x = tf.random.normal(shape=(4,2), mean = 0., stddev = 1.)\n",
        "print(x)"
      ],
      "metadata": {
        "colab": {
          "base_uri": "https://localhost:8080/"
        },
        "id": "V4E87Ao3kQeT",
        "outputId": "2c4a36c3-39fb-495c-b3d6-fea9a81bb3ce"
      },
      "execution_count": 4,
      "outputs": [
        {
          "output_type": "stream",
          "name": "stdout",
          "text": [
            "tf.Tensor(\n",
            "[[ 1.298685   -0.69093573]\n",
            " [-0.09203622 -0.777811  ]\n",
            " [ 0.3851274   1.2059399 ]\n",
            " [ 0.22359763  0.60690844]], shape=(4, 2), dtype=float32)\n"
          ]
        }
      ]
    },
    {
      "cell_type": "code",
      "source": [
        "x = tf.random.uniform(shape=(2,4), minval=0., maxval = 1.)\n",
        "print(x)"
      ],
      "metadata": {
        "colab": {
          "base_uri": "https://localhost:8080/"
        },
        "id": "OvhPY3zmkenM",
        "outputId": "717196b2-9514-4a7d-eb8b-b9fd9e41ba5d"
      },
      "execution_count": 5,
      "outputs": [
        {
          "output_type": "stream",
          "name": "stdout",
          "text": [
            "tf.Tensor(\n",
            "[[0.92243683 0.35930443 0.26914907 0.1349554 ]\n",
            " [0.09829843 0.7229626  0.19955397 0.8884442 ]], shape=(2, 4), dtype=float32)\n"
          ]
        }
      ]
    },
    {
      "cell_type": "markdown",
      "source": [
        "Numpy arrays are assignable while TensorFlow tensors are not assignable"
      ],
      "metadata": {
        "id": "88KDUmvuknrx"
      }
    },
    {
      "cell_type": "code",
      "source": [
        "import numpy as np\n",
        "x = np.ones(shape=(3,2))\n",
        "x[0,0] = 0\n",
        "print(x)"
      ],
      "metadata": {
        "colab": {
          "base_uri": "https://localhost:8080/"
        },
        "id": "xLyGo5bikmVT",
        "outputId": "779aa65a-4633-41e2-8eda-fcbf944a780d"
      },
      "execution_count": 8,
      "outputs": [
        {
          "output_type": "stream",
          "name": "stdout",
          "text": [
            "[[0. 1.]\n",
            " [1. 1.]\n",
            " [1. 1.]]\n"
          ]
        }
      ]
    },
    {
      "cell_type": "code",
      "source": [
        "x = tf.ones(shape=(3,2))\n",
        "x[0,0] = 0\n",
        "# TypeError: 'tensorflow.python.framework.ops.EagerTensor' object does not support item assignment"
      ],
      "metadata": {
        "id": "nGLbezUYkx40"
      },
      "execution_count": null,
      "outputs": []
    },
    {
      "cell_type": "markdown",
      "source": [
        "Creating a TensorFlow variable"
      ],
      "metadata": {
        "id": "rIsygCgyk9DC"
      }
    },
    {
      "cell_type": "code",
      "source": [
        "v = tf.Variable(initial_value=tf.random.normal(shape=(2,4)), mean = 0., stddev = 1.)\n",
        "print(v)"
      ],
      "metadata": {
        "colab": {
          "base_uri": "https://localhost:8080/"
        },
        "id": "JU60JjoIk1rO",
        "outputId": "1b96bd39-8c2f-4bb3-b72f-02bb1fb90d8b"
      },
      "execution_count": 11,
      "outputs": [
        {
          "output_type": "stream",
          "name": "stdout",
          "text": [
            "<tf.Variable 'Variable:0' shape=(2, 4) dtype=float32, numpy=\n",
            "array([[-0.8542245 , -0.45013875,  0.48726413,  1.5941863 ],\n",
            "       [ 0.90083516,  0.0554653 , -0.18633617, -0.43474144]],\n",
            "      dtype=float32)>\n"
          ]
        }
      ]
    },
    {
      "cell_type": "markdown",
      "source": [
        "Now, assigning a value to a TensorFlow is allowed"
      ],
      "metadata": {
        "id": "vErbzbCalRZL"
      }
    },
    {
      "cell_type": "code",
      "source": [
        "v.assign(tf.ones(shape=(2,4)))"
      ],
      "metadata": {
        "colab": {
          "base_uri": "https://localhost:8080/"
        },
        "id": "Bu9-79G5lJq-",
        "outputId": "1eb2dd77-b2e5-47bc-8ad5-2e568c28f364"
      },
      "execution_count": 12,
      "outputs": [
        {
          "output_type": "execute_result",
          "data": {
            "text/plain": [
              "<tf.Variable 'UnreadVariable' shape=(2, 4) dtype=float32, numpy=\n",
              "array([[1., 1., 1., 1.],\n",
              "       [1., 1., 1., 1.]], dtype=float32)>"
            ]
          },
          "metadata": {},
          "execution_count": 12
        }
      ]
    },
    {
      "cell_type": "markdown",
      "source": [
        "Assigning a value to a subset of TensorFlow variable"
      ],
      "metadata": {
        "id": "sTL74SvBlq56"
      }
    },
    {
      "cell_type": "code",
      "source": [
        "v[0,0].assign(5)\n",
        "print(v)"
      ],
      "metadata": {
        "colab": {
          "base_uri": "https://localhost:8080/"
        },
        "id": "BEETvjirlh7H",
        "outputId": "605dd86a-6b12-49fb-8e38-963f4a992eef"
      },
      "execution_count": 14,
      "outputs": [
        {
          "output_type": "stream",
          "name": "stdout",
          "text": [
            "<tf.Variable 'Variable:0' shape=(2, 4) dtype=float32, numpy=\n",
            "array([[5., 1., 1., 1.],\n",
            "       [1., 1., 1., 1.]], dtype=float32)>\n"
          ]
        }
      ]
    },
    {
      "cell_type": "markdown",
      "source": [
        "Using assign_add()"
      ],
      "metadata": {
        "id": "JN1SrucLlxPT"
      }
    },
    {
      "cell_type": "code",
      "source": [
        "v.assign_add(tf.ones((2,4)))"
      ],
      "metadata": {
        "colab": {
          "base_uri": "https://localhost:8080/"
        },
        "id": "lzB2aNs2lmds",
        "outputId": "9111e829-2bdc-496c-8d70-d6ec768c7300"
      },
      "execution_count": 18,
      "outputs": [
        {
          "output_type": "execute_result",
          "data": {
            "text/plain": [
              "<tf.Variable 'UnreadVariable' shape=(2, 4) dtype=float32, numpy=\n",
              "array([[6., 2., 2., 2.],\n",
              "       [2., 2., 2., 2.]], dtype=float32)>"
            ]
          },
          "metadata": {},
          "execution_count": 18
        }
      ]
    },
    {
      "cell_type": "markdown",
      "source": [
        "Gradient Tape advanced"
      ],
      "metadata": {
        "id": "OAkhg3ItmhFq"
      }
    },
    {
      "cell_type": "code",
      "source": [
        "input_var = tf.Variable(initial_value = 3.)\n",
        "with tf.GradientTape() as tape:\n",
        "  result = tf.square(input_var)\n",
        "gradient = tape.gradient(result, input_var)\n",
        "print(gradient)"
      ],
      "metadata": {
        "colab": {
          "base_uri": "https://localhost:8080/"
        },
        "id": "0YdLs8MXl2Ay",
        "outputId": "672572a2-96de-4e3e-cdf2-160b36ee953b"
      },
      "execution_count": 26,
      "outputs": [
        {
          "output_type": "stream",
          "name": "stdout",
          "text": [
            "tf.Tensor(6.0, shape=(), dtype=float32)\n"
          ]
        }
      ]
    },
    {
      "cell_type": "markdown",
      "source": [
        "Gradient Tape with constant tensors"
      ],
      "metadata": {
        "id": "TOekmD4Rm14F"
      }
    },
    {
      "cell_type": "code",
      "source": [
        "input_const = tf.constant(3.)\n",
        "with tf.GradientTape() as tape:\n",
        "  tape.watch(input_const)\n",
        "  result = tf.square(input_const)\n",
        "gradient = tape.gradient(result, input_const)\n",
        "print(gradient)"
      ],
      "metadata": {
        "colab": {
          "base_uri": "https://localhost:8080/"
        },
        "id": "4jvz_b2Smmh-",
        "outputId": "ac084006-9d64-4953-9cb1-58e875fcd308"
      },
      "execution_count": 27,
      "outputs": [
        {
          "output_type": "stream",
          "name": "stdout",
          "text": [
            "tf.Tensor(6.0, shape=(), dtype=float32)\n"
          ]
        }
      ]
    },
    {
      "cell_type": "markdown",
      "source": [
        "Using nested gradient tapes for second-order derivatives"
      ],
      "metadata": {
        "id": "rzhqLmranFn6"
      }
    },
    {
      "cell_type": "code",
      "source": [
        "time = tf.Variable(0.)\n",
        "with tf.GradientTape() as outer_tape:\n",
        "  with tf.GradientTape() as inner_tape:\n",
        "    position = 4.9 * time ** 2\n",
        "  speed = inner_tape.gradient(position, time)\n",
        "acceleration = outer_tape.gradient(speed, time)\n",
        "print(speed)\n",
        "print()\n",
        "print(acceleration)"
      ],
      "metadata": {
        "colab": {
          "base_uri": "https://localhost:8080/"
        },
        "id": "OcoXS6IsnAgA",
        "outputId": "75aca1cd-a0de-439d-c949-a1ff6f5652f5"
      },
      "execution_count": 30,
      "outputs": [
        {
          "output_type": "stream",
          "name": "stdout",
          "text": [
            "tf.Tensor(0.0, shape=(), dtype=float32)\n",
            "\n",
            "tf.Tensor(9.8, shape=(), dtype=float32)\n"
          ]
        }
      ]
    }
  ]
}