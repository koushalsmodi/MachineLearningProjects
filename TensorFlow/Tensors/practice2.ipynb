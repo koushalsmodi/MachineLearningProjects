{
  "nbformat": 4,
  "nbformat_minor": 0,
  "metadata": {
    "colab": {
      "provenance": []
    },
    "kernelspec": {
      "name": "python3",
      "display_name": "Python 3"
    },
    "language_info": {
      "name": "python"
    }
  },
  "cells": [
    {
      "cell_type": "code",
      "execution_count": 1,
      "metadata": {
        "id": "KtMNJjnbNJeV"
      },
      "outputs": [],
      "source": [
        "import tensorflow as tf"
      ]
    },
    {
      "cell_type": "code",
      "source": [
        "x = tf.Variable(0.)\n",
        "with tf.GradientTape() as tape:\n",
        "  y = 2 * x + 3\n",
        "grad_of_y_wrt_x = tape.gradient(y, x)\n",
        "print(grad_of_y_wrt_x)"
      ],
      "metadata": {
        "colab": {
          "base_uri": "https://localhost:8080/"
        },
        "id": "yMNbVzkfNd74",
        "outputId": "7ab5cb23-4a24-4046-a3b1-78d5108fe79b"
      },
      "execution_count": 3,
      "outputs": [
        {
          "output_type": "stream",
          "name": "stdout",
          "text": [
            "tf.Tensor(2.0, shape=(), dtype=float32)\n"
          ]
        }
      ]
    },
    {
      "cell_type": "code",
      "source": [
        "x = tf.Variable(tf.random.uniform((2,2)))\n",
        "with tf.GradientTape() as tape:\n",
        "  y = 2 * x + 3\n",
        "grad_of_y_wrt_x = tape.gradient(y, x)\n",
        "print(grad_of_y_wrt_x)"
      ],
      "metadata": {
        "colab": {
          "base_uri": "https://localhost:8080/"
        },
        "id": "KnCpBZ2mNlvY",
        "outputId": "a89e00d3-b485-4324-f29b-b0a86370f693"
      },
      "execution_count": 4,
      "outputs": [
        {
          "output_type": "stream",
          "name": "stdout",
          "text": [
            "tf.Tensor(\n",
            "[[2. 2.]\n",
            " [2. 2.]], shape=(2, 2), dtype=float32)\n"
          ]
        }
      ]
    },
    {
      "cell_type": "code",
      "source": [
        "W = tf.Variable(tf.random.uniform((2,2)))\n",
        "b = tf.Variable(tf.zeros((2,)))\n",
        "x = tf.random.uniform((2,2))\n",
        "\n",
        "with tf.GradientTape() as tape:\n",
        "  y = tf.matmul(x, W) + b\n",
        "\n",
        "grad_of_y_wrt_W_and_b = tape.gradient(y, [W, b])\n",
        "print(grad_of_y_wrt_W_and_b[0])\n",
        "print()\n",
        "print(grad_of_y_wrt_W_and_b[1])"
      ],
      "metadata": {
        "colab": {
          "base_uri": "https://localhost:8080/"
        },
        "id": "S5dHJM6rNznX",
        "outputId": "7efcee71-5279-4f60-cba1-b7ae22880c54"
      },
      "execution_count": 6,
      "outputs": [
        {
          "output_type": "stream",
          "name": "stdout",
          "text": [
            "tf.Tensor(\n",
            "[[0.23850584 0.23850584]\n",
            " [1.153277   1.153277  ]], shape=(2, 2), dtype=float32)\n",
            "\n",
            "tf.Tensor([2. 2.], shape=(2,), dtype=float32)\n"
          ]
        }
      ]
    },
    {
      "cell_type": "code",
      "source": [
        "# Dense Class\n",
        "# Sequential Class\n",
        "# Batch Generator Class\n",
        "# one training step\n",
        "# update weights\n",
        "# one full training loop\n",
        "# model predictions\n",
        "import matplotlib.pyplot as plt\n",
        "import math\n",
        "\n",
        "class NaiveDense:\n",
        "  def __init__(self, input_size, output_size, activation):\n",
        "    self.activation = activation\n",
        "\n",
        "    w_shape = (input_size, output_size)\n",
        "    w_initial_value = tf.random.uniform(shape=w_shape, minval=0, maxval=1e-1)\n",
        "    self.W = tf.Variable(w_initial_value)\n",
        "\n",
        "    b_shape = (output_size, )\n",
        "    b_initial_value = tf.zeros(b_shape)\n",
        "    self.b = tf.Variable(b_initial_value)\n",
        "\n",
        "  def __call__(self, inputs):\n",
        "    return self.activation(tf.matmul(inputs, self.W) + self.b)\n",
        "\n",
        "  @property\n",
        "  def weights(self):\n",
        "    return [self.W, self.b]\n",
        "\n",
        "class NaiveSequential:\n",
        "\n",
        "  def __init__(self, layers):\n",
        "    self.layers = layers\n",
        "\n",
        "  def __call__(self, inputs):\n",
        "    x = inputs\n",
        "    for layer in self.layers:\n",
        "      x = layer(x)\n",
        "\n",
        "    return x\n",
        "\n",
        "  @property\n",
        "  def weights(self):\n",
        "    weights = []\n",
        "    for layer in self.layers:\n",
        "      weights += layer.weights\n",
        "    return weights\n",
        "\n",
        "model = NaiveSequential( [\n",
        "    NaiveDense(input_size=28*28, output_size=512, activation = tf.nn.relu),\n",
        "    NaiveDense(input_size=512, output_size=10, activation = tf.nn.softmax)\n",
        "])\n",
        "\n",
        "class BatchGenerator:\n",
        "  def __init__(self, images, labels, batch_size=128):\n",
        "    assert len(images) == len(labels)\n",
        "    self.index = 0\n",
        "    self.images = images\n",
        "    self.labels = labels\n",
        "    self.batch_size = batch_size\n",
        "    self.num_batches = math.ceil(len(images) / batch_size)\n",
        "\n",
        "  def next(self):\n",
        "    images = self.images[self.index: self.index + self.batch_size]\n",
        "    labels = self.labels[self.index: self.index + self.batch_size]\n",
        "    self.index += self.batch_size\n",
        "    return images, labels\n",
        "\n",
        "def one_training_step(model, images_batch, labels_batch):\n",
        "  with tf.GradientTape() as tape:\n",
        "    predictions = model(images_batch)\n",
        "    per_sample_loss = tf.keras.losses.sparse_categorical_crossentropy(labels_batch, predictions)\n",
        "    average_loss = tf.reduce_mean(per_sample_loss)\n",
        "\n",
        "  gradients  = tape.gradient(average_loss, model.weights)\n",
        "  update_weights(gradients, model.weights)\n",
        "  return average_loss\n",
        "\n",
        "\n",
        "learning_rate = 1e-3\n",
        "def update_weights(gradients, weights):\n",
        "  for g, w in zip(gradients, weights):\n",
        "    w.assign_sub(g*learning_rate)\n",
        "\n",
        "\n",
        "def fit(model, images, labels, epochs, batch_size=128):\n",
        "  for epoch_counter in range(epochs):\n",
        "    print(f'epoch: {epoch_counter}')\n",
        "\n",
        "    batch_generator = BatchGenerator(images, labels)\n",
        "    for batch_counter in range(batch_generator.num_batches):\n",
        "      images_batch, labels_batch = batch_generator.next()\n",
        "      loss = one_training_step(model, images_batch, labels_batch)\n",
        "      if batch_counter % 100 == 0:\n",
        "        print(f\"loss at {batch_counter}: {loss: .2f}\")\n",
        "\n",
        "from tensorflow.keras.datasets import mnist\n",
        "(train_images, train_labels), (test_images, test_labels) = mnist.load_data()\n",
        "\n",
        "train_images = train_images.reshape((60000, 28*28))\n",
        "train_images = train_images.astype('float32') / 255\n",
        "test_images = test_images.reshape((10000, 28*28))\n",
        "test_images = test_images.astype('float32') / 255\n",
        "\n",
        "fit(model, train_images, train_labels, epochs= 10, batch_size=128)\n",
        "\n",
        "import numpy as np\n",
        "\n",
        "predictions = model(test_images)\n",
        "predictions = predictions.numpy()\n",
        "predicted_labels = np.argmax(predictions, axis = 1)\n",
        "matches = test_labels == predicted_labels\n",
        "print(f\"accuracy: {matches.mean():.2f}\")\n"
      ],
      "metadata": {
        "colab": {
          "base_uri": "https://localhost:8080/"
        },
        "id": "7nlXxG1CUY7n",
        "outputId": "73f114dd-5e92-4bdd-b1b9-1bb25142363a"
      },
      "execution_count": 40,
      "outputs": [
        {
          "output_type": "stream",
          "name": "stdout",
          "text": [
            "epoch: 0\n",
            "loss at 0:  6.47\n",
            "loss at 100:  2.22\n",
            "loss at 200:  2.19\n",
            "loss at 300:  2.07\n",
            "loss at 400:  2.21\n",
            "epoch: 1\n",
            "loss at 0:  1.90\n",
            "loss at 100:  1.86\n",
            "loss at 200:  1.80\n",
            "loss at 300:  1.70\n",
            "loss at 400:  1.82\n",
            "epoch: 2\n",
            "loss at 0:  1.58\n",
            "loss at 100:  1.56\n",
            "loss at 200:  1.48\n",
            "loss at 300:  1.41\n",
            "loss at 400:  1.50\n",
            "epoch: 3\n",
            "loss at 0:  1.32\n",
            "loss at 100:  1.32\n",
            "loss at 200:  1.22\n",
            "loss at 300:  1.20\n",
            "loss at 400:  1.26\n",
            "epoch: 4\n",
            "loss at 0:  1.13\n",
            "loss at 100:  1.15\n",
            "loss at 200:  1.02\n",
            "loss at 300:  1.04\n",
            "loss at 400:  1.10\n",
            "epoch: 5\n",
            "loss at 0:  0.98\n",
            "loss at 100:  1.01\n",
            "loss at 200:  0.89\n",
            "loss at 300:  0.92\n",
            "loss at 400:  0.98\n",
            "epoch: 6\n",
            "loss at 0:  0.88\n",
            "loss at 100:  0.90\n",
            "loss at 200:  0.79\n",
            "loss at 300:  0.84\n",
            "loss at 400:  0.89\n",
            "epoch: 7\n",
            "loss at 0:  0.80\n",
            "loss at 100:  0.82\n",
            "loss at 200:  0.71\n",
            "loss at 300:  0.77\n",
            "loss at 400:  0.83\n",
            "epoch: 8\n",
            "loss at 0:  0.73\n",
            "loss at 100:  0.75\n",
            "loss at 200:  0.65\n",
            "loss at 300:  0.71\n",
            "loss at 400:  0.77\n",
            "epoch: 9\n",
            "loss at 0:  0.68\n",
            "loss at 100:  0.70\n",
            "loss at 200:  0.60\n",
            "loss at 300:  0.67\n",
            "loss at 400:  0.73\n",
            "accuracy: 0.81\n"
          ]
        }
      ]
    },
    {
      "cell_type": "code",
      "source": [],
      "metadata": {
        "id": "Qr3RkfauZhkT"
      },
      "execution_count": null,
      "outputs": []
    }
  ]
}