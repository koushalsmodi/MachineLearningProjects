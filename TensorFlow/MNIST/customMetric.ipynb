{
  "nbformat": 4,
  "nbformat_minor": 0,
  "metadata": {
    "colab": {
      "provenance": []
    },
    "kernelspec": {
      "name": "python3",
      "display_name": "Python 3"
    },
    "language_info": {
      "name": "python"
    }
  },
  "cells": [
    {
      "cell_type": "code",
      "execution_count": 3,
      "metadata": {
        "id": "gl_O3QIw2gxG"
      },
      "outputs": [],
      "source": [
        "import tensorflow as tf\n",
        "from tensorflow.keras import layers\n",
        "from tensorflow import keras\n",
        "from tensorflow.keras.datasets import mnist"
      ]
    },
    {
      "cell_type": "code",
      "source": [
        "def get_mnist_model():\n",
        "  inputs = keras.Input(shape= (28*28,))\n",
        "  features = layers.Dense(512, activation = \"relu\")(inputs)\n",
        "  features = layers.Dropout(0.5)(features)\n",
        "  outputs = layers.Dense(10, activation = \"softmax\")(features)\n",
        "  model = keras.Model(inputs, outputs)\n",
        "  return model"
      ],
      "metadata": {
        "id": "11vMJtBD2l9l"
      },
      "execution_count": 17,
      "outputs": []
    },
    {
      "cell_type": "code",
      "source": [
        "(images, labels), (test_images, test_labels) = mnist.load_data()"
      ],
      "metadata": {
        "id": "-Ij2gy8r3Day"
      },
      "execution_count": 18,
      "outputs": []
    },
    {
      "cell_type": "code",
      "source": [
        "images.shape"
      ],
      "metadata": {
        "colab": {
          "base_uri": "https://localhost:8080/"
        },
        "id": "8WjVIA5D3IOU",
        "outputId": "42260fd4-e2b7-435b-ceb6-ab6947f6379d"
      },
      "execution_count": 19,
      "outputs": [
        {
          "output_type": "execute_result",
          "data": {
            "text/plain": [
              "(60000, 28, 28)"
            ]
          },
          "metadata": {},
          "execution_count": 19
        }
      ]
    },
    {
      "cell_type": "code",
      "source": [
        "images = images.reshape((60000, 28*28)).astype(\"float32\")/255\n",
        "test_images = test_images.reshape((10000, 28*28)).astype(\"float32\")/255\n",
        "train_images, val_images = images[10000:], images[:10000]\n",
        "train_labels, val_labels = labels[10000:], labels[:10000]"
      ],
      "metadata": {
        "id": "yX79p7Hw3Pib"
      },
      "execution_count": 20,
      "outputs": []
    },
    {
      "cell_type": "code",
      "source": [
        "model = get_mnist_model()\n",
        "model.compile(optimizer = \"rmsprop\", loss = \"sparse_categorical_crossentropy\", metrics = [\"accuracy\"])\n",
        "model.fit(train_images, train_labels, epochs = 3, validation_data=(val_images, val_labels))"
      ],
      "metadata": {
        "colab": {
          "base_uri": "https://localhost:8080/"
        },
        "id": "UjaR9qKd3Wlc",
        "outputId": "2e0e0d18-dabe-484f-c2cd-3b70932421a2"
      },
      "execution_count": 22,
      "outputs": [
        {
          "output_type": "stream",
          "name": "stdout",
          "text": [
            "Epoch 1/3\n",
            "\u001b[1m1563/1563\u001b[0m \u001b[32m━━━━━━━━━━━━━━━━━━━━\u001b[0m\u001b[37m\u001b[0m \u001b[1m9s\u001b[0m 5ms/step - accuracy: 0.8656 - loss: 0.4421 - val_accuracy: 0.9567 - val_loss: 0.1485\n",
            "Epoch 2/3\n",
            "\u001b[1m1563/1563\u001b[0m \u001b[32m━━━━━━━━━━━━━━━━━━━━\u001b[0m\u001b[37m\u001b[0m \u001b[1m9s\u001b[0m 4ms/step - accuracy: 0.9504 - loss: 0.1685 - val_accuracy: 0.9655 - val_loss: 0.1254\n",
            "Epoch 3/3\n",
            "\u001b[1m1563/1563\u001b[0m \u001b[32m━━━━━━━━━━━━━━━━━━━━\u001b[0m\u001b[37m\u001b[0m \u001b[1m11s\u001b[0m 5ms/step - accuracy: 0.9621 - loss: 0.1353 - val_accuracy: 0.9726 - val_loss: 0.1039\n"
          ]
        },
        {
          "output_type": "execute_result",
          "data": {
            "text/plain": [
              "<keras.src.callbacks.history.History at 0x7ad1fdec2210>"
            ]
          },
          "metadata": {},
          "execution_count": 22
        }
      ]
    },
    {
      "cell_type": "code",
      "source": [
        "test_metrics = model.evaluate(val_images, val_labels)\n",
        "print(test_metrics)"
      ],
      "metadata": {
        "colab": {
          "base_uri": "https://localhost:8080/"
        },
        "id": "cGEf807v3jsg",
        "outputId": "2b809e76-9096-4c88-d2cc-0d1d6bc25931"
      },
      "execution_count": 23,
      "outputs": [
        {
          "output_type": "stream",
          "name": "stdout",
          "text": [
            "\u001b[1m313/313\u001b[0m \u001b[32m━━━━━━━━━━━━━━━━━━━━\u001b[0m\u001b[37m\u001b[0m \u001b[1m1s\u001b[0m 2ms/step - accuracy: 0.9738 - loss: 0.1038\n"
          ]
        }
      ]
    },
    {
      "cell_type": "code",
      "source": [
        "test_metrics"
      ],
      "metadata": {
        "colab": {
          "base_uri": "https://localhost:8080/"
        },
        "id": "tVw3xIJw4TWZ",
        "outputId": "99bf827b-3fb3-441f-c57c-8d1182bf3fab"
      },
      "execution_count": 25,
      "outputs": [
        {
          "output_type": "execute_result",
          "data": {
            "text/plain": [
              "[0.10392927378416061, 0.972599983215332]"
            ]
          },
          "metadata": {},
          "execution_count": 25
        }
      ]
    },
    {
      "cell_type": "code",
      "source": [
        "predictions = model.predict(test_images)"
      ],
      "metadata": {
        "colab": {
          "base_uri": "https://localhost:8080/"
        },
        "id": "JM20P7aM4MU3",
        "outputId": "02e91c51-9790-467a-c0c7-91b16efc57af"
      },
      "execution_count": 24,
      "outputs": [
        {
          "output_type": "stream",
          "name": "stdout",
          "text": [
            "\u001b[1m313/313\u001b[0m \u001b[32m━━━━━━━━━━━━━━━━━━━━\u001b[0m\u001b[37m\u001b[0m \u001b[1m0s\u001b[0m 1ms/step\n"
          ]
        }
      ]
    },
    {
      "cell_type": "code",
      "source": [
        "## Customize the worflow:\n",
        "# Custom metrics"
      ],
      "metadata": {
        "id": "k27o7H6r4arI"
      },
      "execution_count": 26,
      "outputs": []
    },
    {
      "cell_type": "code",
      "source": [
        "class RootMeanSquaredError(keras.metrics.Metric):\n",
        "  # State variables in constructor\n",
        "  def __init__(self, name = \"rmsse\", **kwargs):\n",
        "    super().__init__(name = name, **kwargs)\n",
        "    self.mse_sum = self.add_weight(name = \"mse_sum\", initializer = \"zeros\")\n",
        "    self.total_samples = self.add_weight(name = \"total_samples\", initializer = \"zeros\", dtype = \"int32\")\n",
        "\n",
        "  # logic is implemented in update_state\n",
        "  def update_state(self, y_true, y_pred, sample_weight = None):\n",
        "    y_true = tf.one_hot(y_true, depth = tf.shape(y_pred)[1])\n",
        "    mse = tf.reduce_sum(tf.square(y_true - y_pred)) # sum of squared residuals\n",
        "    self.mse_sum.assign_add(mse)\n",
        "    num_samples = tf.shape(y_pred)[0]\n",
        "    self.total_samples.assign_add(num_samples)\n",
        "\n",
        "  # current value of metric\n",
        "  def result(self):\n",
        "    return tf.sqrt(self.mse_sum / tf.cast(self.total_samples, tf.float32))\n",
        "\n",
        "  def reset_state(self):\n",
        "    self.mse_sum.assign(0.)\n",
        "    self.total_samples.assign(0)\n"
      ],
      "metadata": {
        "id": "J3KKAdsS4e41"
      },
      "execution_count": 30,
      "outputs": []
    },
    {
      "cell_type": "code",
      "source": [
        "model = get_mnist_model()\n",
        "model.compile(optimizer = \"rmsprop\", loss = \"sparse_categorical_crossentropy\", metrics = [\"accuracy\", RootMeanSquaredError()])\n",
        "model.fit(train_images, train_labels, epochs = 3, validation_data = (val_images, val_labels))\n",
        "test_metrics = model.evaluate(test_images, test_labels)"
      ],
      "metadata": {
        "colab": {
          "base_uri": "https://localhost:8080/"
        },
        "id": "HLtY7UUJ5hqf",
        "outputId": "712a3cf9-db82-46cc-c4fc-7622a3e593c7"
      },
      "execution_count": 31,
      "outputs": [
        {
          "output_type": "stream",
          "name": "stdout",
          "text": [
            "Epoch 1/3\n",
            "\u001b[1m1563/1563\u001b[0m \u001b[32m━━━━━━━━━━━━━━━━━━━━\u001b[0m\u001b[37m\u001b[0m \u001b[1m8s\u001b[0m 5ms/step - accuracy: 0.8634 - loss: 0.4537 - rmsse: 0.4401 - val_accuracy: 0.9591 - val_loss: 0.1423 - val_rmsse: 0.2511\n",
            "Epoch 2/3\n",
            "\u001b[1m1563/1563\u001b[0m \u001b[32m━━━━━━━━━━━━━━━━━━━━\u001b[0m\u001b[37m\u001b[0m \u001b[1m10s\u001b[0m 5ms/step - accuracy: 0.9531 - loss: 0.1659 - rmsse: 0.2702 - val_accuracy: 0.9682 - val_loss: 0.1088 - val_rmsse: 0.2163\n",
            "Epoch 3/3\n",
            "\u001b[1m1563/1563\u001b[0m \u001b[32m━━━━━━━━━━━━━━━━━━━━\u001b[0m\u001b[37m\u001b[0m \u001b[1m10s\u001b[0m 5ms/step - accuracy: 0.9628 - loss: 0.1322 - rmsse: 0.2391 - val_accuracy: 0.9732 - val_loss: 0.0997 - val_rmsse: 0.2032\n",
            "\u001b[1m313/313\u001b[0m \u001b[32m━━━━━━━━━━━━━━━━━━━━\u001b[0m\u001b[37m\u001b[0m \u001b[1m1s\u001b[0m 2ms/step - accuracy: 0.9697 - loss: 0.1108 - rmsse: 0.2157\n"
          ]
        }
      ]
    },
    {
      "cell_type": "code",
      "source": [],
      "metadata": {
        "id": "vRV_g-mI6kR8"
      },
      "execution_count": null,
      "outputs": []
    }
  ]
}