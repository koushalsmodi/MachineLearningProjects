{
  "nbformat": 4,
  "nbformat_minor": 0,
  "metadata": {
    "colab": {
      "provenance": [],
      "gpuType": "T4"
    },
    "kernelspec": {
      "name": "python3",
      "display_name": "Python 3"
    },
    "language_info": {
      "name": "python"
    },
    "accelerator": "GPU"
  },
  "cells": [
    {
      "cell_type": "code",
      "execution_count": 29,
      "metadata": {
        "id": "CezYT1vK6g7t"
      },
      "outputs": [],
      "source": [
        "import numpy as np\n",
        "# Tensor is a container of numerical data (majorly) and has 3 key attributes: ndim, shape, and dtype"
      ]
    },
    {
      "cell_type": "code",
      "source": [
        "# Scalar: rank 0 tensor\n",
        "x = np.array(22)\n",
        "print(x.ndim)\n",
        "print(x.shape)\n",
        "print(x.dtype)"
      ],
      "metadata": {
        "colab": {
          "base_uri": "https://localhost:8080/"
        },
        "id": "BRCJtBh-lAAt",
        "outputId": "ba5c50b6-6406-4293-8aa1-3bd5afa953b7"
      },
      "execution_count": 30,
      "outputs": [
        {
          "output_type": "stream",
          "name": "stdout",
          "text": [
            "0\n",
            "()\n",
            "int64\n"
          ]
        }
      ]
    },
    {
      "cell_type": "code",
      "source": [
        "# Vector: rank 1 tensor\n",
        "x = np.array([4, 1, 2, 7])\n",
        "print(x.ndim)\n",
        "print(x.shape)\n",
        "print(x.dtype)"
      ],
      "metadata": {
        "colab": {
          "base_uri": "https://localhost:8080/"
        },
        "id": "B9ijaS5ilKDb",
        "outputId": "e7536be9-a9d8-411c-b378-e2b11a4858ba"
      },
      "execution_count": 31,
      "outputs": [
        {
          "output_type": "stream",
          "name": "stdout",
          "text": [
            "1\n",
            "(4,)\n",
            "int64\n"
          ]
        }
      ]
    },
    {
      "cell_type": "code",
      "source": [
        "# Matrix: rank 2 tensor\n",
        "x = np.array(\n",
        "    [\n",
        "        [4,5,6,8,10],\n",
        "        [1, 2, 4, 7,6],\n",
        "        [3,6,9,12, 21]\n",
        "     ]\n",
        ")\n",
        "\n",
        "print(x.ndim)\n",
        "print(x.shape)\n",
        "print(x.dtype)"
      ],
      "metadata": {
        "colab": {
          "base_uri": "https://localhost:8080/"
        },
        "id": "nDOu2GlJlYpR",
        "outputId": "11b50e01-6f85-4b0f-de66-ed4902a44047"
      },
      "execution_count": 32,
      "outputs": [
        {
          "output_type": "stream",
          "name": "stdout",
          "text": [
            "2\n",
            "(3, 5)\n",
            "int64\n"
          ]
        }
      ]
    },
    {
      "cell_type": "code",
      "source": [
        "# Rank 3 or more tensors\n",
        "x = np.array([\n",
        "    [\n",
        "        [4,5,6,8,10],\n",
        "        [1, 2, 4, 7,6],\n",
        "        [3,6,9,12, 21]\n",
        "    ],\n",
        "\n",
        "    [\n",
        "        [4,5,6,8,10],\n",
        "        [1, 2, 4, 7,6],\n",
        "        [3,6,9,12, 21]\n",
        "    ],\n",
        "\n",
        "    [\n",
        "        [4,5,6,8,10],\n",
        "        [1, 2, 4, 7,6],\n",
        "        [3,6,9,12, 21]\n",
        "    ]\n",
        "])\n",
        "print(x.ndim)\n",
        "print(x.shape)\n",
        "print(x.dtype)"
      ],
      "metadata": {
        "colab": {
          "base_uri": "https://localhost:8080/"
        },
        "id": "_0jgzE30lted",
        "outputId": "1254981d-2d02-4eed-9d42-2cadd12eb742"
      },
      "execution_count": 33,
      "outputs": [
        {
          "output_type": "stream",
          "name": "stdout",
          "text": [
            "3\n",
            "(3, 3, 5)\n",
            "int64\n"
          ]
        }
      ]
    },
    {
      "cell_type": "code",
      "source": [
        "from tensorflow.keras.datasets import mnist\n",
        "(train_images, train_labels), (test_images, test_labels) = mnist.load_data()"
      ],
      "metadata": {
        "id": "hc_JVVremCg7"
      },
      "execution_count": 34,
      "outputs": []
    },
    {
      "cell_type": "code",
      "source": [
        "print(train_images.ndim)\n",
        "print(train_images.shape)\n",
        "print(train_images.dtype)"
      ],
      "metadata": {
        "colab": {
          "base_uri": "https://localhost:8080/"
        },
        "id": "ZZ0PSGsumhbk",
        "outputId": "53067365-8f23-4ffc-9bae-57577ac14068"
      },
      "execution_count": 35,
      "outputs": [
        {
          "output_type": "stream",
          "name": "stdout",
          "text": [
            "3\n",
            "(60000, 28, 28)\n",
            "uint8\n"
          ]
        }
      ]
    },
    {
      "cell_type": "code",
      "source": [
        "import matplotlib.pyplot as plt\n",
        "digit = train_images[24]\n",
        "\n",
        "plt.imshow(digit, cmap = plt.cm.binary)\n",
        "plt.show()"
      ],
      "metadata": {
        "colab": {
          "base_uri": "https://localhost:8080/",
          "height": 430
        },
        "id": "StZdHmWYmj9Y",
        "outputId": "dcfa8dab-4524-41e5-a64c-887cac6efb93"
      },
      "execution_count": 36,
      "outputs": [
        {
          "output_type": "display_data",
          "data": {
            "text/plain": [
              "<Figure size 640x480 with 1 Axes>"
            ],
            "image/png": "[encoded data removed]"
          },
          "metadata": {}
        }
      ]
    },
    {
      "cell_type": "code",
      "source": [
        "train_labels[24]"
      ],
      "metadata": {
        "colab": {
          "base_uri": "https://localhost:8080/"
        },
        "id": "y6VW0ff-mwIx",
        "outputId": "a0e6e19a-abed-43f3-bd15-dcb5e32f218d"
      },
      "execution_count": 37,
      "outputs": [
        {
          "output_type": "execute_result",
          "data": {
            "text/plain": [
              "np.uint8(1)"
            ]
          },
          "metadata": {},
          "execution_count": 37
        }
      ]
    },
    {
      "cell_type": "code",
      "source": [
        "# Tensor slicing\n",
        "\n",
        "my_slice = train_images[10:100]\n",
        "print(my_slice.shape)"
      ],
      "metadata": {
        "colab": {
          "base_uri": "https://localhost:8080/"
        },
        "id": "W0LshD6sm67v",
        "outputId": "eefb6ca9-db97-4909-8168-08849dd9ad2f"
      },
      "execution_count": 38,
      "outputs": [
        {
          "output_type": "stream",
          "name": "stdout",
          "text": [
            "(90, 28, 28)\n"
          ]
        }
      ]
    },
    {
      "cell_type": "code",
      "source": [
        "my_slice = train_images[10:100, :, :]\n",
        "print(my_slice.shape)"
      ],
      "metadata": {
        "colab": {
          "base_uri": "https://localhost:8080/"
        },
        "id": "16BSJLqynBWS",
        "outputId": "4b3f3d7f-9153-4077-c67a-e655e0e1b8f0"
      },
      "execution_count": 39,
      "outputs": [
        {
          "output_type": "stream",
          "name": "stdout",
          "text": [
            "(90, 28, 28)\n"
          ]
        }
      ]
    },
    {
      "cell_type": "code",
      "source": [
        "my_slice = train_images[10:100, 0:28, 0:28]\n",
        "print(my_slice.shape)"
      ],
      "metadata": {
        "colab": {
          "base_uri": "https://localhost:8080/"
        },
        "id": "JWp88_P0nEiS",
        "outputId": "bdf74dcc-b742-4da4-eb37-939465c7c033"
      },
      "execution_count": 40,
      "outputs": [
        {
          "output_type": "stream",
          "name": "stdout",
          "text": [
            "(90, 28, 28)\n"
          ]
        }
      ]
    },
    {
      "cell_type": "code",
      "source": [
        "my_slice = train_images[:, 14:, 14:]\n",
        "print(my_slice.shape)"
      ],
      "metadata": {
        "colab": {
          "base_uri": "https://localhost:8080/"
        },
        "id": "wSZIHrqCnJ0t",
        "outputId": "4fc852b3-c76f-4f01-e484-b1935c6951d1"
      },
      "execution_count": 41,
      "outputs": [
        {
          "output_type": "stream",
          "name": "stdout",
          "text": [
            "(60000, 14, 14)\n"
          ]
        }
      ]
    },
    {
      "cell_type": "code",
      "source": [
        "# Crop in middle\n",
        "my_slice = train_images[:, 7:-7, 7:-7]\n",
        "print(my_slice.shape)"
      ],
      "metadata": {
        "colab": {
          "base_uri": "https://localhost:8080/"
        },
        "id": "FSwpzd4qnP3_",
        "outputId": "d5701f89-fe14-4b90-9a3d-1cbc46c99c6a"
      },
      "execution_count": 42,
      "outputs": [
        {
          "output_type": "stream",
          "name": "stdout",
          "text": [
            "(60000, 14, 14)\n"
          ]
        }
      ]
    },
    {
      "cell_type": "code",
      "source": [
        "# batch dimension = axis 0\n",
        "batch = train_images[:128]\n",
        "batch = train_images[128:256]\n",
        "\n",
        "n = 2\n",
        "# nth batch\n",
        "batch = train_images[128 * n: 128 * (n+1)]\n",
        "print(batch.shape)"
      ],
      "metadata": {
        "colab": {
          "base_uri": "https://localhost:8080/"
        },
        "id": "aMxg66PSnY9j",
        "outputId": "eb09872a-a497-4353-aa38-2c630ca7de85"
      },
      "execution_count": 43,
      "outputs": [
        {
          "output_type": "stream",
          "name": "stdout",
          "text": [
            "(128, 28, 28)\n"
          ]
        }
      ]
    },
    {
      "cell_type": "code",
      "source": [
        "# Real world examples\n",
        "\n",
        "# Vector data (Rank 2): (samples, features)\n",
        "# age, gender, income -> (100000, 3)\n",
        "\n",
        "# Timeseries data (Rank 3): (samples, timesteps, features)\n",
        "# days, minutes in a day, (current stock price, max stock price in past minute, lowest stock price in past minute) -> (250, 390, 3)\n",
        "\n",
        "# Images data (Rank 4): (samples, height, width, channels)\n",
        "# a batch of 128 color images -> (128, 256, 256, 3)\n",
        "\n",
        "# Video data (Rank 5): (samples, frames, height, width, channels)\n",
        "# a 60-second, 144*256 YouTube video clip , sampled at 4 frames per second and a batch of 4 such video clips -> (4, 240, 144, 256, 3)"
      ],
      "metadata": {
        "id": "4rOYjoFYnv4l"
      },
      "execution_count": 44,
      "outputs": []
    }
  ]
}