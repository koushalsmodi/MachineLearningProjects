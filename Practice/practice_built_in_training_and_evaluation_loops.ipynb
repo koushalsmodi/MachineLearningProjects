{
  "nbformat": 4,
  "nbformat_minor": 0,
  "metadata": {
    "colab": {
      "provenance": []
    },
    "kernelspec": {
      "name": "python3",
      "display_name": "Python 3"
    },
    "language_info": {
      "name": "python"
    }
  },
  "cells": [
    {
      "cell_type": "code",
      "execution_count": 1,
      "metadata": {
        "id": "j9LsWfrT0--N"
      },
      "outputs": [],
      "source": [
        "# The standard workflow: compile(), fit(), evaluate(), predict()\n",
        "import tensorflow as tf\n",
        "from tensorflow import keras\n",
        "from tensorflow.keras import layers"
      ]
    },
    {
      "cell_type": "code",
      "source": [
        "from tensorflow.keras.datasets import mnist\n",
        "\n",
        "def get_mnist_model():\n",
        "  inputs = keras.Input(shape = (28*28, ))\n",
        "  features = layers.Dense(512, activation = \"relu\")(inputs)\n",
        "  features = layers.Dropout(0.5)(features)\n",
        "  outputs = layers.Dense(10, activation = \"softmax\")(features)\n",
        "\n",
        "  model = keras.Model(inputs, outputs)\n",
        "  return model\n"
      ],
      "metadata": {
        "id": "jFjmr1RdDDgz"
      },
      "execution_count": 2,
      "outputs": []
    },
    {
      "cell_type": "code",
      "source": [
        "(images, labels), (test_images, test_labels) = mnist.load_data()\n",
        "images = images.reshape((60000, 28*28)).astype(\"float32\") / 255\n",
        "test_images = test_images.reshape((10000, 28*28)).astype(\"float32\") / 255\n",
        "\n",
        "train_images, val_images = images[10000:], images[:10000]\n",
        "train_labels, val_labels = labels[10000:], labels[:10000]\n",
        "\n",
        "model = get_mnist_model()\n",
        "\n",
        "model.compile(optimizer = \"rmsprop\",\n",
        "              loss = \"sparse_categorical_crossentropy\",\n",
        "              metrics = [\"accuracy\"])\n",
        "\n",
        "model.fit(train_images, train_labels, epochs = 3, validation_data = (val_images, val_labels))\n",
        "\n",
        "test_metrics = model.evaluate(test_images, test_labels)\n",
        "print(f'\\n {test_metrics}')\n",
        "predictions = model.predict(test_images)"
      ],
      "metadata": {
        "colab": {
          "base_uri": "https://localhost:8080/"
        },
        "id": "6KWSMkOaEOuc",
        "outputId": "8eb68f0b-47d9-4946-f810-4e412a88d2f6"
      },
      "execution_count": 3,
      "outputs": [
        {
          "output_type": "stream",
          "name": "stdout",
          "text": [
            "Downloading data from https://storage.googleapis.com/tensorflow/tf-keras-datasets/mnist.npz\n",
            "\u001b[1m11490434/11490434\u001b[0m \u001b[32m━━━━━━━━━━━━━━━━━━━━\u001b[0m\u001b[37m\u001b[0m \u001b[1m0s\u001b[0m 0us/step\n",
            "Epoch 1/3\n",
            "\u001b[1m1563/1563\u001b[0m \u001b[32m━━━━━━━━━━━━━━━━━━━━\u001b[0m\u001b[37m\u001b[0m \u001b[1m22s\u001b[0m 13ms/step - accuracy: 0.8680 - loss: 0.4430 - val_accuracy: 0.9596 - val_loss: 0.1423\n",
            "Epoch 2/3\n",
            "\u001b[1m1563/1563\u001b[0m \u001b[32m━━━━━━━━━━━━━━━━━━━━\u001b[0m\u001b[37m\u001b[0m \u001b[1m19s\u001b[0m 12ms/step - accuracy: 0.9516 - loss: 0.1667 - val_accuracy: 0.9659 - val_loss: 0.1154\n",
            "Epoch 3/3\n",
            "\u001b[1m1563/1563\u001b[0m \u001b[32m━━━━━━━━━━━━━━━━━━━━\u001b[0m\u001b[37m\u001b[0m \u001b[1m18s\u001b[0m 11ms/step - accuracy: 0.9628 - loss: 0.1277 - val_accuracy: 0.9717 - val_loss: 0.1061\n",
            "\u001b[1m313/313\u001b[0m \u001b[32m━━━━━━━━━━━━━━━━━━━━\u001b[0m\u001b[37m\u001b[0m \u001b[1m2s\u001b[0m 6ms/step - accuracy: 0.9685 - loss: 0.1114\n",
            "\n",
            " [0.09697431325912476, 0.9728999733924866]\n",
            "\u001b[1m313/313\u001b[0m \u001b[32m━━━━━━━━━━━━━━━━━━━━\u001b[0m\u001b[37m\u001b[0m \u001b[1m2s\u001b[0m 6ms/step\n"
          ]
        }
      ]
    },
    {
      "cell_type": "code",
      "source": [
        "# 1. writing own metrics\n",
        "\n",
        "class RootMeanSquaredError(keras.metrics.Metric):\n",
        "  # define the state variables in the constructor\n",
        "  def __init__(self, name = \"rmse\", **kwargs):\n",
        "    super().__init__(name = name, **kwargs)\n",
        "    self.mse_sum = self.add_weight(name = \"mse_sum\", initializer = \"zeros\")\n",
        "    self.total_samples = self.add_weight(name = \"total_samples\", initializer = \"zeros\", dtype = \"int32\")\n",
        "\n",
        "  def update_state(self, y_true, y_pred, sample_weight = None):\n",
        "    y_true = tf.one_hot(y_true, depth = tf.shape(y_pred)[1])\n",
        "    mse = tf.reduce_mean(tf.square(y_true - y_pred))\n",
        "    self.mse_sum.assign_add(mse)\n",
        "    num_samples = tf.shape(y_pred)[0]\n",
        "    self.total_samples.assign_add(num_samples)\n",
        "\n",
        "  def result(self):\n",
        "    return tf.sqrt(self.mse_sum / tf.cast(self.total_samples, tf.float32))\n",
        "\n",
        "  def reset_state(self):\n",
        "    self.mse_sum.assign(0.)\n",
        "    self.total_samples.assign(0)\n",
        "\n",
        "model = get_mnist_model()\n",
        "model.compile(optimizer = \"rmsprop\",\n",
        "              loss = \"sparse_categorical_crossentropy\",\n",
        "              metrics = [\"accuracy\", RootMeanSquaredError()])\n",
        "\n",
        "model.fit(train_images, train_labels,\n",
        "          epochs = 3,\n",
        "          validation_data = (val_images, val_labels))\n",
        "\n",
        "test_metrics = model.evaluate(test_images, test_labels)"
      ],
      "metadata": {
        "colab": {
          "base_uri": "https://localhost:8080/"
        },
        "id": "6Zb-rHO0EqTD",
        "outputId": "08025a99-7ab9-437e-f778-b97f473df5a1"
      },
      "execution_count": 4,
      "outputs": [
        {
          "output_type": "stream",
          "name": "stdout",
          "text": [
            "Epoch 1/3\n",
            "\u001b[1m1563/1563\u001b[0m \u001b[32m━━━━━━━━━━━━━━━━━━━━\u001b[0m\u001b[37m\u001b[0m \u001b[1m18s\u001b[0m 11ms/step - accuracy: 0.8670 - loss: 0.4452 - rmse: 0.0244 - val_accuracy: 0.9592 - val_loss: 0.1473 - val_rmse: 0.0141\n",
            "Epoch 2/3\n",
            "\u001b[1m1563/1563\u001b[0m \u001b[32m━━━━━━━━━━━━━━━━━━━━\u001b[0m\u001b[37m\u001b[0m \u001b[1m14s\u001b[0m 9ms/step - accuracy: 0.9525 - loss: 0.1646 - rmse: 0.0151 - val_accuracy: 0.9662 - val_loss: 0.1220 - val_rmse: 0.0127\n",
            "Epoch 3/3\n",
            "\u001b[1m1563/1563\u001b[0m \u001b[32m━━━━━━━━━━━━━━━━━━━━\u001b[0m\u001b[37m\u001b[0m \u001b[1m17s\u001b[0m 11ms/step - accuracy: 0.9629 - loss: 0.1275 - rmse: 0.0133 - val_accuracy: 0.9718 - val_loss: 0.0981 - val_rmse: 0.0115\n",
            "\u001b[1m313/313\u001b[0m \u001b[32m━━━━━━━━━━━━━━━━━━━━\u001b[0m\u001b[37m\u001b[0m \u001b[1m1s\u001b[0m 3ms/step - accuracy: 0.9694 - loss: 0.1106 - rmse: 0.0120\n"
          ]
        }
      ]
    },
    {
      "cell_type": "code",
      "source": [
        "# 2. using callbacks\n",
        "\"\"\"\n",
        "(a) Model checkpointing: save the current state of the model at different points during training\n",
        "(b) Early stopping: interrupting the training when the validation loss is no longer improving (saving best model during training)\n",
        "(c) Dynamically adjusting the value of certain parameters during training: such as learning rate of the optimizer\n",
        "(d) Logging training and validation metrics during training or visualizing the representations learned by the model as they're updated: fit() progress bar\n",
        "\n",
        "keras.callbacks\n",
        "\n",
        "keras.callbacks.ModelCheckpoint\n",
        "keras.callbacks.EarlyStopping\n",
        "keras.callbacks.LearningRateScheduler\n",
        "keras.callbacks.ReduceLROnPlateau\n",
        "keras.callbacks.CSVLogger\n",
        "\"\"\"\n",
        "callbacks_list = [\n",
        "    keras.callbacks.EarlyStopping(\n",
        "        monitor = \"val_accuracy\",\n",
        "        # interrupts training when validation accuracy has stopped imporving for 2 epochs\n",
        "        patience = 2,\n",
        "    ),\n",
        "\n",
        "    # saves the current weights after every epoch\n",
        "    keras.callbacks.ModelCheckpoint(\n",
        "        filepath = \"checkpoint_path.keras\",\n",
        "        # won't overwrite the model file unless val_loss has improved, which allows you to keep the best model seen during training\n",
        "        monitor = \"val_loss\",\n",
        "        save_best_only = True,\n",
        "    )\n",
        "]\n",
        "\n",
        "model = get_mnist_model()\n",
        "model.compile(optimizer = \"rmsprop\",\n",
        "              loss = \"sparse_categorical_crossentropy\",\n",
        "              metrics = [\"accuracy\"])\n",
        "\n",
        "model.fit(train_images, train_labels,\n",
        "          epochs = 10,\n",
        "          callbacks = callbacks_list,\n",
        "          validation_data = (val_images, val_labels))\n",
        "\n",
        "# reload\n",
        "model = keras.models.load_model(\"checkpoint_path.keras\")"
      ],
      "metadata": {
        "colab": {
          "base_uri": "https://localhost:8080/"
        },
        "id": "J0aL1zQ6FeG2",
        "outputId": "99254189-3c7e-4c44-8b13-9f4baa378d8b"
      },
      "execution_count": 5,
      "outputs": [
        {
          "output_type": "stream",
          "name": "stdout",
          "text": [
            "Epoch 1/10\n",
            "\u001b[1m1563/1563\u001b[0m \u001b[32m━━━━━━━━━━━━━━━━━━━━\u001b[0m\u001b[37m\u001b[0m \u001b[1m20s\u001b[0m 12ms/step - accuracy: 0.8633 - loss: 0.4536 - val_accuracy: 0.9562 - val_loss: 0.1529\n",
            "Epoch 2/10\n",
            "\u001b[1m1563/1563\u001b[0m \u001b[32m━━━━━━━━━━━━━━━━━━━━\u001b[0m\u001b[37m\u001b[0m \u001b[1m14s\u001b[0m 9ms/step - accuracy: 0.9510 - loss: 0.1747 - val_accuracy: 0.9682 - val_loss: 0.1155\n",
            "Epoch 3/10\n",
            "\u001b[1m1563/1563\u001b[0m \u001b[32m━━━━━━━━━━━━━━━━━━━━\u001b[0m\u001b[37m\u001b[0m \u001b[1m14s\u001b[0m 9ms/step - accuracy: 0.9614 - loss: 0.1322 - val_accuracy: 0.9727 - val_loss: 0.0984\n",
            "Epoch 4/10\n",
            "\u001b[1m1563/1563\u001b[0m \u001b[32m━━━━━━━━━━━━━━━━━━━━\u001b[0m\u001b[37m\u001b[0m \u001b[1m16s\u001b[0m 10ms/step - accuracy: 0.9660 - loss: 0.1211 - val_accuracy: 0.9740 - val_loss: 0.0981\n",
            "Epoch 5/10\n",
            "\u001b[1m1563/1563\u001b[0m \u001b[32m━━━━━━━━━━━━━━━━━━━━\u001b[0m\u001b[37m\u001b[0m \u001b[1m14s\u001b[0m 9ms/step - accuracy: 0.9711 - loss: 0.0992 - val_accuracy: 0.9772 - val_loss: 0.0868\n",
            "Epoch 6/10\n",
            "\u001b[1m1563/1563\u001b[0m \u001b[32m━━━━━━━━━━━━━━━━━━━━\u001b[0m\u001b[37m\u001b[0m \u001b[1m12s\u001b[0m 8ms/step - accuracy: 0.9747 - loss: 0.0920 - val_accuracy: 0.9737 - val_loss: 0.1020\n",
            "Epoch 7/10\n",
            "\u001b[1m1563/1563\u001b[0m \u001b[32m━━━━━━━━━━━━━━━━━━━━\u001b[0m\u001b[37m\u001b[0m \u001b[1m12s\u001b[0m 8ms/step - accuracy: 0.9766 - loss: 0.0825 - val_accuracy: 0.9797 - val_loss: 0.0846\n",
            "Epoch 8/10\n",
            "\u001b[1m1563/1563\u001b[0m \u001b[32m━━━━━━━━━━━━━━━━━━━━\u001b[0m\u001b[37m\u001b[0m \u001b[1m14s\u001b[0m 9ms/step - accuracy: 0.9783 - loss: 0.0763 - val_accuracy: 0.9790 - val_loss: 0.0869\n",
            "Epoch 9/10\n",
            "\u001b[1m1563/1563\u001b[0m \u001b[32m━━━━━━━━━━━━━━━━━━━━\u001b[0m\u001b[37m\u001b[0m \u001b[1m13s\u001b[0m 8ms/step - accuracy: 0.9809 - loss: 0.0709 - val_accuracy: 0.9803 - val_loss: 0.0907\n",
            "Epoch 10/10\n",
            "\u001b[1m1563/1563\u001b[0m \u001b[32m━━━━━━━━━━━━━━━━━━━━\u001b[0m\u001b[37m\u001b[0m \u001b[1m12s\u001b[0m 8ms/step - accuracy: 0.9802 - loss: 0.0721 - val_accuracy: 0.9795 - val_loss: 0.0905\n"
          ]
        }
      ]
    },
    {
      "cell_type": "code",
      "source": [
        "# 3. writing own callbacks\n",
        "from matplotlib import pyplot as plt\n",
        "# stores loss after every batch\n",
        "\n",
        "class LossHistory(keras.callbacks.Callback):\n",
        "  def on_train_begin(self, logs):\n",
        "    self.per_batch_losses = []\n",
        "\n",
        "  def on_batch_end(self, batch, logs):\n",
        "    self.per_batch_losses.append(logs.get(\"loss\"))\n",
        "\n",
        "  def on_epoch_end(self, epoch, logs):\n",
        "    plt.clf()\n",
        "    plt.plot(range(len(self.per_batch_losses)), self.per_batch_losses, label = \"Training loss for each batch\")\n",
        "    plt.xlabel(f\"Batch (epoch {epoch})\")\n",
        "    plt.ylabel(\"Loss\")\n",
        "    plt.legend()\n",
        "    plt.savefig(f\"plot_at_epoch_{epoch}\")\n",
        "    self.per_batch_losses = []\n",
        "\n",
        "\n",
        "model = get_mnist_model()\n",
        "model.compile(optimizer = \"rmsprop\",\n",
        "              loss = \"sparse_categorical_crossentropy\",\n",
        "              metrics = [\"accuracy\"])\n",
        "model.fit(train_images, train_labels,\n",
        "          epochs = 10,\n",
        "          callbacks = [LossHistory()],\n",
        "          validation_data = (val_images, val_labels))"
      ],
      "metadata": {
        "id": "0Izeoo_NFgO-",
        "colab": {
          "base_uri": "https://localhost:8080/",
          "height": 825
        },
        "outputId": "0d34a7e7-e94c-40b9-d507-96f494c16514"
      },
      "execution_count": 8,
      "outputs": [
        {
          "output_type": "stream",
          "name": "stdout",
          "text": [
            "Epoch 1/10\n",
            "\u001b[1m1563/1563\u001b[0m \u001b[32m━━━━━━━━━━━━━━━━━━━━\u001b[0m\u001b[37m\u001b[0m \u001b[1m15s\u001b[0m 9ms/step - accuracy: 0.8691 - loss: 0.4424 - val_accuracy: 0.9580 - val_loss: 0.1431\n",
            "Epoch 2/10\n",
            "\u001b[1m1563/1563\u001b[0m \u001b[32m━━━━━━━━━━━━━━━━━━━━\u001b[0m\u001b[37m\u001b[0m \u001b[1m14s\u001b[0m 9ms/step - accuracy: 0.9528 - loss: 0.1613 - val_accuracy: 0.9693 - val_loss: 0.1128\n",
            "Epoch 3/10\n",
            "\u001b[1m1563/1563\u001b[0m \u001b[32m━━━━━━━━━━━━━━━━━━━━\u001b[0m\u001b[37m\u001b[0m \u001b[1m13s\u001b[0m 8ms/step - accuracy: 0.9622 - loss: 0.1310 - val_accuracy: 0.9719 - val_loss: 0.1097\n",
            "Epoch 4/10\n",
            "\u001b[1m1563/1563\u001b[0m \u001b[32m━━━━━━━━━━━━━━━━━━━━\u001b[0m\u001b[37m\u001b[0m \u001b[1m13s\u001b[0m 8ms/step - accuracy: 0.9687 - loss: 0.1118 - val_accuracy: 0.9745 - val_loss: 0.1008\n",
            "Epoch 5/10\n",
            "\u001b[1m1563/1563\u001b[0m \u001b[32m━━━━━━━━━━━━━━━━━━━━\u001b[0m\u001b[37m\u001b[0m \u001b[1m13s\u001b[0m 8ms/step - accuracy: 0.9714 - loss: 0.0998 - val_accuracy: 0.9758 - val_loss: 0.0946\n",
            "Epoch 6/10\n",
            "\u001b[1m1563/1563\u001b[0m \u001b[32m━━━━━━━━━━━━━━━━━━━━\u001b[0m\u001b[37m\u001b[0m \u001b[1m20s\u001b[0m 8ms/step - accuracy: 0.9749 - loss: 0.0886 - val_accuracy: 0.9791 - val_loss: 0.0914\n",
            "Epoch 7/10\n",
            "\u001b[1m1563/1563\u001b[0m \u001b[32m━━━━━━━━━━━━━━━━━━━━\u001b[0m\u001b[37m\u001b[0m \u001b[1m12s\u001b[0m 8ms/step - accuracy: 0.9761 - loss: 0.0845 - val_accuracy: 0.9792 - val_loss: 0.0876\n",
            "Epoch 8/10\n",
            "\u001b[1m1563/1563\u001b[0m \u001b[32m━━━━━━━━━━━━━━━━━━━━\u001b[0m\u001b[37m\u001b[0m \u001b[1m13s\u001b[0m 8ms/step - accuracy: 0.9779 - loss: 0.0799 - val_accuracy: 0.9794 - val_loss: 0.0898\n",
            "Epoch 9/10\n",
            "\u001b[1m1563/1563\u001b[0m \u001b[32m━━━━━━━━━━━━━━━━━━━━\u001b[0m\u001b[37m\u001b[0m \u001b[1m13s\u001b[0m 8ms/step - accuracy: 0.9793 - loss: 0.0741 - val_accuracy: 0.9797 - val_loss: 0.0962\n",
            "Epoch 10/10\n",
            "\u001b[1m1563/1563\u001b[0m \u001b[32m━━━━━━━━━━━━━━━━━━━━\u001b[0m\u001b[37m\u001b[0m \u001b[1m13s\u001b[0m 8ms/step - accuracy: 0.9820 - loss: 0.0689 - val_accuracy: 0.9804 - val_loss: 0.0890\n"
          ]
        },
        {
          "output_type": "execute_result",
          "data": {
            "text/plain": [
              "<keras.src.callbacks.history.History at 0x7c009d9d4e90>"
            ]
          },
          "metadata": {},
          "execution_count": 8
        },
        {
          "output_type": "display_data",
          "data": {
            "text/plain": [
              "<Figure size 640x480 with 1 Axes>"
            ],
            "image/png": "[encoded data removed]"
          },
          "metadata": {}
        }
      ]
    },
    {
      "cell_type": "code",
      "source": [
        "# 4. monitorting and visualization with TensorBoard\n",
        "model = get_mnist_model()\n",
        "model.compile(optimizer = \"rmsprop\",\n",
        "              loss = \"sparse_categorical_crossentropy\",\n",
        "              metrics = [\"accuracy\"])\n",
        "\n",
        "\n",
        "\n",
        "import datetime\n",
        "\n",
        "log_dir = \"logs/fit/\" + datetime.datetime.now().strftime(\"%Y%m%d-%H%M%S\")\n",
        "\n",
        "tensorboard = keras.callbacks.TensorBoard(\n",
        "    log_dir = \"/full_path_to_your_log_dir\",histogram_freq=1\n",
        "\n",
        ")\n",
        "model.fit(train_images, train_labels,\n",
        "          epochs = 10,\n",
        "          callbacks = [tensorboard],\n",
        "          validation_data = (val_images, val_labels))"
      ],
      "metadata": {
        "id": "W2i7B5_8Fi1I",
        "colab": {
          "base_uri": "https://localhost:8080/"
        },
        "outputId": "96ce3c76-5899-4f86-d543-ee7c009c0b73"
      },
      "execution_count": 9,
      "outputs": [
        {
          "output_type": "stream",
          "name": "stdout",
          "text": [
            "Epoch 1/10\n",
            "\u001b[1m1563/1563\u001b[0m \u001b[32m━━━━━━━━━━━━━━━━━━━━\u001b[0m\u001b[37m\u001b[0m \u001b[1m15s\u001b[0m 9ms/step - accuracy: 0.8673 - loss: 0.4416 - val_accuracy: 0.9610 - val_loss: 0.1393\n",
            "Epoch 2/10\n",
            "\u001b[1m1563/1563\u001b[0m \u001b[32m━━━━━━━━━━━━━━━━━━━━\u001b[0m\u001b[37m\u001b[0m \u001b[1m14s\u001b[0m 9ms/step - accuracy: 0.9530 - loss: 0.1615 - val_accuracy: 0.9677 - val_loss: 0.1233\n",
            "Epoch 3/10\n",
            "\u001b[1m1563/1563\u001b[0m \u001b[32m━━━━━━━━━━━━━━━━━━━━\u001b[0m\u001b[37m\u001b[0m \u001b[1m14s\u001b[0m 9ms/step - accuracy: 0.9631 - loss: 0.1332 - val_accuracy: 0.9730 - val_loss: 0.1065\n",
            "Epoch 4/10\n",
            "\u001b[1m1563/1563\u001b[0m \u001b[32m━━━━━━━━━━━━━━━━━━━━\u001b[0m\u001b[37m\u001b[0m \u001b[1m14s\u001b[0m 9ms/step - accuracy: 0.9690 - loss: 0.1115 - val_accuracy: 0.9743 - val_loss: 0.0984\n",
            "Epoch 5/10\n",
            "\u001b[1m1563/1563\u001b[0m \u001b[32m━━━━━━━━━━━━━━━━━━━━\u001b[0m\u001b[37m\u001b[0m \u001b[1m14s\u001b[0m 9ms/step - accuracy: 0.9721 - loss: 0.1013 - val_accuracy: 0.9762 - val_loss: 0.0879\n",
            "Epoch 6/10\n",
            "\u001b[1m1563/1563\u001b[0m \u001b[32m━━━━━━━━━━━━━━━━━━━━\u001b[0m\u001b[37m\u001b[0m \u001b[1m13s\u001b[0m 9ms/step - accuracy: 0.9748 - loss: 0.0889 - val_accuracy: 0.9792 - val_loss: 0.0857\n",
            "Epoch 7/10\n",
            "\u001b[1m1563/1563\u001b[0m \u001b[32m━━━━━━━━━━━━━━━━━━━━\u001b[0m\u001b[37m\u001b[0m \u001b[1m14s\u001b[0m 9ms/step - accuracy: 0.9769 - loss: 0.0807 - val_accuracy: 0.9791 - val_loss: 0.0896\n",
            "Epoch 8/10\n",
            "\u001b[1m1563/1563\u001b[0m \u001b[32m━━━━━━━━━━━━━━━━━━━━\u001b[0m\u001b[37m\u001b[0m \u001b[1m14s\u001b[0m 9ms/step - accuracy: 0.9776 - loss: 0.0777 - val_accuracy: 0.9786 - val_loss: 0.0957\n",
            "Epoch 9/10\n",
            "\u001b[1m1563/1563\u001b[0m \u001b[32m━━━━━━━━━━━━━━━━━━━━\u001b[0m\u001b[37m\u001b[0m \u001b[1m13s\u001b[0m 8ms/step - accuracy: 0.9790 - loss: 0.0770 - val_accuracy: 0.9790 - val_loss: 0.0962\n",
            "Epoch 10/10\n",
            "\u001b[1m1563/1563\u001b[0m \u001b[32m━━━━━━━━━━━━━━━━━━━━\u001b[0m\u001b[37m\u001b[0m \u001b[1m21s\u001b[0m 9ms/step - accuracy: 0.9812 - loss: 0.0712 - val_accuracy: 0.9800 - val_loss: 0.0894\n"
          ]
        },
        {
          "output_type": "execute_result",
          "data": {
            "text/plain": [
              "<keras.src.callbacks.history.History at 0x7c00a4893560>"
            ]
          },
          "metadata": {},
          "execution_count": 9
        }
      ]
    },
    {
      "cell_type": "code",
      "source": [],
      "metadata": {
        "id": "t4ucQfmAR-uO"
      },
      "execution_count": null,
      "outputs": []
    }
  ]
}