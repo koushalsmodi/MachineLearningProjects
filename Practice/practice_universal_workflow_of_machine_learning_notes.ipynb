{
  "nbformat": 4,
  "nbformat_minor": 0,
  "metadata": {
    "colab": {
      "provenance": []
    },
    "kernelspec": {
      "name": "python3",
      "display_name": "Python 3"
    },
    "language_info": {
      "name": "python"
    }
  },
  "cells": [
    {
      "cell_type": "code",
      "execution_count": null,
      "metadata": {
        "id": "V3Kh0juL5G0S"
      },
      "outputs": [],
      "source": [
        "\"\"\"\n",
        "1. Define the task\n",
        "2. Develop a model\n",
        "3. Deploy the model\n",
        "\"\"\""
      ]
    },
    {
      "cell_type": "code",
      "source": [
        "\"\"\"\n",
        "1. Define the task:\n",
        "\n",
        "(a) Frame the problem\n",
        "  (i) Understand the inputs. Understand the targets (annotations). Understand the problem statement and business use case.\n",
        "  (ii) What is the machine learning task?\n",
        "  Binary classification, Multiclass classification, Scalar regression, Vector regression, Multi-label classification, ranking,\n",
        "  image segmentation, generation, or reinforcement learning\n",
        "  (iii) What do existing solutions look like?\n",
        "  (iv) Understand constraints (end-to-end crypted, privacy issues)\n",
        "\n",
        "(b) Collect a dataset\n",
        "  (i) Annotation of the dataset -> yourself, crowdsourcing platforms, or outsourcing to a subject matter expert company\n",
        "  Issue of control vs time and money and knowledge\n",
        "  (ii) Training data should be representative of the production data\n",
        "\n",
        "(c) Understand your data\n",
        "  (i) For numerical features, plot histograms to see range of values and the frequency of different values\n",
        "  (ii) For images and natural language processing, look at actual samples and confirm annotations\n",
        "  (iii) Target leaking by chance from inputs\n",
        "  (iv) Balanced classes or class-imbalance?\n",
        "  (v) Deal with missing values\n",
        "\n",
        "(d) Choose a measure of success\n",
        "  (i) For balanced classification problems: accuracy and ROC AUC\n",
        "  (ii) For class-imbalanced classification problems: precision and recall and [weighted form of accuracy and ROC AUC]\n",
        "\"\"\""
      ],
      "metadata": {
        "id": "6Dpl6abFO1mw"
      },
      "execution_count": null,
      "outputs": []
    },
    {
      "cell_type": "code",
      "source": [
        "\"\"\"\n",
        "2. Develop a model\n",
        "\n",
        "(a) Prepare the data\n",
        "  (i) Vectorize the inputs and targets to float32 tensors\n",
        "  (ii) Normalize each feature independently with mean = 0 and standard deviation = 1 to have small values and homogenous values\n",
        "  (iii) Account for missing values: categorical (one-hot encoding or NA) ; numerical: average, median, train other features to predict missing feature\n",
        "\n",
        "(b) Choose an evaluation protocol\n",
        "  (i) Maintaining a holdout validation set if more data available\n",
        "  (ii) K-fold validation for too few samples for holdout validation to be reliable\n",
        "  (iii) Iterated K-fold validation for best model evaluation when little data is available\n",
        "\n",
        "(c) Beat a baseline (validation metrics to improve)\n",
        "  (i) Feature engineering\n",
        "  (ii) Choosing right architecture priors\n",
        "  (iii) Batch size, learning rate, loss function to use (train loss to go down)\n",
        "\n",
        "(d) Scale up (validation metrics are going down, that is, some generalization and model is fitting do the following for overfitting)\n",
        "  (i) Add layers\n",
        "  (ii) Make the layers bigger\n",
        "  (iii) Train for more epochs\n",
        "\n",
        "(e) Regularize and tune your models (maximize generalization)\n",
        "  (i) Reducing model capacity\n",
        "  (ii) L1 and L2 weight regularization\n",
        "  (iii) Dropout\n",
        "  (iv) Feature engineering\n",
        "  (v) Try different hyperparameters\n",
        "\"\"\""
      ],
      "metadata": {
        "id": "8NQ8qDs4RGxk"
      },
      "execution_count": null,
      "outputs": []
    },
    {
      "cell_type": "code",
      "source": [
        "\"\"\"\n",
        "3. Deploy the model\n",
        "\n",
        "(a) Explain your work to stakeholders and set expectations\n",
        "(b) Ship an inference model\n",
        "  (i) Deploying a model as a REST API -> TensorFlow servicing\n",
        "  Low latency is fine, internet connectivity needed, input data is not highly sensitive\n",
        "\n",
        "  (ii) Deloying a model on a device -> TensorFlow lite [android and ios phones]\n",
        "  Strict latency requirements or low internet connectivity, input data is sensitive,\n",
        "  convert to small model as model needs to run under the memory and power constraints of target user's device\n",
        "  trade-off between runtime efficiency and accuracy\n",
        "\n",
        "  (iii) Deploying a model on a browser -> TensorFlow.js [web browser]\n",
        "  Off load compute cost to end user, input data to stay on end user's computer or phone, strict latency requirements (request, inference, answer)\n",
        "  need app to work without connectivity, after the model has been downloaded and cached\n",
        "\n",
        "  (iv) Weight pruning (selecting significant weights) so as to save memory and compute footprint\n",
        "       Weight quantization (convert float32 values to int8) so as to get size that is quarter of the float32 model and maintains similar accuracy\n",
        "\n",
        "(d) Monitor performance in wild\n",
        "see if business metrics are improving\n",
        "compare inference of model and reconcile with manual audits of annotations\n",
        "\n",
        "\n",
        "(d) Maintain your model\n",
        "concept drift\n",
        "keep checking production data for variances\n",
        "\n",
        "\n",
        "\"\"\""
      ],
      "metadata": {
        "id": "AHdl1aKScaZW"
      },
      "execution_count": 1,
      "outputs": []
    }
  ]
}