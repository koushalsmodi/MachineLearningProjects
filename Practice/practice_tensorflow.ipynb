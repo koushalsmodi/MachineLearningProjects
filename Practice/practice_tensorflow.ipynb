{
  "nbformat": 4,
  "nbformat_minor": 0,
  "metadata": {
    "colab": {
      "provenance": [],
      "gpuType": "T4"
    },
    "kernelspec": {
      "name": "python3",
      "display_name": "Python 3"
    },
    "language_info": {
      "name": "python"
    },
    "accelerator": "GPU"
  },
  "cells": [
    {
      "cell_type": "code",
      "execution_count": 1,
      "metadata": {
        "id": "CN6xJx8y0lzC"
      },
      "outputs": [],
      "source": [
        "# TensorFlow: tensors, tensor operations [relu, addition, matmul], and backpropogation\n",
        "# Keras: layers, models, optimizers, metrics, losses, and training loop"
      ]
    },
    {
      "cell_type": "code",
      "source": [
        "import tensorflow as tf\n",
        "# All ones or All zeros\n",
        "\n",
        "x = tf.ones(shape = (3,1))\n",
        "print(x)\n",
        "\n",
        "x = tf.zeros(shape = (3,1))\n",
        "print(x)"
      ],
      "metadata": {
        "colab": {
          "base_uri": "https://localhost:8080/"
        },
        "id": "wF4w5fSK05dK",
        "outputId": "dfbdf8c0-d932-4d7b-b6a9-83cdf8c8cfbb"
      },
      "execution_count": 2,
      "outputs": [
        {
          "output_type": "stream",
          "name": "stdout",
          "text": [
            "tf.Tensor(\n",
            "[[1.]\n",
            " [1.]\n",
            " [1.]], shape=(3, 1), dtype=float32)\n",
            "tf.Tensor(\n",
            "[[0.]\n",
            " [0.]\n",
            " [0.]], shape=(3, 1), dtype=float32)\n"
          ]
        }
      ]
    },
    {
      "cell_type": "code",
      "source": [
        "# Random tensors\n",
        "x = tf.random.normal(shape=(4,2), mean = 0, stddev = 1)\n",
        "print(x)\n",
        "\n",
        "x = tf.random.uniform(shape = (4,2), minval = 0, maxval = 1)\n",
        "print(x)"
      ],
      "metadata": {
        "colab": {
          "base_uri": "https://localhost:8080/"
        },
        "id": "mBQxjyOx0-5F",
        "outputId": "a5c53356-72a9-4119-e0dc-dfaac25b494d"
      },
      "execution_count": 3,
      "outputs": [
        {
          "output_type": "stream",
          "name": "stdout",
          "text": [
            "tf.Tensor(\n",
            "[[-2.1706066  -1.346727  ]\n",
            " [-0.01424817 -0.60558957]\n",
            " [-0.6086878   0.07280066]\n",
            " [-0.04642203  1.1734228 ]], shape=(4, 2), dtype=float32)\n",
            "tf.Tensor(\n",
            "[[0.13886249 0.748147  ]\n",
            " [0.16903055 0.95174396]\n",
            " [0.34520423 0.9431205 ]\n",
            " [0.7222599  0.9187176 ]], shape=(4, 2), dtype=float32)\n"
          ]
        }
      ]
    },
    {
      "cell_type": "code",
      "source": [
        "# Numpy arrays are assignable\n",
        "import numpy as np\n",
        "x = np.ones(shape = (2,3))\n",
        "print(x)\n",
        "print()\n",
        "x[0,0] = 0.\n",
        "print(x)"
      ],
      "metadata": {
        "colab": {
          "base_uri": "https://localhost:8080/"
        },
        "id": "wYvoS-sO1JzU",
        "outputId": "7b508819-9140-4f7d-ac8b-7ea084a25703"
      },
      "execution_count": 9,
      "outputs": [
        {
          "output_type": "stream",
          "name": "stdout",
          "text": [
            "[[1. 1. 1.]\n",
            " [1. 1. 1.]]\n",
            "\n",
            "[[0. 1. 1.]\n",
            " [1. 1. 1.]]\n"
          ]
        }
      ]
    },
    {
      "cell_type": "code",
      "source": [
        "x = tf.ones(shape = (2, 3))\n",
        "x[0,0] = 0.\n",
        "# Error as TensorFlow tensors are not assignable"
      ],
      "metadata": {
        "colab": {
          "base_uri": "https://localhost:8080/",
          "height": 180
        },
        "id": "KtCJIhrbwHFR",
        "outputId": "b7c0e1b5-6ca2-4f6b-e611-8f58292841ae"
      },
      "execution_count": 10,
      "outputs": [
        {
          "output_type": "error",
          "ename": "TypeError",
          "evalue": "'tensorflow.python.framework.ops.EagerTensor' object does not support item assignment",
          "traceback": [
            "\u001b[0;31m---------------------------------------------------------------------------\u001b[0m",
            "\u001b[0;31mTypeError\u001b[0m                                 Traceback (most recent call last)",
            "\u001b[0;32m/tmp/ipython-input-588349954.py\u001b[0m in \u001b[0;36m<cell line: 0>\u001b[0;34m()\u001b[0m\n\u001b[1;32m      1\u001b[0m \u001b[0mx\u001b[0m \u001b[0;34m=\u001b[0m \u001b[0mtf\u001b[0m\u001b[0;34m.\u001b[0m\u001b[0mones\u001b[0m\u001b[0;34m(\u001b[0m\u001b[0mshape\u001b[0m \u001b[0;34m=\u001b[0m \u001b[0;34m(\u001b[0m\u001b[0;36m2\u001b[0m\u001b[0;34m,\u001b[0m \u001b[0;36m3\u001b[0m\u001b[0;34m)\u001b[0m\u001b[0;34m)\u001b[0m\u001b[0;34m\u001b[0m\u001b[0;34m\u001b[0m\u001b[0m\n\u001b[0;32m----> 2\u001b[0;31m \u001b[0mx\u001b[0m\u001b[0;34m[\u001b[0m\u001b[0;36m0\u001b[0m\u001b[0;34m,\u001b[0m\u001b[0;36m0\u001b[0m\u001b[0;34m]\u001b[0m \u001b[0;34m=\u001b[0m \u001b[0;36m0.\u001b[0m\u001b[0;34m\u001b[0m\u001b[0;34m\u001b[0m\u001b[0m\n\u001b[0m\u001b[1;32m      3\u001b[0m \u001b[0;31m# Error\u001b[0m\u001b[0;34m\u001b[0m\u001b[0;34m\u001b[0m\u001b[0m\n",
            "\u001b[0;31mTypeError\u001b[0m: 'tensorflow.python.framework.ops.EagerTensor' object does not support item assignment"
          ]
        }
      ]
    },
    {
      "cell_type": "code",
      "source": [
        "v = tf.Variable(initial_value = tf.random.normal(shape = (3,1)))\n",
        "print(v)\n",
        "print()\n",
        "\n",
        "v.assign(tf.ones(shape = (3,1)))\n",
        "print(v)\n",
        "print()\n",
        "\n",
        "v[0,0].assign(3.)\n",
        "print(v)\n",
        "\n",
        "v.assign_add(tf.ones(shape = (3,1)))\n",
        "print(v)\n",
        "print()\n",
        "v.assign_sub(tf.ones(shape = (3,1)))\n",
        "print(v)"
      ],
      "metadata": {
        "colab": {
          "base_uri": "https://localhost:8080/"
        },
        "id": "_4Are4EmwYPk",
        "outputId": "6b3f8388-9311-4e47-88cb-88e71529e47a"
      },
      "execution_count": 25,
      "outputs": [
        {
          "output_type": "stream",
          "name": "stdout",
          "text": [
            "<tf.Variable 'Variable:0' shape=(3, 1) dtype=float32, numpy=\n",
            "array([[-0.8754674 ],\n",
            "       [-1.3892298 ],\n",
            "       [ 0.49916852]], dtype=float32)>\n",
            "\n",
            "<tf.Variable 'Variable:0' shape=(3, 1) dtype=float32, numpy=\n",
            "array([[1.],\n",
            "       [1.],\n",
            "       [1.]], dtype=float32)>\n",
            "\n",
            "<tf.Variable 'Variable:0' shape=(3, 1) dtype=float32, numpy=\n",
            "array([[3.],\n",
            "       [1.],\n",
            "       [1.]], dtype=float32)>\n",
            "<tf.Variable 'Variable:0' shape=(3, 1) dtype=float32, numpy=\n",
            "array([[4.],\n",
            "       [2.],\n",
            "       [2.]], dtype=float32)>\n",
            "\n",
            "<tf.Variable 'Variable:0' shape=(3, 1) dtype=float32, numpy=\n",
            "array([[3.],\n",
            "       [1.],\n",
            "       [1.]], dtype=float32)>\n"
          ]
        }
      ]
    },
    {
      "cell_type": "code",
      "source": [
        "a = tf.ones(shape = (2,2))\n",
        "print(a)\n",
        "print()\n",
        "b = tf.square(a)\n",
        "print(b)\n",
        "print()\n",
        "c = tf.sqrt(a)\n",
        "print(c)\n",
        "print()\n",
        "d = b+c\n",
        "print(d)\n",
        "print()\n",
        "e = tf.matmul(a, b) # dot product\n",
        "print(e)\n",
        "print()\n",
        "e*=d # element-wise\n",
        "print(e)\n",
        "\n"
      ],
      "metadata": {
        "colab": {
          "base_uri": "https://localhost:8080/"
        },
        "id": "RzxTXC5zwfZC",
        "outputId": "3f45d280-2af1-4df6-80b7-dac5c9da08bb"
      },
      "execution_count": 28,
      "outputs": [
        {
          "output_type": "stream",
          "name": "stdout",
          "text": [
            "tf.Tensor(\n",
            "[[1. 1.]\n",
            " [1. 1.]], shape=(2, 2), dtype=float32)\n",
            "\n",
            "tf.Tensor(\n",
            "[[1. 1.]\n",
            " [1. 1.]], shape=(2, 2), dtype=float32)\n",
            "\n",
            "tf.Tensor(\n",
            "[[1. 1.]\n",
            " [1. 1.]], shape=(2, 2), dtype=float32)\n",
            "\n",
            "tf.Tensor(\n",
            "[[2. 2.]\n",
            " [2. 2.]], shape=(2, 2), dtype=float32)\n",
            "\n",
            "tf.Tensor(\n",
            "[[2. 2.]\n",
            " [2. 2.]], shape=(2, 2), dtype=float32)\n",
            "\n",
            "tf.Tensor(\n",
            "[[4. 4.]\n",
            " [4. 4.]], shape=(2, 2), dtype=float32)\n"
          ]
        }
      ]
    },
    {
      "cell_type": "code",
      "source": [
        "input_var = tf.Variable(initial_value = 3.)\n",
        "with tf.GradientTape() as tape:\n",
        "  result = tf.square(input_var)\n",
        "gradient = tape.gradient(result, input_var)\n",
        "\n",
        "print(result)\n",
        "print()\n",
        "print(gradient)"
      ],
      "metadata": {
        "colab": {
          "base_uri": "https://localhost:8080/"
        },
        "id": "W9dNcVCnxODY",
        "outputId": "3881f383-da8a-4e47-f831-72f140cbe1c2"
      },
      "execution_count": 29,
      "outputs": [
        {
          "output_type": "stream",
          "name": "stdout",
          "text": [
            "tf.Tensor(9.0, shape=(), dtype=float32)\n",
            "\n",
            "tf.Tensor(6.0, shape=(), dtype=float32)\n"
          ]
        }
      ]
    },
    {
      "cell_type": "code",
      "source": [
        "input_constant = tf.constant(3.)\n",
        "with tf.GradientTape() as tape:\n",
        "  tape.watch(input_constant) # with constant tensor inputs\n",
        "  result = tf.square(input_constant)\n",
        "gradient = tape.gradient(result, input_constant)\n",
        "\n",
        "print(result)\n",
        "print()\n",
        "print(gradient)"
      ],
      "metadata": {
        "colab": {
          "base_uri": "https://localhost:8080/"
        },
        "id": "Tyh8SuyKyDsD",
        "outputId": "4ca26bfb-733a-489a-b41b-9c5ddffdab4f"
      },
      "execution_count": 31,
      "outputs": [
        {
          "output_type": "stream",
          "name": "stdout",
          "text": [
            "tf.Tensor(9.0, shape=(), dtype=float32)\n",
            "\n",
            "tf.Tensor(6.0, shape=(), dtype=float32)\n"
          ]
        }
      ]
    },
    {
      "cell_type": "code",
      "source": [
        "# gradient of the position of an object with regard to time is the speed of that object\n",
        "# , and the second-order gradient is its acceleration"
      ],
      "metadata": {
        "id": "pAiSw5ytymkW"
      },
      "execution_count": 32,
      "outputs": []
    },
    {
      "cell_type": "code",
      "source": [
        "time = tf.Variable(0.)\n",
        "with tf.GradientTape() as outer_tape:\n",
        "  with tf.GradientTape() as inner_tape:\n",
        "    position = 4.9 * time ** 2\n",
        "  speed = inner_tape.gradient(position, time)\n",
        "acceleration = outer_tape.gradient(speed, time)\n",
        "\n",
        "print(time)\n",
        "print()\n",
        "print(position)\n",
        "print()\n",
        "print(speed)\n",
        "print()\n",
        "print(acceleration)\n",
        "print()"
      ],
      "metadata": {
        "colab": {
          "base_uri": "https://localhost:8080/"
        },
        "id": "82H6prqVy7V_",
        "outputId": "afba5fb0-329d-4963-b6a4-8e68bbc8d17c"
      },
      "execution_count": 34,
      "outputs": [
        {
          "output_type": "stream",
          "name": "stdout",
          "text": [
            "<tf.Variable 'Variable:0' shape=() dtype=float32, numpy=0.0>\n",
            "\n",
            "tf.Tensor(0.0, shape=(), dtype=float32)\n",
            "\n",
            "tf.Tensor(0.0, shape=(), dtype=float32)\n",
            "\n",
            "tf.Tensor(9.8, shape=(), dtype=float32)\n",
            "\n"
          ]
        }
      ]
    }
  ]
}