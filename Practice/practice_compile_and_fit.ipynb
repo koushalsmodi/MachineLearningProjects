{
  "nbformat": 4,
  "nbformat_minor": 0,
  "metadata": {
    "colab": {
      "provenance": [],
      "gpuType": "T4"
    },
    "kernelspec": {
      "name": "python3",
      "display_name": "Python 3"
    },
    "language_info": {
      "name": "python"
    },
    "accelerator": "GPU"
  },
  "cells": [
    {
      "cell_type": "code",
      "execution_count": 1,
      "metadata": {
        "id": "YhQDb_BYIV1H"
      },
      "outputs": [],
      "source": [
        "import tensorflow as tf\n",
        "from tensorflow import keras"
      ]
    },
    {
      "cell_type": "code",
      "source": [
        "model = keras.Sequential([keras.layers.Dense(1)])\n",
        "model.compile(optimizer = \"rmsprop\",\n",
        "              loss = \"mean_squared_error\",\n",
        "              metrics = [\"accuracy\"])"
      ],
      "metadata": {
        "id": "PiMbIxYXIc2a"
      },
      "execution_count": 3,
      "outputs": []
    },
    {
      "cell_type": "code",
      "source": [
        "model.compile(optimizer = keras.optimizers.RMSprop(),\n",
        "              loss = keras.losses.MeanSquaredError(),\n",
        "              metrics = [keras.metrics.BinaryAccuracy()])"
      ],
      "metadata": {
        "id": "mcE3Rd0_Ip7c"
      },
      "execution_count": 4,
      "outputs": []
    },
    {
      "cell_type": "code",
      "source": [
        "model.compile(optimizer= keras.optimizers.RMSprop(learning_rate = 1e-1),\n",
        "              loss = my_custom_loss,\n",
        "              metrics = [my_custom_metric1, my_custom_metric2])"
      ],
      "metadata": {
        "id": "WlNNJLK-JAML"
      },
      "execution_count": null,
      "outputs": []
    },
    {
      "cell_type": "code",
      "source": [
        "# Optimizers = RMSProp, Adam, SGD (with or without momentum), Adagrad\n",
        "# Losses = MeanSquaredError, MeanAbsoluteError, BinaryCrossentropy, SparseCategoricalCrossentropy, CategoricalCrossentropy, CosineSimilarity, KLDivergence\n",
        "# Metrics = BinaryAccuracy, CategoricalAccuracy, SparseCategoricalAccuracy, AUC, Precision, Recall"
      ],
      "metadata": {
        "id": "lTuFvj8tJdam"
      },
      "execution_count": 8,
      "outputs": []
    },
    {
      "cell_type": "code",
      "source": [
        "history = model.fit(inputs, targets, epochs = 5, batch_size = 128)"
      ],
      "metadata": {
        "id": "F6_vNISAKBMJ"
      },
      "execution_count": null,
      "outputs": []
    },
    {
      "cell_type": "code",
      "source": [
        "history.history"
      ],
      "metadata": {
        "id": "k9GSy4JkKGEP"
      },
      "execution_count": null,
      "outputs": []
    }
  ]
}