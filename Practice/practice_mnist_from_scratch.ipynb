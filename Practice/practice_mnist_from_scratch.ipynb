{
  "nbformat": 4,
  "nbformat_minor": 0,
  "metadata": {
    "colab": {
      "provenance": [],
      "gpuType": "T4"
    },
    "kernelspec": {
      "name": "python3",
      "display_name": "Python 3"
    },
    "language_info": {
      "name": "python"
    },
    "accelerator": "GPU"
  },
  "cells": [
    {
      "cell_type": "code",
      "execution_count": 18,
      "metadata": {
        "id": "u0oDs1x7qo8h"
      },
      "outputs": [],
      "source": [
        "import tensorflow as tf"
      ]
    },
    {
      "cell_type": "code",
      "source": [
        "# NaiveDense\n",
        "# NaiveSequential\n",
        "# BatchGenerator\n",
        "# one_training_step(model, images_batch, labels_batch)\n",
        "# update_weights(gradients, weights)\n",
        "# fit(model, images, labels, epochs, batch_size)\n",
        "# accuracy"
      ],
      "metadata": {
        "id": "ku8ezOv4j6Dm"
      },
      "execution_count": 19,
      "outputs": []
    },
    {
      "cell_type": "code",
      "source": [
        "class NaiveDense:\n",
        "  def __init__(self, input_size, output_size, activation):\n",
        "    self.activation = activation\n",
        "\n",
        "    w_shape = (input_size, output_size)\n",
        "    w_initial_value = tf.random.uniform(w_shape, minval = 0, maxval = 1e-1)\n",
        "    self.W = tf.Variable(w_initial_value)\n",
        "\n",
        "    b_shape = (output_size, )\n",
        "    b_initial_value = tf.zeros(b_shape)\n",
        "    self.b = tf.Variable(b_initial_value)\n",
        "\n",
        "  def __call__(self, inputs):\n",
        "    return self.activation(tf.matmul(inputs, self.W) + self.b)\n",
        "\n",
        "  @property\n",
        "  def weights(self):\n",
        "    return [self.W, self.b]\n"
      ],
      "metadata": {
        "id": "DOKgnblkj83A"
      },
      "execution_count": 20,
      "outputs": []
    },
    {
      "cell_type": "code",
      "source": [
        "class NaiveSequential:\n",
        "  def __init__(self, layers):\n",
        "    self.layers = layers\n",
        "\n",
        "  def __call__(self, inputs):\n",
        "    x = inputs\n",
        "    for layer in self.layers:\n",
        "      x = layer(x)\n",
        "    return x\n",
        "\n",
        "  @property\n",
        "  def weights(self):\n",
        "    weights = []\n",
        "    for layer in self.layers:\n",
        "      weights += layer.weights\n",
        "    return weights"
      ],
      "metadata": {
        "id": "028v3bLtlLfo"
      },
      "execution_count": 21,
      "outputs": []
    },
    {
      "cell_type": "code",
      "source": [
        "model = NaiveSequential([\n",
        "    NaiveDense(input_size=28*28, output_size= 512, activation = tf.nn.relu),\n",
        "    NaiveDense(input_size= 512, output_size =10, activation = tf.nn.softmax)\n",
        "])"
      ],
      "metadata": {
        "id": "O9d0pVvAkNiy"
      },
      "execution_count": 22,
      "outputs": []
    },
    {
      "cell_type": "code",
      "source": [
        "import math\n",
        "\n",
        "class BatchGenerator:\n",
        "  def __init__(self, images, labels, batch_size = 128):\n",
        "    assert len(images) == len(labels)\n",
        "    self.index = 0\n",
        "    self.images = images\n",
        "    self.labels = labels\n",
        "    self.batch_size = batch_size\n",
        "    self.num_batches = math.ceil(len(images) / batch_size)\n",
        "\n",
        "  def next(self):\n",
        "    images = self.images[self.index: self.index + self.batch_size]\n",
        "    labels = self.labels[self.index: self.index + self.batch_size]\n",
        "    self.index += self.batch_size\n",
        "\n",
        "    return images, labels"
      ],
      "metadata": {
        "id": "4bYikICDleIo"
      },
      "execution_count": 23,
      "outputs": []
    },
    {
      "cell_type": "code",
      "source": [
        "def one_training_step(model, images_batch, labels_batch):\n",
        "  with tf.GradientTape() as tape:\n",
        "    predictions = model(images_batch)\n",
        "    per_sample_losses = tf.keras.losses.sparse_categorical_crossentropy(labels_batch, predictions)\n",
        "    average_loss = tf.reduce_mean(per_sample_losses)\n",
        "  gradients = tape.gradient(average_loss, model.weights)\n",
        "  update_weights(gradients, model.weights)\n",
        "  return average_loss"
      ],
      "metadata": {
        "id": "10xhksgcl_PP"
      },
      "execution_count": 24,
      "outputs": []
    },
    {
      "cell_type": "code",
      "source": [
        "learning_rate = 1e-3"
      ],
      "metadata": {
        "id": "UT5Z1XLXmiYH"
      },
      "execution_count": 25,
      "outputs": []
    },
    {
      "cell_type": "code",
      "source": [
        "def update_weights(gradients, weights):\n",
        "  for g, w in zip(gradients, weights):\n",
        "    w.assign_sub(g * learning_rate)"
      ],
      "metadata": {
        "id": "nZHSYZcFmcBM"
      },
      "execution_count": 26,
      "outputs": []
    },
    {
      "cell_type": "code",
      "source": [
        "def fit(model, images, labels, epochs, batch_size=128):\n",
        "  for epoch_counter in range(epochs):\n",
        "    print(f\"Epoch: {epoch_counter}\")\n",
        "    batch_generator = BatchGenerator(images, labels)\n",
        "    for batch_counter in range(batch_generator.num_batches):\n",
        "      images_batch, labels_batch = batch_generator.next()\n",
        "      loss = one_training_step(model, images_batch, labels_batch)\n",
        "      if batch_counter % 100 == 0:\n",
        "        print(f\"loss at batch {batch_counter}: {loss:.2f}\")"
      ],
      "metadata": {
        "id": "9FAnk2C5mjvD"
      },
      "execution_count": 27,
      "outputs": []
    },
    {
      "cell_type": "code",
      "source": [
        "from tensorflow.keras.datasets import mnist\n",
        "\n",
        "(train_images, train_labels), (test_images, test_labels) = mnist.load_data()\n",
        "print(train_images.shape)\n",
        "print(train_labels.shape)\n",
        "train_images = train_images.reshape((60000, 28*28))\n",
        "train_images = train_images.astype(\"float32\")/255\n",
        "test_images = test_images.reshape((10000, 28*28))\n",
        "test_images = test_images.astype(\"float32\")/255"
      ],
      "metadata": {
        "colab": {
          "base_uri": "https://localhost:8080/"
        },
        "id": "ujlTSxbfnSVz",
        "outputId": "78f7c9dc-2294-425b-c492-2b9a68607732"
      },
      "execution_count": 28,
      "outputs": [
        {
          "output_type": "stream",
          "name": "stdout",
          "text": [
            "(60000, 28, 28)\n",
            "(60000,)\n"
          ]
        }
      ]
    },
    {
      "cell_type": "code",
      "source": [
        "fit(model, train_images, train_labels, epochs = 10, batch_size = 128)"
      ],
      "metadata": {
        "colab": {
          "base_uri": "https://localhost:8080/"
        },
        "id": "eIvMojHDnO9l",
        "outputId": "039350e6-9d25-419c-fc3b-9b38466cb415"
      },
      "execution_count": 29,
      "outputs": [
        {
          "output_type": "stream",
          "name": "stdout",
          "text": [
            "Epoch: 0\n",
            "loss at batch 0: 4.54\n",
            "loss at batch 100: 2.24\n",
            "loss at batch 200: 2.21\n",
            "loss at batch 300: 2.12\n",
            "loss at batch 400: 2.20\n",
            "Epoch: 1\n",
            "loss at batch 0: 1.90\n",
            "loss at batch 100: 1.89\n",
            "loss at batch 200: 1.83\n",
            "loss at batch 300: 1.74\n",
            "loss at batch 400: 1.82\n",
            "Epoch: 2\n",
            "loss at batch 0: 1.58\n",
            "loss at batch 100: 1.60\n",
            "loss at batch 200: 1.50\n",
            "loss at batch 300: 1.45\n",
            "loss at batch 400: 1.51\n",
            "Epoch: 3\n",
            "loss at batch 0: 1.32\n",
            "loss at batch 100: 1.36\n",
            "loss at batch 200: 1.24\n",
            "loss at batch 300: 1.23\n",
            "loss at batch 400: 1.28\n",
            "Epoch: 4\n",
            "loss at batch 0: 1.12\n",
            "loss at batch 100: 1.17\n",
            "loss at batch 200: 1.04\n",
            "loss at batch 300: 1.06\n",
            "loss at batch 400: 1.12\n",
            "Epoch: 5\n",
            "loss at batch 0: 0.98\n",
            "loss at batch 100: 1.03\n",
            "loss at batch 200: 0.90\n",
            "loss at batch 300: 0.94\n",
            "loss at batch 400: 1.00\n",
            "Epoch: 6\n",
            "loss at batch 0: 0.87\n",
            "loss at batch 100: 0.92\n",
            "loss at batch 200: 0.79\n",
            "loss at batch 300: 0.85\n",
            "loss at batch 400: 0.91\n",
            "Epoch: 7\n",
            "loss at batch 0: 0.79\n",
            "loss at batch 100: 0.84\n",
            "loss at batch 200: 0.72\n",
            "loss at batch 300: 0.78\n",
            "loss at batch 400: 0.84\n",
            "Epoch: 8\n",
            "loss at batch 0: 0.73\n",
            "loss at batch 100: 0.77\n",
            "loss at batch 200: 0.65\n",
            "loss at batch 300: 0.72\n",
            "loss at batch 400: 0.79\n",
            "Epoch: 9\n",
            "loss at batch 0: 0.68\n",
            "loss at batch 100: 0.71\n",
            "loss at batch 200: 0.60\n",
            "loss at batch 300: 0.68\n",
            "loss at batch 400: 0.75\n"
          ]
        }
      ]
    },
    {
      "cell_type": "code",
      "source": [
        "import numpy as np"
      ],
      "metadata": {
        "id": "RxigtQ-kp2EU"
      },
      "execution_count": 30,
      "outputs": []
    },
    {
      "cell_type": "code",
      "source": [
        "predictions = model(test_images)\n",
        "predictions = predictions.numpy()\n",
        "predicted_labels = np.argmax(predictions, axis = 1)\n",
        "matches = predicted_labels == test_labels\n",
        "print(f\"accuracy: {matches.mean():.2f}\")\n"
      ],
      "metadata": {
        "colab": {
          "base_uri": "https://localhost:8080/"
        },
        "id": "1k3i0ZeXns7X",
        "outputId": "dec2af41-b218-4750-93fb-2dbcacc94c2d"
      },
      "execution_count": 31,
      "outputs": [
        {
          "output_type": "stream",
          "name": "stdout",
          "text": [
            "accuracy: 0.82\n"
          ]
        }
      ]
    }
  ]
}