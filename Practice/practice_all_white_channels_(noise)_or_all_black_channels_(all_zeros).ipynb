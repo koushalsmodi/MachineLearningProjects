{
  "nbformat": 4,
  "nbformat_minor": 0,
  "metadata": {
    "colab": {
      "provenance": [],
      "gpuType": "T4"
    },
    "kernelspec": {
      "name": "python3",
      "display_name": "Python 3"
    },
    "language_info": {
      "name": "python"
    },
    "accelerator": "GPU"
  },
  "cells": [
    {
      "cell_type": "code",
      "execution_count": null,
      "metadata": {
        "id": "Z5WTc8qW-V07"
      },
      "outputs": [],
      "source": [
        "# Underftting = the network hasn't yet learned the parameters useful for prediction on trainnig data\n",
        "\n",
        "# Overfitting = the network is optimized on the training data and is failing to generalize on new data\n",
        "# 1) Noisy data -> invalid inputs, mislabeled targets\n",
        "# 2) Ambiguous features -> input feature space is overlapping for classes where there is no objective boundary\n",
        "# 3) Rare features -> 1 in a 100 or 1000"
      ]
    },
    {
      "cell_type": "code",
      "source": [
        "from tensorflow import keras\n",
        "from tensorflow.keras import layers\n",
        "from tensorflow.keras.datasets import mnist\n",
        "import numpy as np\n",
        "import matplotlib.pyplot as plt"
      ],
      "metadata": {
        "id": "nZf0IZmsHbfF"
      },
      "execution_count": 1,
      "outputs": []
    },
    {
      "cell_type": "code",
      "source": [
        "(train_images, train_labels), _ = mnist.load_data()\n",
        "train_images.shape"
      ],
      "metadata": {
        "colab": {
          "base_uri": "https://localhost:8080/"
        },
        "id": "l0BINNKBImEP",
        "outputId": "ba1d3388-2eb6-41d1-db13-df971e272ea6"
      },
      "execution_count": 2,
      "outputs": [
        {
          "output_type": "stream",
          "name": "stdout",
          "text": [
            "Downloading data from https://storage.googleapis.com/tensorflow/tf-keras-datasets/mnist.npz\n",
            "\u001b[1m11490434/11490434\u001b[0m \u001b[32m━━━━━━━━━━━━━━━━━━━━\u001b[0m\u001b[37m\u001b[0m \u001b[1m2s\u001b[0m 0us/step\n"
          ]
        },
        {
          "output_type": "execute_result",
          "data": {
            "text/plain": [
              "(60000, 28, 28)"
            ]
          },
          "metadata": {},
          "execution_count": 2
        }
      ]
    },
    {
      "cell_type": "code",
      "source": [
        "train_images = train_images.reshape((60000, 28*28))\n",
        "train_images = train_images.astype(\"float32\") / 255\n",
        "train_images.shape"
      ],
      "metadata": {
        "colab": {
          "base_uri": "https://localhost:8080/"
        },
        "id": "6wQMgD4JIrEN",
        "outputId": "48541c83-08b6-4757-e647-9eed4a3b4926"
      },
      "execution_count": 6,
      "outputs": [
        {
          "output_type": "execute_result",
          "data": {
            "text/plain": [
              "(60000, 784)"
            ]
          },
          "metadata": {},
          "execution_count": 6
        }
      ]
    },
    {
      "cell_type": "code",
      "source": [
        "len(train_images)"
      ],
      "metadata": {
        "colab": {
          "base_uri": "https://localhost:8080/"
        },
        "id": "Fjc9Ax3HJUJj",
        "outputId": "daf77c69-8703-4d7d-b694-521eb91b3512"
      },
      "execution_count": 7,
      "outputs": [
        {
          "output_type": "execute_result",
          "data": {
            "text/plain": [
              "60000"
            ]
          },
          "metadata": {},
          "execution_count": 7
        }
      ]
    },
    {
      "cell_type": "code",
      "source": [
        "# All white channels -> noise\n",
        "# All black channels -> all zeros\n",
        "\n",
        "train_images_with_noise_channels = np.concatenate(\n",
        "    [train_images, np.random.random(size = (len(train_images), 784))], axis = 1\n",
        ")\n",
        "\n",
        "train_images_with_zeros_channels = np.concatenate(\n",
        "    [train_images, np.zeros(shape = (len(train_images), 784))], axis = 1\n",
        ")"
      ],
      "metadata": {
        "id": "Djl71gdDItmG"
      },
      "execution_count": 15,
      "outputs": []
    },
    {
      "cell_type": "code",
      "source": [
        "print(train_images_with_noise_channels.shape)"
      ],
      "metadata": {
        "colab": {
          "base_uri": "https://localhost:8080/"
        },
        "id": "D8APacy6JWJQ",
        "outputId": "4a27e639-f7ab-4f9c-c730-50c8de69bb6a"
      },
      "execution_count": 16,
      "outputs": [
        {
          "output_type": "stream",
          "name": "stdout",
          "text": [
            "(60000, 1568)\n"
          ]
        }
      ]
    },
    {
      "cell_type": "code",
      "source": [
        "print(train_images_with_zeros_channels.shape)"
      ],
      "metadata": {
        "colab": {
          "base_uri": "https://localhost:8080/"
        },
        "id": "5e7T7CBcJrNP",
        "outputId": "d09f4d13-681c-4ea1-f557-e38de0cd96db"
      },
      "execution_count": 17,
      "outputs": [
        {
          "output_type": "stream",
          "name": "stdout",
          "text": [
            "(60000, 1568)\n"
          ]
        }
      ]
    },
    {
      "cell_type": "code",
      "source": [
        "784+784"
      ],
      "metadata": {
        "colab": {
          "base_uri": "https://localhost:8080/"
        },
        "id": "STesAaYeJtCg",
        "outputId": "47575fe2-1490-4cfb-df34-950db240561b"
      },
      "execution_count": 18,
      "outputs": [
        {
          "output_type": "execute_result",
          "data": {
            "text/plain": [
              "1568"
            ]
          },
          "metadata": {},
          "execution_count": 18
        }
      ]
    },
    {
      "cell_type": "code",
      "source": [
        "def get_model():\n",
        "  model = keras.Sequential( [\n",
        "      layers.Dense(512, activation = \"relu\"),\n",
        "      layers.Dense(10, activation = \"softmax\")\n",
        "  ])\n",
        "\n",
        "  model.compile(\n",
        "      optimizer = \"rmsprop\",\n",
        "      loss = \"sparse_categorical_crossentropy\",\n",
        "      metrics = [\"accuracy\"]\n",
        "  )\n",
        "\n",
        "  return model"
      ],
      "metadata": {
        "id": "scPvNncdJufG"
      },
      "execution_count": 24,
      "outputs": []
    },
    {
      "cell_type": "code",
      "source": [
        "train_labels.shape"
      ],
      "metadata": {
        "colab": {
          "base_uri": "https://localhost:8080/"
        },
        "id": "TFSWLzGOKWqM",
        "outputId": "38e0f43c-0ff1-4ce0-940e-9c82a0b410ee"
      },
      "execution_count": 25,
      "outputs": [
        {
          "output_type": "execute_result",
          "data": {
            "text/plain": [
              "(60000,)"
            ]
          },
          "metadata": {},
          "execution_count": 25
        }
      ]
    },
    {
      "cell_type": "code",
      "source": [
        "model = get_model()\n",
        "history_noise = model.fit(train_images_with_noise_channels,\n",
        "                          train_labels,\n",
        "                          epochs = 10,\n",
        "                          batch_size = 128,\n",
        "                          validation_split = 0.2\n",
        "                          )"
      ],
      "metadata": {
        "colab": {
          "base_uri": "https://localhost:8080/"
        },
        "id": "btNGUrt1KIco",
        "outputId": "b3825c67-564f-46c7-84b6-1279c83e38c1"
      },
      "execution_count": 26,
      "outputs": [
        {
          "output_type": "stream",
          "name": "stdout",
          "text": [
            "Epoch 1/10\n",
            "\u001b[1m375/375\u001b[0m \u001b[32m━━━━━━━━━━━━━━━━━━━━\u001b[0m\u001b[37m\u001b[0m \u001b[1m3s\u001b[0m 6ms/step - accuracy: 0.6932 - loss: 1.0466 - val_accuracy: 0.8571 - val_loss: 0.4655\n",
            "Epoch 2/10\n",
            "\u001b[1m375/375\u001b[0m \u001b[32m━━━━━━━━━━━━━━━━━━━━\u001b[0m\u001b[37m\u001b[0m \u001b[1m3s\u001b[0m 3ms/step - accuracy: 0.9135 - loss: 0.2790 - val_accuracy: 0.9423 - val_loss: 0.1962\n",
            "Epoch 3/10\n",
            "\u001b[1m375/375\u001b[0m \u001b[32m━━━━━━━━━━━━━━━━━━━━\u001b[0m\u001b[37m\u001b[0m \u001b[1m1s\u001b[0m 3ms/step - accuracy: 0.9475 - loss: 0.1739 - val_accuracy: 0.9528 - val_loss: 0.1626\n",
            "Epoch 4/10\n",
            "\u001b[1m375/375\u001b[0m \u001b[32m━━━━━━━━━━━━━━━━━━━━\u001b[0m\u001b[37m\u001b[0m \u001b[1m2s\u001b[0m 5ms/step - accuracy: 0.9609 - loss: 0.1246 - val_accuracy: 0.9628 - val_loss: 0.1259\n",
            "Epoch 5/10\n",
            "\u001b[1m375/375\u001b[0m \u001b[32m━━━━━━━━━━━━━━━━━━━━\u001b[0m\u001b[37m\u001b[0m \u001b[1m1s\u001b[0m 4ms/step - accuracy: 0.9725 - loss: 0.0871 - val_accuracy: 0.9629 - val_loss: 0.1252\n",
            "Epoch 6/10\n",
            "\u001b[1m375/375\u001b[0m \u001b[32m━━━━━━━━━━━━━━━━━━━━\u001b[0m\u001b[37m\u001b[0m \u001b[1m3s\u001b[0m 4ms/step - accuracy: 0.9780 - loss: 0.0650 - val_accuracy: 0.9638 - val_loss: 0.1252\n",
            "Epoch 7/10\n",
            "\u001b[1m375/375\u001b[0m \u001b[32m━━━━━━━━━━━━━━━━━━━━\u001b[0m\u001b[37m\u001b[0m \u001b[1m1s\u001b[0m 4ms/step - accuracy: 0.9847 - loss: 0.0480 - val_accuracy: 0.9369 - val_loss: 0.2258\n",
            "Epoch 8/10\n",
            "\u001b[1m375/375\u001b[0m \u001b[32m━━━━━━━━━━━━━━━━━━━━\u001b[0m\u001b[37m\u001b[0m \u001b[1m2s\u001b[0m 4ms/step - accuracy: 0.9884 - loss: 0.0357 - val_accuracy: 0.9660 - val_loss: 0.1202\n",
            "Epoch 9/10\n",
            "\u001b[1m375/375\u001b[0m \u001b[32m━━━━━━━━━━━━━━━━━━━━\u001b[0m\u001b[37m\u001b[0m \u001b[1m1s\u001b[0m 3ms/step - accuracy: 0.9934 - loss: 0.0232 - val_accuracy: 0.9554 - val_loss: 0.1693\n",
            "Epoch 10/10\n",
            "\u001b[1m375/375\u001b[0m \u001b[32m━━━━━━━━━━━━━━━━━━━━\u001b[0m\u001b[37m\u001b[0m \u001b[1m1s\u001b[0m 3ms/step - accuracy: 0.9942 - loss: 0.0184 - val_accuracy: 0.9716 - val_loss: 0.1228\n"
          ]
        }
      ]
    },
    {
      "cell_type": "code",
      "source": [
        "model = get_model()\n",
        "\n",
        "history_zeros = model.fit(train_images_with_zeros_channels,\n",
        "                          train_labels,\n",
        "                          epochs = 10,\n",
        "                          batch_size = 128,\n",
        "                          validation_split = 0.2)"
      ],
      "metadata": {
        "colab": {
          "base_uri": "https://localhost:8080/"
        },
        "id": "nW9FrwT4KSxC",
        "outputId": "bc8e484f-5355-45e2-928f-599813474743"
      },
      "execution_count": 28,
      "outputs": [
        {
          "output_type": "stream",
          "name": "stdout",
          "text": [
            "Epoch 1/10\n",
            "\u001b[1m375/375\u001b[0m \u001b[32m━━━━━━━━━━━━━━━━━━━━\u001b[0m\u001b[37m\u001b[0m \u001b[1m3s\u001b[0m 5ms/step - accuracy: 0.8550 - loss: 0.4905 - val_accuracy: 0.9573 - val_loss: 0.1534\n",
            "Epoch 2/10\n",
            "\u001b[1m375/375\u001b[0m \u001b[32m━━━━━━━━━━━━━━━━━━━━\u001b[0m\u001b[37m\u001b[0m \u001b[1m1s\u001b[0m 4ms/step - accuracy: 0.9585 - loss: 0.1396 - val_accuracy: 0.9655 - val_loss: 0.1160\n",
            "Epoch 3/10\n",
            "\u001b[1m375/375\u001b[0m \u001b[32m━━━━━━━━━━━━━━━━━━━━\u001b[0m\u001b[37m\u001b[0m \u001b[1m1s\u001b[0m 3ms/step - accuracy: 0.9756 - loss: 0.0854 - val_accuracy: 0.9703 - val_loss: 0.0952\n",
            "Epoch 4/10\n",
            "\u001b[1m375/375\u001b[0m \u001b[32m━━━━━━━━━━━━━━━━━━━━\u001b[0m\u001b[37m\u001b[0m \u001b[1m1s\u001b[0m 3ms/step - accuracy: 0.9821 - loss: 0.0619 - val_accuracy: 0.9755 - val_loss: 0.0844\n",
            "Epoch 5/10\n",
            "\u001b[1m375/375\u001b[0m \u001b[32m━━━━━━━━━━━━━━━━━━━━\u001b[0m\u001b[37m\u001b[0m \u001b[1m1s\u001b[0m 3ms/step - accuracy: 0.9875 - loss: 0.0438 - val_accuracy: 0.9770 - val_loss: 0.0768\n",
            "Epoch 6/10\n",
            "\u001b[1m375/375\u001b[0m \u001b[32m━━━━━━━━━━━━━━━━━━━━\u001b[0m\u001b[37m\u001b[0m \u001b[1m1s\u001b[0m 3ms/step - accuracy: 0.9910 - loss: 0.0319 - val_accuracy: 0.9766 - val_loss: 0.0850\n",
            "Epoch 7/10\n",
            "\u001b[1m375/375\u001b[0m \u001b[32m━━━━━━━━━━━━━━━━━━━━\u001b[0m\u001b[37m\u001b[0m \u001b[1m3s\u001b[0m 3ms/step - accuracy: 0.9918 - loss: 0.0275 - val_accuracy: 0.9759 - val_loss: 0.0842\n",
            "Epoch 8/10\n",
            "\u001b[1m375/375\u001b[0m \u001b[32m━━━━━━━━━━━━━━━━━━━━\u001b[0m\u001b[37m\u001b[0m \u001b[1m2s\u001b[0m 3ms/step - accuracy: 0.9953 - loss: 0.0187 - val_accuracy: 0.9776 - val_loss: 0.0813\n",
            "Epoch 9/10\n",
            "\u001b[1m375/375\u001b[0m \u001b[32m━━━━━━━━━━━━━━━━━━━━\u001b[0m\u001b[37m\u001b[0m \u001b[1m1s\u001b[0m 3ms/step - accuracy: 0.9965 - loss: 0.0141 - val_accuracy: 0.9801 - val_loss: 0.0781\n",
            "Epoch 10/10\n",
            "\u001b[1m375/375\u001b[0m \u001b[32m━━━━━━━━━━━━━━━━━━━━\u001b[0m\u001b[37m\u001b[0m \u001b[1m1s\u001b[0m 3ms/step - accuracy: 0.9979 - loss: 0.0101 - val_accuracy: 0.9801 - val_loss: 0.0753\n"
          ]
        }
      ]
    },
    {
      "cell_type": "code",
      "source": [
        "history_dict = history_noise.history\n",
        "history_dict.items()"
      ],
      "metadata": {
        "colab": {
          "base_uri": "https://localhost:8080/"
        },
        "id": "8-LoZvSeLXGz",
        "outputId": "8f6dc3ab-0801-4db8-a322-520e5eefdbd3"
      },
      "execution_count": 30,
      "outputs": [
        {
          "output_type": "execute_result",
          "data": {
            "text/plain": [
              "dict_items([('accuracy', [0.8093958497047424, 0.9207291603088379, 0.9490208625793457, 0.9629166722297668, 0.9725000262260437, 0.9790624976158142, 0.9846041798591614, 0.9884166717529297, 0.9920416474342346, 0.9938541650772095]), ('loss', [0.6195041537284851, 0.25705403089523315, 0.1674634963274002, 0.11974309384822845, 0.08824344724416733, 0.06413378566503525, 0.047775208950042725, 0.03473431617021561, 0.025713156908750534, 0.018743714317679405]), ('val_accuracy', [0.8570833206176758, 0.9422500133514404, 0.952833354473114, 0.9628333449363708, 0.9629166722297668, 0.9638333320617676, 0.9369166493415833, 0.9660000205039978, 0.9554166793823242, 0.9715833067893982]), ('val_loss', [0.46552515029907227, 0.1962277591228485, 0.162618026137352, 0.12591250240802765, 0.1252339631319046, 0.12516964972019196, 0.22581098973751068, 0.12017296999692917, 0.16928507387638092, 0.12279057502746582])])"
            ]
          },
          "metadata": {},
          "execution_count": 30
        }
      ]
    },
    {
      "cell_type": "code",
      "source": [
        "all_noise_val_acc = history_noise.history[\"val_accuracy\"]\n",
        "all_zeros_val_acc = history_zeros.history[\"val_accuracy\"]\n",
        "epochs = range(1, 11)\n",
        "\n",
        "plt.plot(epochs, all_noise_val_acc, \"b-\", label = \"Validation accuracy with noise channels\")\n",
        "plt.plot(epochs, all_zeros_val_acc, \"b--\", label = \"Validation accuracy with all zeros channels\")\n",
        "plt.xlabel(\"Epochs\")\n",
        "plt.ylabel(\"Effect of noise channels on Validation accuracy\")\n",
        "plt.legend()\n",
        "plt.show()"
      ],
      "metadata": {
        "colab": {
          "base_uri": "https://localhost:8080/",
          "height": 449
        },
        "id": "YWj8ozrgKztu",
        "outputId": "5ed86fb5-3e05-4b30-d906-adcc83af7639"
      },
      "execution_count": 33,
      "outputs": [
        {
          "output_type": "display_data",
          "data": {
            "text/plain": [
              "<Figure size 640x480 with 1 Axes>"
            ],
            "image/png": "[encoded data removed]"
          },
          "metadata": {}
        }
      ]
    },
    {
      "cell_type": "code",
      "source": [
        "# it is clear that adding noise reducs the validation accuracy by 1% point\n",
        "# noisy channels lead to overfitting\n",
        "# therefore, it's necessary to do usefuleness score for each feature to find the mutual information between the feature and the labels"
      ],
      "metadata": {
        "id": "BDpDc39OLUzU"
      },
      "execution_count": 34,
      "outputs": []
    }
  ]
}