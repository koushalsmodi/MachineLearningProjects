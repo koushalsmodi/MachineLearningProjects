{
  "nbformat": 4,
  "nbformat_minor": 0,
  "metadata": {
    "colab": {
      "provenance": [],
      "gpuType": "T4"
    },
    "kernelspec": {
      "name": "python3",
      "display_name": "Python 3"
    },
    "language_info": {
      "name": "python"
    },
    "accelerator": "GPU"
  },
  "cells": [
    {
      "cell_type": "code",
      "source": [
        "import numpy as np\n",
        "\n",
        "x = np.array([\n",
        "\n",
        "    [1,-5],\n",
        "    [-7,21],\n",
        "    [28, 19]\n",
        "\n",
        "])"
      ],
      "metadata": {
        "id": "wFYC4gpAuGec"
      },
      "execution_count": 19,
      "outputs": []
    },
    {
      "cell_type": "code",
      "execution_count": 20,
      "metadata": {
        "colab": {
          "base_uri": "https://localhost:8080/"
        },
        "id": "Uy1m3hog9h5V",
        "outputId": "15105c7f-a8ed-4fef-d452-f947c8f5d5a0"
      },
      "outputs": [
        {
          "output_type": "stream",
          "name": "stdout",
          "text": [
            "[[ 1  0]\n",
            " [ 0 21]\n",
            " [28 19]]\n"
          ]
        }
      ],
      "source": [
        "# 1 matrix relu\n",
        "def naive_relu(x):\n",
        "  assert len(x.shape) == 2\n",
        "  x = x.copy()\n",
        "\n",
        "  for i in range(x.shape[0]):\n",
        "    for j in range(x.shape[1]):\n",
        "      x[i,j] = max(x[i,j], 0)\n",
        "\n",
        "  return x\n",
        "\n",
        "print(naive_relu(x))"
      ]
    },
    {
      "cell_type": "code",
      "source": [
        "# 2 matrix addition\n",
        "\n",
        "y = np.array([\n",
        "    [2, -4],\n",
        "    [6, 8],\n",
        "    [10, -12]\n",
        "])\n",
        "\n",
        "def naive_add(x,y):\n",
        "  assert len(x.shape) == 2\n",
        "  assert x.shape == y.shape\n",
        "\n",
        "  x = x.copy()\n",
        "\n",
        "  for i in range(x.shape[0]):\n",
        "    for j in range(x.shape[1]):\n",
        "      x[i,j] += y[i,j]\n",
        "\n",
        "  return x\n",
        "\n",
        "print(x)\n",
        "print(y)\n",
        "print()\n",
        "print(naive_add(x,y))"
      ],
      "metadata": {
        "colab": {
          "base_uri": "https://localhost:8080/"
        },
        "id": "TgL-BzUGtQB5",
        "outputId": "2e0a59b2-8ee6-4f4b-e2c9-f740aafe2609"
      },
      "execution_count": 30,
      "outputs": [
        {
          "output_type": "stream",
          "name": "stdout",
          "text": [
            "[[ 1 -5]\n",
            " [-7 21]\n",
            " [28 19]]\n",
            "[[  2  -4]\n",
            " [  6   8]\n",
            " [ 10 -12]]\n",
            "\n",
            "[[ 3 -9]\n",
            " [-1 29]\n",
            " [38  7]]\n"
          ]
        }
      ]
    },
    {
      "cell_type": "code",
      "source": [
        "import time\n",
        "\n",
        "t0 = time.time()\n",
        "\n",
        "for _ in range(1000):\n",
        "  z = x+y\n",
        "  z = np.maximum(z, 0.)\n",
        "\n",
        "my_time = time.time() - t0\n",
        "print(f\"{my_time: .2f} s\")\n",
        "\n",
        "for _ in range(1000):\n",
        "  z = naive_add(x, y)\n",
        "  z = naive_relu(z)\n",
        "my_time = time.time() - t0\n",
        "print(f\"{my_time: .2f} s\")\n",
        "\n"
      ],
      "metadata": {
        "colab": {
          "base_uri": "https://localhost:8080/"
        },
        "id": "Hv4ihC7Ow1ko",
        "outputId": "b305efc6-5494-4c4d-d248-280442eba31d"
      },
      "execution_count": 31,
      "outputs": [
        {
          "output_type": "stream",
          "name": "stdout",
          "text": [
            " 0.01 s\n",
            " 0.03 s\n"
          ]
        }
      ]
    },
    {
      "cell_type": "code",
      "source": [
        "# 1 matrix and 1 vector addition\n",
        "\n",
        "y = np.array([4,6])\n",
        "\n",
        "def naive_add_matrix_and_vector(x, y):\n",
        "  assert len(x.shape) == 2\n",
        "  # X = (3,2)\n",
        "  # y = (2, 1)\n",
        "\n",
        "  assert x.shape[1] == y.shape[0]\n",
        "\n",
        "  x = x.copy()\n",
        "\n",
        "  for i in range(x.shape[0]):\n",
        "    for j in range(x.shape[1]):\n",
        "      x[i,j] += y[j]\n",
        "\n",
        "  return x\n",
        "\n",
        "print(naive_add_matrix_and_vector(x, y))"
      ],
      "metadata": {
        "colab": {
          "base_uri": "https://localhost:8080/"
        },
        "id": "RjKS3qLptSkb",
        "outputId": "ea6f5849-d375-4156-8544-433c63b0f7f7"
      },
      "execution_count": 26,
      "outputs": [
        {
          "output_type": "stream",
          "name": "stdout",
          "text": [
            "[[ 5  1]\n",
            " [-3 27]\n",
            " [32 25]]\n"
          ]
        }
      ]
    }
  ]
}