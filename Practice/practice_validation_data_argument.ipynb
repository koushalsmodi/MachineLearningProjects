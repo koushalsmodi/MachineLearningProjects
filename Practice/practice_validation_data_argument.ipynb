{
  "nbformat": 4,
  "nbformat_minor": 0,
  "metadata": {
    "colab": {
      "provenance": [],
      "gpuType": "T4"
    },
    "kernelspec": {
      "name": "python3",
      "display_name": "Python 3"
    },
    "language_info": {
      "name": "python"
    },
    "accelerator": "GPU"
  },
  "cells": [
    {
      "cell_type": "code",
      "execution_count": 13,
      "metadata": {
        "colab": {
          "base_uri": "https://localhost:8080/"
        },
        "id": "nwWizAT1PPFv",
        "outputId": "56fe7e34-5c48-411f-db96-17e14b4cd743"
      },
      "outputs": [
        {
          "output_type": "stream",
          "name": "stdout",
          "text": [
            "[1 0 1 ... 0 1 0]\n"
          ]
        }
      ],
      "source": [
        "import tensorflow as tf\n",
        "from tensorflow import keras\n",
        "from tensorflow.keras import layers\n",
        "import numpy as np\n",
        "inputs = np.random.random(size= (100000, 784))\n",
        "targets = np.random.randint(0, 2,  size = 100000)\n",
        "print(targets)"
      ]
    },
    {
      "cell_type": "code",
      "source": [
        "model = keras.Sequential([keras.layers.Dense(1)])\n",
        "model.compile(optimizer = keras.optimizers.RMSprop(learning_rate=0.1),\n",
        "              loss = keras.losses.MeanSquaredError(),\n",
        "              metrics = [keras.metrics.BinaryAccuracy()])"
      ],
      "metadata": {
        "id": "w7CFkKgmUjdQ"
      },
      "execution_count": 14,
      "outputs": []
    },
    {
      "cell_type": "code",
      "source": [
        "indices_permutation = np.random.permutation(len(inputs))"
      ],
      "metadata": {
        "id": "VNC9xM7tU0UV"
      },
      "execution_count": 15,
      "outputs": []
    },
    {
      "cell_type": "code",
      "source": [
        "indices_permutation"
      ],
      "metadata": {
        "colab": {
          "base_uri": "https://localhost:8080/"
        },
        "id": "z3kn4AAnVXlP",
        "outputId": "9683f1da-2467-46a6-ccc0-36c953a57dbf"
      },
      "execution_count": 16,
      "outputs": [
        {
          "output_type": "execute_result",
          "data": {
            "text/plain": [
              "array([78290, 14680, 18999, ..., 22921,  4739, 73634])"
            ]
          },
          "metadata": {},
          "execution_count": 16
        }
      ]
    },
    {
      "cell_type": "code",
      "source": [
        "shuffled_inputs = inputs[indices_permutation]\n",
        "shuffled_targets = targets[indices_permutation]\n",
        "\n",
        "num_validation_samples = int(0.3 * len(inputs))\n",
        "num_validation_samples\n",
        "\n",
        "val_inputs = shuffled_inputs[:num_validation_samples]\n",
        "val_targets = shuffled_targets[:num_validation_samples]\n",
        "\n",
        "training_inputs = shuffled_inputs[num_validation_samples:]\n",
        "training_targets = shuffled_targets[num_validation_samples:]\n",
        "\n",
        "model.fit(training_inputs, training_targets, epochs = 5, batch_size = 128,  validation_data= (val_inputs, val_targets))"
      ],
      "metadata": {
        "colab": {
          "base_uri": "https://localhost:8080/"
        },
        "id": "azobM-KZVYv9",
        "outputId": "9a0239c6-cbca-43f1-8915-fe4047b42da3"
      },
      "execution_count": 23,
      "outputs": [
        {
          "output_type": "stream",
          "name": "stdout",
          "text": [
            "Epoch 1/5\n",
            "\u001b[1m547/547\u001b[0m \u001b[32m━━━━━━━━━━━━━━━━━━━━\u001b[0m\u001b[37m\u001b[0m \u001b[1m4s\u001b[0m 5ms/step - binary_accuracy: 0.5030 - loss: 492.0805 - val_binary_accuracy: 0.5013 - val_loss: 356.0561\n",
            "Epoch 2/5\n",
            "\u001b[1m547/547\u001b[0m \u001b[32m━━━━━━━━━━━━━━━━━━━━\u001b[0m\u001b[37m\u001b[0m \u001b[1m2s\u001b[0m 4ms/step - binary_accuracy: 0.4958 - loss: 385.5344 - val_binary_accuracy: 0.4987 - val_loss: 365.5045\n",
            "Epoch 3/5\n",
            "\u001b[1m547/547\u001b[0m \u001b[32m━━━━━━━━━━━━━━━━━━━━\u001b[0m\u001b[37m\u001b[0m \u001b[1m2s\u001b[0m 3ms/step - binary_accuracy: 0.5049 - loss: 386.9382 - val_binary_accuracy: 0.5013 - val_loss: 397.1566\n",
            "Epoch 4/5\n",
            "\u001b[1m547/547\u001b[0m \u001b[32m━━━━━━━━━━━━━━━━━━━━\u001b[0m\u001b[37m\u001b[0m \u001b[1m2s\u001b[0m 3ms/step - binary_accuracy: 0.4979 - loss: 385.5206 - val_binary_accuracy: 0.4987 - val_loss: 354.7294\n",
            "Epoch 5/5\n",
            "\u001b[1m547/547\u001b[0m \u001b[32m━━━━━━━━━━━━━━━━━━━━\u001b[0m\u001b[37m\u001b[0m \u001b[1m2s\u001b[0m 3ms/step - binary_accuracy: 0.5004 - loss: 385.7873 - val_binary_accuracy: 0.5013 - val_loss: 406.2512\n"
          ]
        },
        {
          "output_type": "execute_result",
          "data": {
            "text/plain": [
              "<keras.src.callbacks.history.History at 0x78fa9d3034d0>"
            ]
          },
          "metadata": {},
          "execution_count": 23
        }
      ]
    },
    {
      "cell_type": "code",
      "source": [
        "new_inputs = np.random.random(size= (4000, 784))\n",
        "predictions = model(new_inputs)\n",
        "predictions = model.predict(new_inputs, batch_size = 128)\n",
        "\n",
        "predictions = model.predict(val_inputs, batch_size = 128)\n",
        "print(predictions[:10])"
      ],
      "metadata": {
        "colab": {
          "base_uri": "https://localhost:8080/"
        },
        "id": "rM8DmGcdWS3B",
        "outputId": "9404c849-e609-4e31-82b8-c3f14fe0b42f"
      },
      "execution_count": 28,
      "outputs": [
        {
          "output_type": "stream",
          "name": "stdout",
          "text": [
            "\u001b[1m32/32\u001b[0m \u001b[32m━━━━━━━━━━━━━━━━━━━━\u001b[0m\u001b[37m\u001b[0m \u001b[1m0s\u001b[0m 2ms/step \n",
            "\u001b[1m235/235\u001b[0m \u001b[32m━━━━━━━━━━━━━━━━━━━━\u001b[0m\u001b[37m\u001b[0m \u001b[1m0s\u001b[0m 1ms/step\n",
            "[[-19.82696 ]\n",
            " [-19.813784]\n",
            " [-20.659899]\n",
            " [-21.045515]\n",
            " [-19.132353]\n",
            " [-20.40952 ]\n",
            " [-21.3458  ]\n",
            " [-20.052452]\n",
            " [-20.818087]\n",
            " [-20.690903]]\n"
          ]
        }
      ]
    }
  ]
}