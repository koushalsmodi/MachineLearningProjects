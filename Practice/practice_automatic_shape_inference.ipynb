{
  "nbformat": 4,
  "nbformat_minor": 0,
  "metadata": {
    "colab": {
      "provenance": [],
      "gpuType": "T4"
    },
    "kernelspec": {
      "name": "python3",
      "display_name": "Python 3"
    },
    "language_info": {
      "name": "python"
    },
    "accelerator": "GPU"
  },
  "cells": [
    {
      "cell_type": "code",
      "execution_count": 2,
      "metadata": {
        "id": "mCGRIQbe5ux7"
      },
      "outputs": [],
      "source": [
        "from tensorflow import keras\n",
        "import tensorflow as tf"
      ]
    },
    {
      "cell_type": "code",
      "source": [
        "class SimpleDense(keras.layers.Layer):\n",
        "\n",
        "  def __init__(self, units, activation):\n",
        "    self.units = units\n",
        "    self.activation = activation\n",
        "\n",
        "  def build(self, input_shape):\n",
        "    input_dim = input_shape[-1]\n",
        "    self.W = self.add_weight(shape = (input_dim, self.units), initializer = \"random_normal\")\n",
        "    self.b = self.add_weight(shape = (self.units, ), initializer = \"zeros\")\n",
        "\n",
        "  def call(self):\n",
        "    y = tf.matmul(inputs, self.W) + self.b\n",
        "    if self.activation is not None:\n",
        "      y = self.activation(y)\n",
        "    return y"
      ],
      "metadata": {
        "id": "w5msc3z18HVM"
      },
      "execution_count": null,
      "outputs": []
    },
    {
      "cell_type": "code",
      "source": [
        "input_tensor = tf.ones(shape = (2, 784))\n",
        "my_dense = SimpleDense(units = 32, activation = tf.nn.relu)\n",
        "output_tensor = my_dense(input_tensor)\n",
        "print(output_tensor.shape)\n",
        "print(output_tensor)"
      ],
      "metadata": {
        "colab": {
          "base_uri": "https://localhost:8080/"
        },
        "id": "tycbstx98soj",
        "outputId": "6d765f4f-c278-4b8b-f3ad-67d6375bb7f7"
      },
      "execution_count": 14,
      "outputs": [
        {
          "output_type": "stream",
          "name": "stdout",
          "text": [
            "(2, 32)\n",
            "tf.Tensor(\n",
            "[[0.         0.         0.         2.7579153  0.         0.\n",
            "  2.8894455  0.         0.         1.4861486  0.         0.\n",
            "  0.77339476 0.         0.02520991 2.6721032  0.         1.1646342\n",
            "  0.         0.27518478 1.0735066  0.531829   0.73537767 0.7331979\n",
            "  2.423002   0.08654952 0.19464546 1.2360255  0.97066987 0.7371641\n",
            "  0.8845501  0.20354179]\n",
            " [0.         0.         0.         2.7579153  0.         0.\n",
            "  2.8894455  0.         0.         1.4861486  0.         0.\n",
            "  0.77339476 0.         0.02520991 2.6721032  0.         1.1646342\n",
            "  0.         0.27518478 1.0735066  0.531829   0.73537767 0.7331979\n",
            "  2.423002   0.08654952 0.19464546 1.2360255  0.97066987 0.7371641\n",
            "  0.8845501  0.20354179]], shape=(2, 32), dtype=float32)\n"
          ]
        }
      ]
    },
    {
      "cell_type": "code",
      "source": [
        "from tensorflow.keras import models\n",
        "from tensorflow.keras import layers\n",
        "\n",
        "model = models.Sequential([\n",
        "    layers.Dense(32, activation = \"relu\"),\n",
        "    layers.Dense(32)\n",
        "])"
      ],
      "metadata": {
        "id": "JT1Dy0RO6v1u"
      },
      "execution_count": 16,
      "outputs": []
    },
    {
      "cell_type": "code",
      "source": [
        "model = keras.Sequential([\n",
        "    SimpleDense(32, activation = \"relu\"),\n",
        "    SimpleDense(64, activation = \"relu\"),\n",
        "    SimpleDense(32, activation = \"relu\"),\n",
        "    SimpleDense(10, activation = \"relu\")\n",
        "])"
      ],
      "metadata": {
        "id": "o92ATTsa66YW"
      },
      "execution_count": 17,
      "outputs": []
    }
  ]
}