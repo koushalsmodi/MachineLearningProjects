{
  "nbformat": 4,
  "nbformat_minor": 0,
  "metadata": {
    "colab": {
      "provenance": []
    },
    "kernelspec": {
      "name": "python3",
      "display_name": "Python 3"
    },
    "language_info": {
      "name": "python"
    }
  },
  "cells": [
    {
      "cell_type": "code",
      "source": [
        "\"\"\"\n",
        "Most advanced model-building pattern: Model subclassing\n",
        "\n",
        "1. In the __init__() method, define the layers the model will use [all inputs concatenation = features, intermediate layers, and output layers]\n",
        "2. In the call() method, define the forward pass of the model, reusing the layers previously created\n",
        "3. Instantiate your subclass, and call it on data to create its weights\n",
        "\n",
        "\"\"\""
      ],
      "metadata": {
        "id": "XFE9MunkhiEw"
      },
      "execution_count": null,
      "outputs": []
    },
    {
      "cell_type": "code",
      "execution_count": 1,
      "metadata": {
        "id": "1SzybmNphAI8"
      },
      "outputs": [],
      "source": [
        "from tensorflow import keras\n",
        "from tensorflow.keras import layers"
      ]
    },
    {
      "cell_type": "code",
      "source": [
        "num_departments = 4"
      ],
      "metadata": {
        "id": "PCHVAlsdj3NN"
      },
      "execution_count": 2,
      "outputs": []
    },
    {
      "cell_type": "code",
      "source": [
        "class CustomerTicketModel(keras.Model):\n",
        "  # Step 1\n",
        "  def __init__(self, num_departments):\n",
        "    super().__init__()\n",
        "    self.concat_layer = layers.Concatenate()\n",
        "    self.mixing_layer = layers.Dense(64, activation = \"relu\")\n",
        "    self.priority_scorer = layers.Dense(1, activation = \"sigmoid\")\n",
        "    self.department_classifier = layers.Dense(num_departments, activation = \"softmax\")\n",
        "\n",
        "  # Step 2\n",
        "  def call(self, inputs):\n",
        "    title = inputs[\"title\"]\n",
        "    text_body = inputs[\"text\"]\n",
        "    tags = inputs[\"tags\"]\n",
        "\n",
        "    features = self.concat_layer([title, text_body, tags])\n",
        "    features = self.mixing_layer(features)\n",
        "\n",
        "    priority = self.priority_scorer(features)\n",
        "    department = self.department_classifier(features)\n",
        "\n",
        "    return priority, department"
      ],
      "metadata": {
        "id": "g3r_wE4VjgUP"
      },
      "execution_count": 3,
      "outputs": []
    },
    {
      "cell_type": "code",
      "source": [
        "import numpy as np\n",
        "vocabulary_size = 1000\n",
        "num_samples = 1280\n",
        "num_tags = 100\n",
        "\n",
        "title_data = np.random.randint(0, 2, size = (num_samples, vocabulary_size))\n",
        "text_body_data = np.random.randint(0, 2, size = (num_samples, vocabulary_size))\n",
        "tags_data = np.random.randint(0, 2, size = (num_samples, num_tags))"
      ],
      "metadata": {
        "id": "_B-25HQpkpSw"
      },
      "execution_count": 5,
      "outputs": []
    },
    {
      "cell_type": "code",
      "source": [
        "np.max(title_data)"
      ],
      "metadata": {
        "colab": {
          "base_uri": "https://localhost:8080/"
        },
        "id": "vFYgP5bcmxbv",
        "outputId": "9c495a92-5b36-45ee-839d-45d85e90aadb"
      },
      "execution_count": 10,
      "outputs": [
        {
          "output_type": "execute_result",
          "data": {
            "text/plain": [
              "np.int64(1)"
            ]
          },
          "metadata": {},
          "execution_count": 10
        }
      ]
    },
    {
      "cell_type": "code",
      "source": [
        "np.max(text_body_data)"
      ],
      "metadata": {
        "colab": {
          "base_uri": "https://localhost:8080/"
        },
        "id": "kzDnZj9um2pG",
        "outputId": "8c766c5e-604b-4ddb-f384-f3d1da1affab"
      },
      "execution_count": 12,
      "outputs": [
        {
          "output_type": "execute_result",
          "data": {
            "text/plain": [
              "np.int64(1)"
            ]
          },
          "metadata": {},
          "execution_count": 12
        }
      ]
    },
    {
      "cell_type": "code",
      "source": [
        "np.max(tags_data)"
      ],
      "metadata": {
        "colab": {
          "base_uri": "https://localhost:8080/"
        },
        "id": "UXJccNg3m51d",
        "outputId": "a65aca4b-0ce1-457a-b849-a2fb067af27e"
      },
      "execution_count": 13,
      "outputs": [
        {
          "output_type": "execute_result",
          "data": {
            "text/plain": [
              "np.int64(1)"
            ]
          },
          "metadata": {},
          "execution_count": 13
        }
      ]
    },
    {
      "cell_type": "code",
      "source": [
        "# Step 3\n",
        "model = CustomerTicketModel(num_departments=4)\n",
        "priority, department = model({\"title\": title_data, \"text\": text_body_data, \"tags\": tags_data})"
      ],
      "metadata": {
        "id": "3h4rmDelkWYK"
      },
      "execution_count": 4,
      "outputs": []
    },
    {
      "cell_type": "code",
      "source": [
        "# Definition, compile, fit, evaluate, predict\n",
        "model.compile(optimizer = \"rmsprop\",\n",
        "              loss = [\"mean_squared_error\", \"categorical_crossentropy\"],\n",
        "              metrics = [[\"mean_absolute_error\"], [\"accuracy\"]])\n",
        "# Structure of what is passed in loss and metrics should match exactly what gets returned by call\n",
        "\n",
        "priority_data = np.random.random(size = (num_samples, 1))\n",
        "department_data = np.random.randint(0, 2, size = (num_samples, num_departments))"
      ],
      "metadata": {
        "id": "j1OrU9itkYxM"
      },
      "execution_count": 15,
      "outputs": []
    },
    {
      "cell_type": "code",
      "source": [
        "np.max(priority_data)"
      ],
      "metadata": {
        "colab": {
          "base_uri": "https://localhost:8080/"
        },
        "id": "Sm0URgi5nBad",
        "outputId": "4b59ac3f-7964-4ad6-d847-74419522e024"
      },
      "execution_count": 16,
      "outputs": [
        {
          "output_type": "execute_result",
          "data": {
            "text/plain": [
              "np.float64(0.9998539727711167)"
            ]
          },
          "metadata": {},
          "execution_count": 16
        }
      ]
    },
    {
      "cell_type": "code",
      "source": [
        "np.max(department_data)"
      ],
      "metadata": {
        "colab": {
          "base_uri": "https://localhost:8080/"
        },
        "id": "KtKgPGwwnLXg",
        "outputId": "47e4ade5-722b-404b-ad94-13ca1ea6f093"
      },
      "execution_count": 17,
      "outputs": [
        {
          "output_type": "execute_result",
          "data": {
            "text/plain": [
              "np.int64(1)"
            ]
          },
          "metadata": {},
          "execution_count": 17
        }
      ]
    },
    {
      "cell_type": "code",
      "source": [
        "model.fit({ \"title\": title_data, \"text\": text_body_data, \"tags\": tags_data} ,\n",
        "          [priority_data, department_data], epochs = 1)\n",
        "\n",
        "model.evaluate({ \"title\": title_data, \"text\": text_body_data, \"tags\": tags_data} ,\n",
        "          [priority_data, department_data])\n",
        "\n",
        "priority, department = model.predict({ \"title\": title_data, \"text\": text_body_data, \"tags\": tags_data})\n",
        "print(f\"Priority shape: {priority.shape}\")\n",
        "print(f\"Department shape: {department.shape}\")"
      ],
      "metadata": {
        "colab": {
          "base_uri": "https://localhost:8080/"
        },
        "id": "t2ECzmAPlPmW",
        "outputId": "77b5d6fc-aac6-42c9-a2e3-59b1de7f0a46"
      },
      "execution_count": 18,
      "outputs": [
        {
          "output_type": "stream",
          "name": "stdout",
          "text": [
            "\u001b[1m40/40\u001b[0m \u001b[32m━━━━━━━━━━━━━━━━━━━━\u001b[0m\u001b[37m\u001b[0m \u001b[1m1s\u001b[0m 5ms/step - accuracy: 0.2927 - categorical_crossentropy_loss: 4.6720 - loss: 4.8083 - mean_absolute_error: 0.3034 - mean_squared_error_loss: 0.1363\n",
            "\u001b[1m40/40\u001b[0m \u001b[32m━━━━━━━━━━━━━━━━━━━━\u001b[0m\u001b[37m\u001b[0m \u001b[1m0s\u001b[0m 3ms/step - accuracy: 0.5125 - categorical_crossentropy_loss: 3.3579 - loss: 3.4602 - mean_absolute_error: 0.2711 - mean_squared_error_loss: 0.1023\n",
            "\u001b[1m40/40\u001b[0m \u001b[32m━━━━━━━━━━━━━━━━━━━━\u001b[0m\u001b[37m\u001b[0m \u001b[1m0s\u001b[0m 3ms/step\n",
            "Priority shape: (1280, 1)\n",
            "Department shape: (1280, 4)\n"
          ]
        }
      ]
    },
    {
      "cell_type": "code",
      "source": [
        "priority[0]"
      ],
      "metadata": {
        "colab": {
          "base_uri": "https://localhost:8080/"
        },
        "id": "tSfPCI9knNc0",
        "outputId": "5acb1c8c-ec3a-465b-808f-f11cebb2ec7e"
      },
      "execution_count": 19,
      "outputs": [
        {
          "output_type": "execute_result",
          "data": {
            "text/plain": [
              "array([0.55934906], dtype=float32)"
            ]
          },
          "metadata": {},
          "execution_count": 19
        }
      ]
    },
    {
      "cell_type": "code",
      "source": [
        "priority_data[0]"
      ],
      "metadata": {
        "colab": {
          "base_uri": "https://localhost:8080/"
        },
        "id": "-VfPrIfJnQPk",
        "outputId": "c1968a34-e56d-4476-e9b9-562bca55c07b"
      },
      "execution_count": 20,
      "outputs": [
        {
          "output_type": "execute_result",
          "data": {
            "text/plain": [
              "array([0.9428608])"
            ]
          },
          "metadata": {},
          "execution_count": 20
        }
      ]
    },
    {
      "cell_type": "code",
      "source": [
        "department[0]"
      ],
      "metadata": {
        "colab": {
          "base_uri": "https://localhost:8080/"
        },
        "id": "iMSRCGc4nRz3",
        "outputId": "99870471-4f49-4be5-b494-9f48ae709087"
      },
      "execution_count": 21,
      "outputs": [
        {
          "output_type": "execute_result",
          "data": {
            "text/plain": [
              "array([0.21558753, 0.5280482 , 0.11206999, 0.14429428], dtype=float32)"
            ]
          },
          "metadata": {},
          "execution_count": 21
        }
      ]
    },
    {
      "cell_type": "code",
      "source": [
        "np.argmax(department[0])"
      ],
      "metadata": {
        "colab": {
          "base_uri": "https://localhost:8080/"
        },
        "id": "FddVasB2nU6W",
        "outputId": "b0150e53-7e98-4dbf-9095-6b940e7220ae"
      },
      "execution_count": 22,
      "outputs": [
        {
          "output_type": "execute_result",
          "data": {
            "text/plain": [
              "np.int64(1)"
            ]
          },
          "metadata": {},
          "execution_count": 22
        }
      ]
    },
    {
      "cell_type": "code",
      "source": [
        "department_data[1]"
      ],
      "metadata": {
        "colab": {
          "base_uri": "https://localhost:8080/"
        },
        "id": "LWds5WENnZ7j",
        "outputId": "69409556-73d4-4791-a2eb-9593ab5a309c"
      },
      "execution_count": 23,
      "outputs": [
        {
          "output_type": "execute_result",
          "data": {
            "text/plain": [
              "array([1, 1, 0, 1])"
            ]
          },
          "metadata": {},
          "execution_count": 23
        }
      ]
    },
    {
      "cell_type": "code",
      "source": [
        "np.argmax(department_data[1])"
      ],
      "metadata": {
        "colab": {
          "base_uri": "https://localhost:8080/"
        },
        "id": "2W0wfmJunTML",
        "outputId": "1ad5d857-b24c-460d-fa1e-b07716be2360"
      },
      "execution_count": 24,
      "outputs": [
        {
          "output_type": "execute_result",
          "data": {
            "text/plain": [
              "np.int64(0)"
            ]
          },
          "metadata": {},
          "execution_count": 24
        }
      ]
    },
    {
      "cell_type": "code",
      "source": [
        "\"\"\"\n",
        "Freedom yet it comes at a cost, potential error surface is much larger\n",
        "\n",
        "Model subclassing is not a graph based structure and so it is not possible to use plot_model and summary of shapes and topology.\n",
        "Once thje model is instantiated, its forward pass becomes a complete black box.\n",
        "\n",
        "\"\"\""
      ],
      "metadata": {
        "id": "pDMk-3MCnd-s"
      },
      "execution_count": null,
      "outputs": []
    },
    {
      "cell_type": "code",
      "source": [
        "# mixing and matching different components\n",
        "# Creating a Functional model that uses a subclassed model\n",
        "class Classifier(keras.Model):\n",
        "\n",
        "  def __init__(self, num_classes = 2):\n",
        "    super().__init__()\n",
        "    if num_classes == 2:\n",
        "      num_units = 1\n",
        "      activation = \"sigmoid\"\n",
        "\n",
        "    else:\n",
        "      num_units = num_classes\n",
        "      activation = \"softmax\"\n",
        "    self.dense = layers.Dense(num_units, activation = activation)\n",
        "\n",
        "\n",
        "  def call(self, inputs):\n",
        "    return self.dense(inputs)\n",
        "\n",
        "inputs = keras.Input(shape = (3,))\n",
        "features = layers.Dense(64, activation = \"relu\")(inputs)\n",
        "outputs = Classifier(num_classes = 10) (features)\n",
        "model = keras.Model(inputs = inputs, outputs = outputs)"
      ],
      "metadata": {
        "id": "ZnQDpEHjsFol"
      },
      "execution_count": 29,
      "outputs": []
    },
    {
      "cell_type": "code",
      "source": [
        "# Creating a Subclass model that uses a Functional model\n",
        "\n",
        "inputs = keras.Input(shape = (64,))\n",
        "outputs = layers.Dense(1, activation = \"sigmoid\")(inputs)\n",
        "binary_classifer = keras.Model(inputs = inputs, outputs = outputs)\n",
        "\n",
        "class MyModel(keras.Model):\n",
        "  def __init__(self, num_classes = 2):\n",
        "    super().__init__()\n",
        "    self.dense = layers.Dense(64, activation = \"relu\")\n",
        "    self.classifier = binary_classifer\n",
        "\n",
        "  def call(self, inputs):\n",
        "    features = self.dense(inputs)\n",
        "    return self.classifier(features)\n",
        "\n",
        "model = MyModel()"
      ],
      "metadata": {
        "id": "yApl5JUdxQs1"
      },
      "execution_count": 30,
      "outputs": []
    }
  ]
}