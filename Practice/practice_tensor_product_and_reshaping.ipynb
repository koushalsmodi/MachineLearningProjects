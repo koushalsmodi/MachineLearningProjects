{
  "nbformat": 4,
  "nbformat_minor": 0,
  "metadata": {
    "colab": {
      "provenance": [],
      "gpuType": "T4"
    },
    "kernelspec": {
      "name": "python3",
      "display_name": "Python 3"
    },
    "language_info": {
      "name": "python"
    },
    "accelerator": "GPU"
  },
  "cells": [
    {
      "cell_type": "code",
      "source": [
        "import numpy as np\n",
        "\n",
        "x = np.array([4,-5, 1, 2, 7]) # (5,1)\n",
        "y = np.array([6, 10, 2, 3, 16]) # (5,1)\n",
        "\n",
        "print(x.shape)\n",
        "print()\n",
        "print(y.shape)"
      ],
      "metadata": {
        "colab": {
          "base_uri": "https://localhost:8080/"
        },
        "id": "Ld6_nt8pSIEg",
        "outputId": "982ab413-6476-46ff-d732-10491520649b"
      },
      "execution_count": 15,
      "outputs": [
        {
          "output_type": "stream",
          "name": "stdout",
          "text": [
            "(5,)\n",
            "\n",
            "(5,)\n"
          ]
        }
      ]
    },
    {
      "cell_type": "code",
      "execution_count": 16,
      "metadata": {
        "colab": {
          "base_uri": "https://localhost:8080/"
        },
        "id": "Cvap-ZzNRXPE",
        "outputId": "c4c2603d-86c1-473d-c0f1-d6edc3bc617b"
      },
      "outputs": [
        {
          "output_type": "stream",
          "name": "stdout",
          "text": [
            "94.0\n"
          ]
        }
      ],
      "source": [
        "# 2 vector dot\n",
        "\n",
        "def naive_vector_dot(x, y):\n",
        "  assert len(x.shape) == 1\n",
        "  assert len(y.shape) == 1\n",
        "  assert x.shape[0] == y.shape[0]\n",
        "\n",
        "  z = 0.\n",
        "\n",
        "  for i in range(x.shape[0]):\n",
        "    z += x[i] * y[i]\n",
        "  return z\n",
        "\n",
        "print(naive_vector_dot(x,y))"
      ]
    },
    {
      "cell_type": "code",
      "source": [
        "# 1 matrix and 1 vector dot\n",
        "\n",
        "x = np.array([\n",
        "    [4,5, 3, 2, 1],\n",
        "    [0, -3, -4, -6, 7],\n",
        "    [1,2,4,7,10],\n",
        "    [19, 24, 22, 28, 37],\n",
        "    [7, 6, 4, 1, 22]\n",
        "])\n",
        "\n",
        "def naive_matrix_vector_dot(x, y):\n",
        "  assert len(x.shape) == 2\n",
        "  assert len(y.shape) == 1\n",
        "  assert x.shape[1] == y.shape[0]\n",
        "\n",
        "  z = np.zeros(x.shape[0])\n",
        "  for i in range(x.shape[0]):\n",
        "    row_x = x[i, :]\n",
        "    col_y = y\n",
        "    z[i] = naive_vector_dot(row_x, col_y)\n",
        "\n",
        "  return z\n",
        "\n",
        "print(naive_matrix_vector_dot(x, y))\n",
        "\n",
        "def naive_matrix_vector_dot_longer(x, y):\n",
        "  assert len(x.shape) == 2\n",
        "  assert len(y.shape) == 1\n",
        "  assert x.shape[1] == y.shape[0]\n",
        "\n",
        "  z = np.zeros(x.shape[0])\n",
        "\n",
        "  for i in range(x.shape[0]):\n",
        "    for j in range(x.shape[1]):\n",
        "      z[i] += x[i, j] * y[j]\n",
        "\n",
        "  return z\n",
        "\n",
        "print(naive_matrix_vector_dot_longer(x, y))"
      ],
      "metadata": {
        "colab": {
          "base_uri": "https://localhost:8080/"
        },
        "id": "4yzx_wPAR2sY",
        "outputId": "59cb2a04-0ca4-48a2-a65f-77f2ff77e364"
      },
      "execution_count": 19,
      "outputs": [
        {
          "output_type": "stream",
          "name": "stdout",
          "text": [
            "[ 102.   56.  215. 1074.  465.]\n",
            "[ 102.   56.  215. 1074.  465.]\n"
          ]
        }
      ]
    },
    {
      "cell_type": "code",
      "source": [
        "# 2 matrices dot\n",
        "y = np.array([\n",
        "    [0, -3, -4, -6, 7],\n",
        "    [4,5, 3, 2, 1],\n",
        "    [19, 24, 22, 28, 37],\n",
        "    [1,2,4,7,10],\n",
        "    [7, 6, 4, 1, 22]\n",
        "])\n",
        "\n",
        "def naive_matrix_dot(x, y):\n",
        "  assert len(x.shape) == 2\n",
        "  assert len(y.shape) == 2\n",
        "\n",
        "  assert x.shape[1] == y.shape[0]\n",
        "\n",
        "  z = np.zeros((x.shape[0], y.shape[1]))\n",
        "\n",
        "  for i in range(x.shape[0]):\n",
        "    for j in range(y.shape[1]):\n",
        "      row_x = x[i,:]\n",
        "      col_y = y[:, j]\n",
        "      z[i, j] = naive_vector_dot(row_x, col_y)\n",
        "\n",
        "  return z\n",
        "\n",
        "print(naive_matrix_dot(x, y))\n",
        "print(naive_matrix_dot(x, y).shape)"
      ],
      "metadata": {
        "colab": {
          "base_uri": "https://localhost:8080/"
        },
        "id": "uFSVYwd8R4u8",
        "outputId": "d5e1aba7-f708-4840-d5ed-848a7f5bbef8"
      },
      "execution_count": 21,
      "outputs": [
        {
          "output_type": "stream",
          "name": "stdout",
          "text": [
            "[[  86.   95.   77.   85.  186.]\n",
            " [ -45.  -81.  -93. -153.  -57.]\n",
            " [ 161.  177.  158.  169.  447.]\n",
            " [ 801.  869.  740.  783. 2065.]\n",
            " [ 255.  239.  170.  111.  697.]]\n",
            "(5, 5)\n"
          ]
        }
      ]
    },
    {
      "cell_type": "code",
      "source": [
        "# tensor reshaping\n",
        "x = np.array([[0., 1.],\n",
        "             [2., 3.],\n",
        "             [4., 5.]])\n",
        "x.shape\n"
      ],
      "metadata": {
        "colab": {
          "base_uri": "https://localhost:8080/"
        },
        "id": "KfkCRfN5R6NO",
        "outputId": "cbdc4fcb-5567-4dd9-807b-fc1fa22b0eaa"
      },
      "execution_count": 25,
      "outputs": [
        {
          "output_type": "execute_result",
          "data": {
            "text/plain": [
              "(3, 2)"
            ]
          },
          "metadata": {},
          "execution_count": 25
        }
      ]
    },
    {
      "cell_type": "code",
      "source": [
        "x.reshape((1, 6))"
      ],
      "metadata": {
        "colab": {
          "base_uri": "https://localhost:8080/"
        },
        "id": "3ymu66LZR7XY",
        "outputId": "e31a19b3-a051-46ba-a244-8b40d9aa81ab"
      },
      "execution_count": 26,
      "outputs": [
        {
          "output_type": "execute_result",
          "data": {
            "text/plain": [
              "array([[0., 1., 2., 3., 4., 5.]])"
            ]
          },
          "metadata": {},
          "execution_count": 26
        }
      ]
    },
    {
      "cell_type": "code",
      "source": [
        "x.reshape((6, 1))"
      ],
      "metadata": {
        "colab": {
          "base_uri": "https://localhost:8080/"
        },
        "id": "qa2Oqz2lYW66",
        "outputId": "c82aa03b-0deb-4c6e-fc0f-627799343d22"
      },
      "execution_count": 27,
      "outputs": [
        {
          "output_type": "execute_result",
          "data": {
            "text/plain": [
              "array([[0.],\n",
              "       [1.],\n",
              "       [2.],\n",
              "       [3.],\n",
              "       [4.],\n",
              "       [5.]])"
            ]
          },
          "metadata": {},
          "execution_count": 27
        }
      ]
    },
    {
      "cell_type": "code",
      "source": [
        "x.reshape((2, 3))"
      ],
      "metadata": {
        "colab": {
          "base_uri": "https://localhost:8080/"
        },
        "id": "FR1Ytn1QYYQH",
        "outputId": "4aa7ca42-9a83-4107-e35a-96b09164123c"
      },
      "execution_count": 28,
      "outputs": [
        {
          "output_type": "execute_result",
          "data": {
            "text/plain": [
              "array([[0., 1., 2.],\n",
              "       [3., 4., 5.]])"
            ]
          },
          "metadata": {},
          "execution_count": 28
        }
      ]
    },
    {
      "cell_type": "code",
      "source": [
        "x = np.zeros((300, 20))\n",
        "x = np.transpose(x)\n",
        "x.shape\n",
        "\n",
        "# x[i: ] -> x[:, i]"
      ],
      "metadata": {
        "colab": {
          "base_uri": "https://localhost:8080/"
        },
        "id": "YHSx2Eg6YZpJ",
        "outputId": "f78144b5-0df2-4689-ce26-6c55a34fb1a5"
      },
      "execution_count": 30,
      "outputs": [
        {
          "output_type": "execute_result",
          "data": {
            "text/plain": [
              "(20, 300)"
            ]
          },
          "metadata": {},
          "execution_count": 30
        }
      ]
    }
  ]
}