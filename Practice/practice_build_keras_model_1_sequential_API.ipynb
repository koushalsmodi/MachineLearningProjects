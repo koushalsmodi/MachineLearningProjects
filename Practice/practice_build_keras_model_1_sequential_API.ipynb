{
  "nbformat": 4,
  "nbformat_minor": 0,
  "metadata": {
    "colab": {
      "provenance": []
    },
    "kernelspec": {
      "name": "python3",
      "display_name": "Python 3"
    },
    "language_info": {
      "name": "python"
    }
  },
  "cells": [
    {
      "cell_type": "code",
      "source": [
        "\"\"\" Sequential API is for Single-input and Single-output . Useful for Debugging.\"\"\""
      ],
      "metadata": {
        "colab": {
          "base_uri": "https://localhost:8080/",
          "height": 35
        },
        "id": "lZpx4DcOdd4r",
        "outputId": "663f2fda-62d4-48ea-c88e-c0d696b1f31a"
      },
      "execution_count": 14,
      "outputs": [
        {
          "output_type": "execute_result",
          "data": {
            "text/plain": [
              "' Sequential API is for Single-input and Single-output . Useful for Debugging.'"
            ],
            "application/vnd.google.colaboratory.intrinsic+json": {
              "type": "string"
            }
          },
          "metadata": {},
          "execution_count": 14
        }
      ]
    },
    {
      "cell_type": "code",
      "execution_count": 15,
      "metadata": {
        "id": "37tfdrS05CI5"
      },
      "outputs": [],
      "source": [
        "from tensorflow import keras\n",
        "from tensorflow.keras import layers"
      ]
    },
    {
      "cell_type": "code",
      "source": [
        "model = keras.Sequential([\n",
        "    layers.Dense(64, activation = \"relu\"),\n",
        "    layers.Dense(10, activation = \"softmax\")\n",
        "])"
      ],
      "metadata": {
        "id": "vKMmE4AkafGs"
      },
      "execution_count": 16,
      "outputs": []
    },
    {
      "cell_type": "code",
      "source": [
        "model = keras.Sequential()\n",
        "model.add(layers.Dense(64, activation = \"relu\"))\n",
        "model.add(layers.Dense(10, activation = \"softmax\"))"
      ],
      "metadata": {
        "id": "J8a_0HKhambx"
      },
      "execution_count": 17,
      "outputs": []
    },
    {
      "cell_type": "code",
      "source": [
        "model.weights\n",
        "# Weights have not been created"
      ],
      "metadata": {
        "colab": {
          "base_uri": "https://localhost:8080/"
        },
        "id": "GE4dxOo3a0PD",
        "outputId": "02489caa-f324-4635-dd23-bb5c18044a22"
      },
      "execution_count": 18,
      "outputs": [
        {
          "output_type": "execute_result",
          "data": {
            "text/plain": [
              "[]"
            ]
          },
          "metadata": {},
          "execution_count": 18
        }
      ]
    },
    {
      "cell_type": "code",
      "source": [
        "model.build(input_shape=(None, 3))\n",
        "model.weights"
      ],
      "metadata": {
        "colab": {
          "base_uri": "https://localhost:8080/"
        },
        "id": "pbVPWBCca1JA",
        "outputId": "a759ace8-d955-4f60-b779-f153b68e077c"
      },
      "execution_count": 19,
      "outputs": [
        {
          "output_type": "execute_result",
          "data": {
            "text/plain": [
              "[<Variable path=sequential_4/dense_8/kernel, shape=(3, 64), dtype=float32, value=[[ 1.59902364e-01 -2.72390276e-01  1.64080024e-01  9.08905566e-02\n",
              "   -1.27169877e-01 -5.12563437e-02  1.46820873e-01  2.69821942e-01\n",
              "    8.98900628e-02  1.90348804e-01 -4.79690135e-02  1.88245833e-01\n",
              "    5.75740933e-02 -2.54912227e-01  6.11627400e-02 -2.00369909e-01\n",
              "    2.18151212e-01 -2.75222987e-01 -1.57144353e-01  1.51968598e-02\n",
              "    2.41941512e-01  2.83486247e-02  1.11770630e-02 -4.88482416e-02\n",
              "   -1.12903386e-01 -1.60321593e-01  2.61460423e-01  1.19625181e-01\n",
              "    8.03638101e-02 -1.30308166e-01 -1.08614117e-01 -5.05180508e-02\n",
              "   -1.46494463e-01  3.30687463e-02 -1.69632792e-01  1.66783959e-01\n",
              "   -2.67397404e-01  2.58768260e-01  2.68269777e-01 -5.60415536e-02\n",
              "    2.42202878e-01 -7.64518380e-02  5.85455596e-02 -1.79822743e-02\n",
              "    2.89017022e-01 -4.25529480e-03 -1.53698027e-02 -1.53065711e-01\n",
              "   -1.23779655e-01 -2.22747326e-01 -2.04742789e-01  1.46411628e-01\n",
              "   -1.00168228e-01 -2.95271754e-01  5.24768233e-03  1.95102185e-01\n",
              "   -2.04202473e-01 -1.55204207e-01 -1.99994624e-01 -4.68778312e-02\n",
              "   -9.52840596e-02  2.78117359e-01  1.08896792e-01  2.30238199e-01]\n",
              "  [-4.73939478e-02  2.16485858e-01  4.17746305e-02 -1.78622857e-01\n",
              "    2.87416041e-01 -4.40051556e-02 -2.33676955e-01  1.61765218e-02\n",
              "    2.22921252e-01 -4.27961349e-05 -9.23504680e-02  2.33458221e-01\n",
              "    1.96553379e-01  2.81003356e-01 -2.36768082e-01 -1.94041103e-01\n",
              "   -1.47238374e-02 -1.18459061e-01 -1.50458530e-01  8.73273313e-02\n",
              "    1.01729333e-02 -1.00178495e-01  1.80642545e-01  2.91560292e-01\n",
              "   -2.28369638e-01  1.03858024e-01  6.66663051e-03 -1.46458223e-01\n",
              "    2.32826710e-01 -1.29345179e-01 -3.98373306e-02  4.77442145e-02\n",
              "    1.66462034e-01 -2.42414162e-01 -1.52930364e-01  2.54258096e-01\n",
              "    3.97610068e-02  4.05951142e-02 -1.37227997e-01 -1.32221982e-01\n",
              "    1.59122169e-01 -2.57199705e-02 -2.64442742e-01 -2.32836902e-01\n",
              "   -1.47904649e-01 -1.78469807e-01  3.18128169e-02  1.56336427e-02\n",
              "    1.04285777e-02 -2.87043333e-01  3.86552513e-02  1.87229007e-01\n",
              "    1.00377202e-02  3.76001000e-02 -1.91552997e-01  9.63021219e-02\n",
              "   -4.62731719e-02  2.31871486e-01 -2.60794967e-01  2.28227556e-01\n",
              "    6.33065701e-02  1.51422292e-01  9.27559435e-02  1.17288113e-01]\n",
              "  [-1.43554807e-01  2.81227350e-01 -1.94605827e-01  9.13877189e-02\n",
              "    2.70786285e-02  2.89846838e-01 -1.59103125e-01  9.33890045e-02\n",
              "   -2.00668499e-01 -1.42791748e-01  1.68166399e-01  1.30476117e-01\n",
              "   -2.72816807e-01 -1.88635588e-02 -2.86094427e-01 -2.21218616e-01\n",
              "    2.80622065e-01  1.67118311e-01 -1.26588598e-01  1.16091907e-01\n",
              "   -1.56741098e-01  2.46534824e-01 -2.79677927e-01  7.36502409e-02\n",
              "   -1.24973089e-01  2.87550807e-01  1.37721241e-01  3.58814001e-03\n",
              "   -2.27358222e-01  9.40830112e-02  5.01907170e-02 -2.63364702e-01\n",
              "    2.78213620e-02 -2.56091475e-01 -2.85937667e-01 -2.74508178e-01\n",
              "   -2.99227774e-01 -2.18681395e-02  2.82833099e-01 -2.09056601e-01\n",
              "    4.50882316e-02 -1.59115613e-01 -5.19434959e-02 -6.73995614e-02\n",
              "    8.17618072e-02 -1.02716461e-01  2.04077899e-01 -2.34526843e-01\n",
              "   -2.52631307e-02  1.44870728e-01  1.19049817e-01 -2.96274900e-01\n",
              "    2.98810720e-01  2.95864761e-01 -1.99636608e-01 -2.64249682e-01\n",
              "    6.07796013e-02  2.30507612e-01 -1.78600013e-01  2.54093826e-01\n",
              "    6.47897422e-02  1.02833986e-01  2.59307325e-01  2.98780859e-01]]>,\n",
              " <Variable path=sequential_4/dense_8/bias, shape=(64,), dtype=float32, value=[0. 0. 0. 0. 0. 0. 0. 0. 0. 0. 0. 0. 0. 0. 0. 0. 0. 0. 0. 0. 0. 0. 0. 0.\n",
              "  0. 0. 0. 0. 0. 0. 0. 0. 0. 0. 0. 0. 0. 0. 0. 0. 0. 0. 0. 0. 0. 0. 0. 0.\n",
              "  0. 0. 0. 0. 0. 0. 0. 0. 0. 0. 0. 0. 0. 0. 0. 0.]>,\n",
              " <Variable path=sequential_4/dense_9/kernel, shape=(64, 10), dtype=float32, value=[[ 0.10642827 -0.04601982 -0.22210494 -0.24054244  0.01095799 -0.16772279\n",
              "   -0.17857581  0.20755148  0.2557812  -0.11079605]\n",
              "  [-0.09628381 -0.04552153 -0.02890518 -0.08161169  0.01522338  0.25012723\n",
              "    0.19679445  0.01035532 -0.23062351  0.2359179 ]\n",
              "  [ 0.26389197 -0.23789993  0.22218594 -0.17099246  0.18817297  0.0280866\n",
              "   -0.04994321 -0.12948062  0.0317148   0.12490055]\n",
              "  [ 0.06102759  0.02233008 -0.01847813  0.14214689 -0.22596951  0.07579449\n",
              "    0.03926548 -0.14451946  0.07201156  0.1404022 ]\n",
              "  [ 0.10298398  0.09497383 -0.09472257 -0.159152   -0.24176635 -0.16713127\n",
              "    0.18779194  0.19012108 -0.07683678  0.08610207]\n",
              "  [-0.23730618  0.26058647 -0.236723    0.03903398 -0.22240445  0.15909559\n",
              "   -0.02249089  0.00225949  0.27213332  0.16713032]\n",
              "  [-0.11317882  0.22565398 -0.02297774 -0.16926599 -0.1197591  -0.15733264\n",
              "    0.08177862 -0.12628922  0.01689079 -0.18723336]\n",
              "  [ 0.04695302 -0.15704025 -0.2728256   0.11904404 -0.00603011  0.05106017\n",
              "    0.08857575  0.02505323 -0.13088225  0.03225803]\n",
              "  [-0.05458601 -0.0811214  -0.0932692   0.17487553 -0.05786578  0.00640962\n",
              "   -0.20541814 -0.06442977  0.224507   -0.04708935]\n",
              "  [-0.23504397  0.19681755 -0.02157915  0.10618156  0.26225546  0.03784049\n",
              "    0.26114395 -0.21440549  0.2075569   0.22153762]\n",
              "  [-0.08518687 -0.18404238 -0.20991898  0.01894045  0.2143609   0.16135466\n",
              "   -0.24328665  0.15098944  0.15815282 -0.08509582]\n",
              "  [ 0.270529   -0.25410274 -0.20796573  0.2514784   0.20028496 -0.0229505\n",
              "    0.11531338  0.20242137 -0.22950688 -0.05778663]\n",
              "  [ 0.07790238  0.18423498  0.00876528  0.01415861  0.26505485  0.07043451\n",
              "    0.01850873  0.0498322  -0.08268657  0.05460772]\n",
              "  [ 0.2820306   0.24805298 -0.28023303  0.22611156  0.19705874 -0.23397934\n",
              "   -0.17263016 -0.21563517  0.15268719 -0.06553128]\n",
              "  [ 0.07515654 -0.08329208 -0.12757157 -0.2571631  -0.24047394 -0.11809263\n",
              "    0.14470425  0.26368013 -0.17886719  0.09814975]\n",
              "  [ 0.13723728 -0.18332201  0.19358906 -0.17460193  0.18868524  0.08195731\n",
              "   -0.06531268  0.18964532 -0.24422807 -0.01339138]\n",
              "  [-0.15544078 -0.2830518   0.06758928  0.23470858  0.10080448  0.04921305\n",
              "    0.1325342  -0.06407093  0.24082562 -0.1250328 ]\n",
              "  [-0.04667062  0.17649373 -0.27638596 -0.0132525   0.05021837  0.13424343\n",
              "    0.18813425 -0.06470521 -0.20795128 -0.23374532]\n",
              "  [ 0.05433992 -0.0457886   0.22287741 -0.07852782 -0.24816625 -0.18651265\n",
              "    0.01543275 -0.15043023 -0.1954096  -0.2648544 ]\n",
              "  [ 0.03748217  0.08373606 -0.13682248  0.07979029 -0.24230424 -0.20796458\n",
              "   -0.2772075  -0.01492664  0.0350273   0.25874618]\n",
              "  [ 0.18601584 -0.23392522  0.27270016 -0.06832206  0.08714867 -0.24301924\n",
              "    0.26446238  0.1205242  -0.06470935 -0.16675796]\n",
              "  [ 0.13703865  0.22397152 -0.20624    -0.09432134 -0.13764183 -0.16374308\n",
              "   -0.11681238 -0.05219039  0.0600808   0.11585385]\n",
              "  [-0.26369002  0.08775511  0.16785729  0.20073745  0.19613042  0.25120875\n",
              "    0.00214624  0.03323516 -0.25550622  0.03548038]\n",
              "  [-0.22439985 -0.0579294  -0.03471419  0.26308426  0.054645    0.19194812\n",
              "    0.22391686  0.24669674  0.15329072 -0.02416098]\n",
              "  [ 0.07214823  0.15256378  0.13305727 -0.18587457  0.16052023 -0.22565973\n",
              "    0.1702089  -0.2303757   0.02171284  0.09198433]\n",
              "  [ 0.21923283 -0.10906066  0.13834578 -0.10938735  0.09553859  0.27825674\n",
              "    0.26891908  0.08816868  0.06476605 -0.03018716]\n",
              "  [-0.17038825 -0.18839224 -0.05648275  0.07980448  0.10601252  0.09439746\n",
              "    0.20428362  0.21219483  0.0593009   0.27008763]\n",
              "  [ 0.26924476  0.09539548  0.2740635   0.25725767  0.26605842  0.04507691\n",
              "    0.25818714  0.1288212  -0.20556986  0.07348332]\n",
              "  [-0.14240485  0.12201294 -0.06865668  0.12852189 -0.21983561  0.27838948\n",
              "   -0.24696937  0.26708916 -0.03365099 -0.0010964 ]\n",
              "  [ 0.07255495 -0.06070261 -0.26665503 -0.01180854  0.10364082 -0.23965459\n",
              "   -0.20349409 -0.0159187   0.02671191 -0.28232762]\n",
              "  [-0.22235516  0.19984797 -0.18556568 -0.11167432 -0.00271136  0.02972388\n",
              "   -0.18157366 -0.2620691   0.2641457  -0.28177866]\n",
              "  [-0.19883785  0.05816504  0.22290203  0.10816705  0.00915423  0.16515869\n",
              "   -0.23048909 -0.17945117 -0.00169852  0.07887086]\n",
              "  [-0.10219227  0.03727666 -0.04111464  0.2737358  -0.21113133 -0.07121441\n",
              "    0.132738    0.19635704 -0.13686354 -0.0260548 ]\n",
              "  [-0.13244478 -0.08142024 -0.05098109  0.11222824 -0.2574336   0.0116533\n",
              "   -0.20685562  0.03398234  0.2017406  -0.14688207]\n",
              "  [-0.00169635  0.22682521  0.2594464  -0.15032011  0.07255957  0.0491578\n",
              "    0.05583644 -0.09348039 -0.22324139  0.15483236]\n",
              "  [-0.05517209 -0.05011843 -0.2745766  -0.04302463  0.02947894  0.19606403\n",
              "    0.19117719  0.04477426 -0.27055973 -0.22384614]\n",
              "  [ 0.0434581   0.02822903 -0.08435747 -0.20666036 -0.07596108  0.28247562\n",
              "   -0.25361747  0.19053474  0.04835588  0.17922124]\n",
              "  [-0.12399904 -0.20786262  0.00603336  0.17520812 -0.17870732 -0.24861765\n",
              "    0.16205975 -0.18474728  0.05099821 -0.19717748]\n",
              "  [-0.2214278   0.24948636 -0.14706226  0.05620196 -0.1856037  -0.19865346\n",
              "    0.069684   -0.01928172 -0.24473017  0.17114168]\n",
              "  [-0.24424843 -0.18010053  0.15022147 -0.05727413 -0.07931243 -0.26982102\n",
              "   -0.1211676  -0.20179117 -0.05366012  0.24851403]\n",
              "  [ 0.2324225   0.2506818  -0.12489817 -0.24052587  0.01191249  0.07067293\n",
              "   -0.05357954 -0.10164358 -0.11607558 -0.19231412]\n",
              "  [ 0.02191269  0.2637489  -0.09231441 -0.15758702  0.10235491  0.17906332\n",
              "    0.04659641 -0.02987865  0.19908088  0.20128104]\n",
              "  [-0.21872486 -0.10238805 -0.2717689   0.03170094 -0.11149476  0.28407547\n",
              "   -0.08576222 -0.11779915 -0.0595715  -0.01379561]\n",
              "  [ 0.12141049 -0.0765866   0.01351392  0.2782453   0.11981809  0.25984332\n",
              "    0.2610807   0.20520502 -0.11254568 -0.24861547]\n",
              "  [-0.1052438  -0.2002568  -0.2713909   0.09008873 -0.17627594 -0.04632594\n",
              "    0.07841825  0.06993225  0.00302744  0.1869652 ]\n",
              "  [ 0.19913962  0.06095007 -0.08569719  0.06326127  0.03369302 -0.06452326\n",
              "   -0.08215678 -0.02003732 -0.17049062 -0.06313704]\n",
              "  [ 0.07598415  0.17794392 -0.04894143  0.28156576  0.11957049  0.09383532\n",
              "    0.17613193 -0.14514859  0.14249298  0.14813638]\n",
              "  [-0.09487809 -0.108243   -0.24531002 -0.21876085 -0.24059458 -0.1126319\n",
              "   -0.12920967 -0.26135126  0.1685892  -0.06634501]\n",
              "  [ 0.2330418   0.25089458 -0.13978115 -0.12858272 -0.05861685  0.25664446\n",
              "   -0.2396793  -0.08631423  0.0097678   0.23481056]\n",
              "  [ 0.06344554  0.1848231   0.1847457   0.18527341 -0.25158548  0.09648088\n",
              "   -0.1247852   0.19105735 -0.2724588  -0.1886775 ]\n",
              "  [-0.21399021 -0.14672084  0.2177352   0.12846771  0.263562   -0.04597577\n",
              "    0.23538932 -0.1657475   0.24045894 -0.06783123]\n",
              "  [-0.0517993   0.18789971  0.22273329  0.16381353  0.08998844 -0.04416713\n",
              "   -0.18017867  0.05004707  0.0999983   0.24400523]\n",
              "  [ 0.17368856 -0.1779936   0.14118469 -0.15071537 -0.04737693 -0.28182483\n",
              "   -0.13207792  0.28023508 -0.0993953   0.16208813]\n",
              "  [ 0.21225578  0.11429599  0.2272053  -0.06690869 -0.26504856  0.21954116\n",
              "   -0.24908948 -0.03446159  0.11517999  0.27162805]\n",
              "  [ 0.1641413   0.02380368  0.04019025 -0.19384162 -0.22863966 -0.1746859\n",
              "    0.03841347 -0.21889459  0.09355256 -0.27198505]\n",
              "  [-0.1427485   0.00345895 -0.10060929  0.09756678  0.07794535 -0.13187465\n",
              "   -0.00816047  0.02794769 -0.25615442  0.24439159]\n",
              "  [ 0.24674341  0.10667348  0.25595793 -0.12347026  0.24138126 -0.04289103\n",
              "    0.04755628 -0.03824347 -0.17153572 -0.05550699]\n",
              "  [-0.19029917 -0.09975579  0.00847426 -0.076667   -0.25529346 -0.2099168\n",
              "    0.10109618 -0.24647526  0.08638442 -0.01498392]\n",
              "  [-0.19161819  0.05155876  0.24730298  0.22279683 -0.0483364   0.13358906\n",
              "   -0.02292314  0.08844948 -0.19451928  0.21894607]\n",
              "  [ 0.20313883  0.22505674  0.13341898  0.25740084 -0.07195094  0.17132702\n",
              "   -0.07711703 -0.05318585 -0.10963202 -0.02053455]\n",
              "  [ 0.1638172  -0.20870227 -0.14428687 -0.0920956  -0.12217745  0.0225049\n",
              "    0.21253088 -0.04735622  0.00995171  0.21016827]\n",
              "  [ 0.113197    0.06650943  0.13020846  0.0408251   0.04193774 -0.08764397\n",
              "    0.0436613   0.19483078 -0.26327944 -0.07606664]\n",
              "  [-0.22233792  0.09766373 -0.02257955  0.16636834  0.10885814  0.2493883\n",
              "    0.11943859 -0.15638512  0.03638998  0.20635071]\n",
              "  [-0.17221318  0.25400987 -0.25764832 -0.06852642 -0.20743492  0.04359543\n",
              "   -0.26768607 -0.20654678 -0.20066135 -0.02744937]]>,\n",
              " <Variable path=sequential_4/dense_9/bias, shape=(10,), dtype=float32, value=[0. 0. 0. 0. 0. 0. 0. 0. 0. 0.]>]"
            ]
          },
          "metadata": {},
          "execution_count": 19
        }
      ]
    },
    {
      "cell_type": "code",
      "source": [
        "model.summary()"
      ],
      "metadata": {
        "colab": {
          "base_uri": "https://localhost:8080/",
          "height": 199
        },
        "id": "7OLpjyKGcB_w",
        "outputId": "7781aeac-8026-4030-f4d2-0912e29f7b96"
      },
      "execution_count": 20,
      "outputs": [
        {
          "output_type": "display_data",
          "data": {
            "text/plain": [
              "\u001b[1mModel: \"sequential_4\"\u001b[0m\n"
            ],
            "text/html": [
              "<pre style=\"white-space:pre;overflow-x:auto;line-height:normal;font-family:Menlo,'DejaVu Sans Mono',consolas,'Courier New',monospace\"><span style=\"font-weight: bold\">Model: \"sequential_4\"</span>\n",
              "</pre>\n"
            ]
          },
          "metadata": {}
        },
        {
          "output_type": "display_data",
          "data": {
            "text/plain": [
              "┏━━━━━━━━━━━━━━━━━━━━━━━━━━━━━━━━━┳━━━━━━━━━━━━━━━━━━━━━━━━┳━━━━━━━━━━━━━━━┓\n",
              "┃\u001b[1m \u001b[0m\u001b[1mLayer (type)                   \u001b[0m\u001b[1m \u001b[0m┃\u001b[1m \u001b[0m\u001b[1mOutput Shape          \u001b[0m\u001b[1m \u001b[0m┃\u001b[1m \u001b[0m\u001b[1m      Param #\u001b[0m\u001b[1m \u001b[0m┃\n",
              "┡━━━━━━━━━━━━━━━━━━━━━━━━━━━━━━━━━╇━━━━━━━━━━━━━━━━━━━━━━━━╇━━━━━━━━━━━━━━━┩\n",
              "│ dense_8 (\u001b[38;5;33mDense\u001b[0m)                 │ (\u001b[38;5;45mNone\u001b[0m, \u001b[38;5;34m64\u001b[0m)             │           \u001b[38;5;34m256\u001b[0m │\n",
              "├─────────────────────────────────┼────────────────────────┼───────────────┤\n",
              "│ dense_9 (\u001b[38;5;33mDense\u001b[0m)                 │ (\u001b[38;5;45mNone\u001b[0m, \u001b[38;5;34m10\u001b[0m)             │           \u001b[38;5;34m650\u001b[0m │\n",
              "└─────────────────────────────────┴────────────────────────┴───────────────┘\n"
            ],
            "text/html": [
              "<pre style=\"white-space:pre;overflow-x:auto;line-height:normal;font-family:Menlo,'DejaVu Sans Mono',consolas,'Courier New',monospace\">┏━━━━━━━━━━━━━━━━━━━━━━━━━━━━━━━━━┳━━━━━━━━━━━━━━━━━━━━━━━━┳━━━━━━━━━━━━━━━┓\n",
              "┃<span style=\"font-weight: bold\"> Layer (type)                    </span>┃<span style=\"font-weight: bold\"> Output Shape           </span>┃<span style=\"font-weight: bold\">       Param # </span>┃\n",
              "┡━━━━━━━━━━━━━━━━━━━━━━━━━━━━━━━━━╇━━━━━━━━━━━━━━━━━━━━━━━━╇━━━━━━━━━━━━━━━┩\n",
              "│ dense_8 (<span style=\"color: #0087ff; text-decoration-color: #0087ff\">Dense</span>)                 │ (<span style=\"color: #00d7ff; text-decoration-color: #00d7ff\">None</span>, <span style=\"color: #00af00; text-decoration-color: #00af00\">64</span>)             │           <span style=\"color: #00af00; text-decoration-color: #00af00\">256</span> │\n",
              "├─────────────────────────────────┼────────────────────────┼───────────────┤\n",
              "│ dense_9 (<span style=\"color: #0087ff; text-decoration-color: #0087ff\">Dense</span>)                 │ (<span style=\"color: #00d7ff; text-decoration-color: #00d7ff\">None</span>, <span style=\"color: #00af00; text-decoration-color: #00af00\">10</span>)             │           <span style=\"color: #00af00; text-decoration-color: #00af00\">650</span> │\n",
              "└─────────────────────────────────┴────────────────────────┴───────────────┘\n",
              "</pre>\n"
            ]
          },
          "metadata": {}
        },
        {
          "output_type": "display_data",
          "data": {
            "text/plain": [
              "\u001b[1m Total params: \u001b[0m\u001b[38;5;34m906\u001b[0m (3.54 KB)\n"
            ],
            "text/html": [
              "<pre style=\"white-space:pre;overflow-x:auto;line-height:normal;font-family:Menlo,'DejaVu Sans Mono',consolas,'Courier New',monospace\"><span style=\"font-weight: bold\"> Total params: </span><span style=\"color: #00af00; text-decoration-color: #00af00\">906</span> (3.54 KB)\n",
              "</pre>\n"
            ]
          },
          "metadata": {}
        },
        {
          "output_type": "display_data",
          "data": {
            "text/plain": [
              "\u001b[1m Trainable params: \u001b[0m\u001b[38;5;34m906\u001b[0m (3.54 KB)\n"
            ],
            "text/html": [
              "<pre style=\"white-space:pre;overflow-x:auto;line-height:normal;font-family:Menlo,'DejaVu Sans Mono',consolas,'Courier New',monospace\"><span style=\"font-weight: bold\"> Trainable params: </span><span style=\"color: #00af00; text-decoration-color: #00af00\">906</span> (3.54 KB)\n",
              "</pre>\n"
            ]
          },
          "metadata": {}
        },
        {
          "output_type": "display_data",
          "data": {
            "text/plain": [
              "\u001b[1m Non-trainable params: \u001b[0m\u001b[38;5;34m0\u001b[0m (0.00 B)\n"
            ],
            "text/html": [
              "<pre style=\"white-space:pre;overflow-x:auto;line-height:normal;font-family:Menlo,'DejaVu Sans Mono',consolas,'Courier New',monospace\"><span style=\"font-weight: bold\"> Non-trainable params: </span><span style=\"color: #00af00; text-decoration-color: #00af00\">0</span> (0.00 B)\n",
              "</pre>\n"
            ]
          },
          "metadata": {}
        }
      ]
    },
    {
      "cell_type": "code",
      "source": [
        "model = keras.Sequential(name = \"my_example_model\")\n",
        "model.add(layers.Dense(64, activation = \"relu\", name = \"my_first_layer\"))\n",
        "model.add(layers.Dense(10, activation = \"softmax\", name = \"my_last_layer\"))\n",
        "model.build((None, 3))\n",
        "model.summary()"
      ],
      "metadata": {
        "colab": {
          "base_uri": "https://localhost:8080/",
          "height": 199
        },
        "id": "P28kkGs_cLgV",
        "outputId": "abd8b722-7254-425c-aef3-fb33189f5fa0"
      },
      "execution_count": 21,
      "outputs": [
        {
          "output_type": "display_data",
          "data": {
            "text/plain": [
              "\u001b[1mModel: \"my_example_model\"\u001b[0m\n"
            ],
            "text/html": [
              "<pre style=\"white-space:pre;overflow-x:auto;line-height:normal;font-family:Menlo,'DejaVu Sans Mono',consolas,'Courier New',monospace\"><span style=\"font-weight: bold\">Model: \"my_example_model\"</span>\n",
              "</pre>\n"
            ]
          },
          "metadata": {}
        },
        {
          "output_type": "display_data",
          "data": {
            "text/plain": [
              "┏━━━━━━━━━━━━━━━━━━━━━━━━━━━━━━━━━┳━━━━━━━━━━━━━━━━━━━━━━━━┳━━━━━━━━━━━━━━━┓\n",
              "┃\u001b[1m \u001b[0m\u001b[1mLayer (type)                   \u001b[0m\u001b[1m \u001b[0m┃\u001b[1m \u001b[0m\u001b[1mOutput Shape          \u001b[0m\u001b[1m \u001b[0m┃\u001b[1m \u001b[0m\u001b[1m      Param #\u001b[0m\u001b[1m \u001b[0m┃\n",
              "┡━━━━━━━━━━━━━━━━━━━━━━━━━━━━━━━━━╇━━━━━━━━━━━━━━━━━━━━━━━━╇━━━━━━━━━━━━━━━┩\n",
              "│ my_first_layer (\u001b[38;5;33mDense\u001b[0m)          │ (\u001b[38;5;45mNone\u001b[0m, \u001b[38;5;34m64\u001b[0m)             │           \u001b[38;5;34m256\u001b[0m │\n",
              "├─────────────────────────────────┼────────────────────────┼───────────────┤\n",
              "│ my_last_layer (\u001b[38;5;33mDense\u001b[0m)           │ (\u001b[38;5;45mNone\u001b[0m, \u001b[38;5;34m10\u001b[0m)             │           \u001b[38;5;34m650\u001b[0m │\n",
              "└─────────────────────────────────┴────────────────────────┴───────────────┘\n"
            ],
            "text/html": [
              "<pre style=\"white-space:pre;overflow-x:auto;line-height:normal;font-family:Menlo,'DejaVu Sans Mono',consolas,'Courier New',monospace\">┏━━━━━━━━━━━━━━━━━━━━━━━━━━━━━━━━━┳━━━━━━━━━━━━━━━━━━━━━━━━┳━━━━━━━━━━━━━━━┓\n",
              "┃<span style=\"font-weight: bold\"> Layer (type)                    </span>┃<span style=\"font-weight: bold\"> Output Shape           </span>┃<span style=\"font-weight: bold\">       Param # </span>┃\n",
              "┡━━━━━━━━━━━━━━━━━━━━━━━━━━━━━━━━━╇━━━━━━━━━━━━━━━━━━━━━━━━╇━━━━━━━━━━━━━━━┩\n",
              "│ my_first_layer (<span style=\"color: #0087ff; text-decoration-color: #0087ff\">Dense</span>)          │ (<span style=\"color: #00d7ff; text-decoration-color: #00d7ff\">None</span>, <span style=\"color: #00af00; text-decoration-color: #00af00\">64</span>)             │           <span style=\"color: #00af00; text-decoration-color: #00af00\">256</span> │\n",
              "├─────────────────────────────────┼────────────────────────┼───────────────┤\n",
              "│ my_last_layer (<span style=\"color: #0087ff; text-decoration-color: #0087ff\">Dense</span>)           │ (<span style=\"color: #00d7ff; text-decoration-color: #00d7ff\">None</span>, <span style=\"color: #00af00; text-decoration-color: #00af00\">10</span>)             │           <span style=\"color: #00af00; text-decoration-color: #00af00\">650</span> │\n",
              "└─────────────────────────────────┴────────────────────────┴───────────────┘\n",
              "</pre>\n"
            ]
          },
          "metadata": {}
        },
        {
          "output_type": "display_data",
          "data": {
            "text/plain": [
              "\u001b[1m Total params: \u001b[0m\u001b[38;5;34m906\u001b[0m (3.54 KB)\n"
            ],
            "text/html": [
              "<pre style=\"white-space:pre;overflow-x:auto;line-height:normal;font-family:Menlo,'DejaVu Sans Mono',consolas,'Courier New',monospace\"><span style=\"font-weight: bold\"> Total params: </span><span style=\"color: #00af00; text-decoration-color: #00af00\">906</span> (3.54 KB)\n",
              "</pre>\n"
            ]
          },
          "metadata": {}
        },
        {
          "output_type": "display_data",
          "data": {
            "text/plain": [
              "\u001b[1m Trainable params: \u001b[0m\u001b[38;5;34m906\u001b[0m (3.54 KB)\n"
            ],
            "text/html": [
              "<pre style=\"white-space:pre;overflow-x:auto;line-height:normal;font-family:Menlo,'DejaVu Sans Mono',consolas,'Courier New',monospace\"><span style=\"font-weight: bold\"> Trainable params: </span><span style=\"color: #00af00; text-decoration-color: #00af00\">906</span> (3.54 KB)\n",
              "</pre>\n"
            ]
          },
          "metadata": {}
        },
        {
          "output_type": "display_data",
          "data": {
            "text/plain": [
              "\u001b[1m Non-trainable params: \u001b[0m\u001b[38;5;34m0\u001b[0m (0.00 B)\n"
            ],
            "text/html": [
              "<pre style=\"white-space:pre;overflow-x:auto;line-height:normal;font-family:Menlo,'DejaVu Sans Mono',consolas,'Courier New',monospace\"><span style=\"font-weight: bold\"> Non-trainable params: </span><span style=\"color: #00af00; text-decoration-color: #00af00\">0</span> (0.00 B)\n",
              "</pre>\n"
            ]
          },
          "metadata": {}
        }
      ]
    },
    {
      "cell_type": "code",
      "source": [
        "# Best way and useful for debugging\n",
        "model = keras.Sequential(name = \"defining_input_at_start\")\n",
        "model.add(keras.Input(shape = (3,)))\n",
        "model.add(layers.Dense(64, activation = \"relu\", name = \"layer_1\"))\n",
        "model.summary()"
      ],
      "metadata": {
        "colab": {
          "base_uri": "https://localhost:8080/",
          "height": 166
        },
        "id": "cDEFLKLjcjX2",
        "outputId": "9b68b91c-a5e1-49ff-d816-0b87f3cf1293"
      },
      "execution_count": 22,
      "outputs": [
        {
          "output_type": "display_data",
          "data": {
            "text/plain": [
              "\u001b[1mModel: \"defining_input_at_start\"\u001b[0m\n"
            ],
            "text/html": [
              "<pre style=\"white-space:pre;overflow-x:auto;line-height:normal;font-family:Menlo,'DejaVu Sans Mono',consolas,'Courier New',monospace\"><span style=\"font-weight: bold\">Model: \"defining_input_at_start\"</span>\n",
              "</pre>\n"
            ]
          },
          "metadata": {}
        },
        {
          "output_type": "display_data",
          "data": {
            "text/plain": [
              "┏━━━━━━━━━━━━━━━━━━━━━━━━━━━━━━━━━┳━━━━━━━━━━━━━━━━━━━━━━━━┳━━━━━━━━━━━━━━━┓\n",
              "┃\u001b[1m \u001b[0m\u001b[1mLayer (type)                   \u001b[0m\u001b[1m \u001b[0m┃\u001b[1m \u001b[0m\u001b[1mOutput Shape          \u001b[0m\u001b[1m \u001b[0m┃\u001b[1m \u001b[0m\u001b[1m      Param #\u001b[0m\u001b[1m \u001b[0m┃\n",
              "┡━━━━━━━━━━━━━━━━━━━━━━━━━━━━━━━━━╇━━━━━━━━━━━━━━━━━━━━━━━━╇━━━━━━━━━━━━━━━┩\n",
              "│ layer_1 (\u001b[38;5;33mDense\u001b[0m)                 │ (\u001b[38;5;45mNone\u001b[0m, \u001b[38;5;34m64\u001b[0m)             │           \u001b[38;5;34m256\u001b[0m │\n",
              "└─────────────────────────────────┴────────────────────────┴───────────────┘\n"
            ],
            "text/html": [
              "<pre style=\"white-space:pre;overflow-x:auto;line-height:normal;font-family:Menlo,'DejaVu Sans Mono',consolas,'Courier New',monospace\">┏━━━━━━━━━━━━━━━━━━━━━━━━━━━━━━━━━┳━━━━━━━━━━━━━━━━━━━━━━━━┳━━━━━━━━━━━━━━━┓\n",
              "┃<span style=\"font-weight: bold\"> Layer (type)                    </span>┃<span style=\"font-weight: bold\"> Output Shape           </span>┃<span style=\"font-weight: bold\">       Param # </span>┃\n",
              "┡━━━━━━━━━━━━━━━━━━━━━━━━━━━━━━━━━╇━━━━━━━━━━━━━━━━━━━━━━━━╇━━━━━━━━━━━━━━━┩\n",
              "│ layer_1 (<span style=\"color: #0087ff; text-decoration-color: #0087ff\">Dense</span>)                 │ (<span style=\"color: #00d7ff; text-decoration-color: #00d7ff\">None</span>, <span style=\"color: #00af00; text-decoration-color: #00af00\">64</span>)             │           <span style=\"color: #00af00; text-decoration-color: #00af00\">256</span> │\n",
              "└─────────────────────────────────┴────────────────────────┴───────────────┘\n",
              "</pre>\n"
            ]
          },
          "metadata": {}
        },
        {
          "output_type": "display_data",
          "data": {
            "text/plain": [
              "\u001b[1m Total params: \u001b[0m\u001b[38;5;34m256\u001b[0m (1.00 KB)\n"
            ],
            "text/html": [
              "<pre style=\"white-space:pre;overflow-x:auto;line-height:normal;font-family:Menlo,'DejaVu Sans Mono',consolas,'Courier New',monospace\"><span style=\"font-weight: bold\"> Total params: </span><span style=\"color: #00af00; text-decoration-color: #00af00\">256</span> (1.00 KB)\n",
              "</pre>\n"
            ]
          },
          "metadata": {}
        },
        {
          "output_type": "display_data",
          "data": {
            "text/plain": [
              "\u001b[1m Trainable params: \u001b[0m\u001b[38;5;34m256\u001b[0m (1.00 KB)\n"
            ],
            "text/html": [
              "<pre style=\"white-space:pre;overflow-x:auto;line-height:normal;font-family:Menlo,'DejaVu Sans Mono',consolas,'Courier New',monospace\"><span style=\"font-weight: bold\"> Trainable params: </span><span style=\"color: #00af00; text-decoration-color: #00af00\">256</span> (1.00 KB)\n",
              "</pre>\n"
            ]
          },
          "metadata": {}
        },
        {
          "output_type": "display_data",
          "data": {
            "text/plain": [
              "\u001b[1m Non-trainable params: \u001b[0m\u001b[38;5;34m0\u001b[0m (0.00 B)\n"
            ],
            "text/html": [
              "<pre style=\"white-space:pre;overflow-x:auto;line-height:normal;font-family:Menlo,'DejaVu Sans Mono',consolas,'Courier New',monospace\"><span style=\"font-weight: bold\"> Non-trainable params: </span><span style=\"color: #00af00; text-decoration-color: #00af00\">0</span> (0.00 B)\n",
              "</pre>\n"
            ]
          },
          "metadata": {}
        }
      ]
    },
    {
      "cell_type": "code",
      "source": [
        "model.add(layers.Dense(10, activation = \"softmax\", name = \"layer_2\"))\n",
        "model.summary()"
      ],
      "metadata": {
        "colab": {
          "base_uri": "https://localhost:8080/",
          "height": 199
        },
        "id": "4Pn-rozTc0Uw",
        "outputId": "0e2ab7d1-60a4-4828-d5a8-3aac53ab04dc"
      },
      "execution_count": 23,
      "outputs": [
        {
          "output_type": "display_data",
          "data": {
            "text/plain": [
              "\u001b[1mModel: \"defining_input_at_start\"\u001b[0m\n"
            ],
            "text/html": [
              "<pre style=\"white-space:pre;overflow-x:auto;line-height:normal;font-family:Menlo,'DejaVu Sans Mono',consolas,'Courier New',monospace\"><span style=\"font-weight: bold\">Model: \"defining_input_at_start\"</span>\n",
              "</pre>\n"
            ]
          },
          "metadata": {}
        },
        {
          "output_type": "display_data",
          "data": {
            "text/plain": [
              "┏━━━━━━━━━━━━━━━━━━━━━━━━━━━━━━━━━┳━━━━━━━━━━━━━━━━━━━━━━━━┳━━━━━━━━━━━━━━━┓\n",
              "┃\u001b[1m \u001b[0m\u001b[1mLayer (type)                   \u001b[0m\u001b[1m \u001b[0m┃\u001b[1m \u001b[0m\u001b[1mOutput Shape          \u001b[0m\u001b[1m \u001b[0m┃\u001b[1m \u001b[0m\u001b[1m      Param #\u001b[0m\u001b[1m \u001b[0m┃\n",
              "┡━━━━━━━━━━━━━━━━━━━━━━━━━━━━━━━━━╇━━━━━━━━━━━━━━━━━━━━━━━━╇━━━━━━━━━━━━━━━┩\n",
              "│ layer_1 (\u001b[38;5;33mDense\u001b[0m)                 │ (\u001b[38;5;45mNone\u001b[0m, \u001b[38;5;34m64\u001b[0m)             │           \u001b[38;5;34m256\u001b[0m │\n",
              "├─────────────────────────────────┼────────────────────────┼───────────────┤\n",
              "│ layer_2 (\u001b[38;5;33mDense\u001b[0m)                 │ (\u001b[38;5;45mNone\u001b[0m, \u001b[38;5;34m10\u001b[0m)             │           \u001b[38;5;34m650\u001b[0m │\n",
              "└─────────────────────────────────┴────────────────────────┴───────────────┘\n"
            ],
            "text/html": [
              "<pre style=\"white-space:pre;overflow-x:auto;line-height:normal;font-family:Menlo,'DejaVu Sans Mono',consolas,'Courier New',monospace\">┏━━━━━━━━━━━━━━━━━━━━━━━━━━━━━━━━━┳━━━━━━━━━━━━━━━━━━━━━━━━┳━━━━━━━━━━━━━━━┓\n",
              "┃<span style=\"font-weight: bold\"> Layer (type)                    </span>┃<span style=\"font-weight: bold\"> Output Shape           </span>┃<span style=\"font-weight: bold\">       Param # </span>┃\n",
              "┡━━━━━━━━━━━━━━━━━━━━━━━━━━━━━━━━━╇━━━━━━━━━━━━━━━━━━━━━━━━╇━━━━━━━━━━━━━━━┩\n",
              "│ layer_1 (<span style=\"color: #0087ff; text-decoration-color: #0087ff\">Dense</span>)                 │ (<span style=\"color: #00d7ff; text-decoration-color: #00d7ff\">None</span>, <span style=\"color: #00af00; text-decoration-color: #00af00\">64</span>)             │           <span style=\"color: #00af00; text-decoration-color: #00af00\">256</span> │\n",
              "├─────────────────────────────────┼────────────────────────┼───────────────┤\n",
              "│ layer_2 (<span style=\"color: #0087ff; text-decoration-color: #0087ff\">Dense</span>)                 │ (<span style=\"color: #00d7ff; text-decoration-color: #00d7ff\">None</span>, <span style=\"color: #00af00; text-decoration-color: #00af00\">10</span>)             │           <span style=\"color: #00af00; text-decoration-color: #00af00\">650</span> │\n",
              "└─────────────────────────────────┴────────────────────────┴───────────────┘\n",
              "</pre>\n"
            ]
          },
          "metadata": {}
        },
        {
          "output_type": "display_data",
          "data": {
            "text/plain": [
              "\u001b[1m Total params: \u001b[0m\u001b[38;5;34m906\u001b[0m (3.54 KB)\n"
            ],
            "text/html": [
              "<pre style=\"white-space:pre;overflow-x:auto;line-height:normal;font-family:Menlo,'DejaVu Sans Mono',consolas,'Courier New',monospace\"><span style=\"font-weight: bold\"> Total params: </span><span style=\"color: #00af00; text-decoration-color: #00af00\">906</span> (3.54 KB)\n",
              "</pre>\n"
            ]
          },
          "metadata": {}
        },
        {
          "output_type": "display_data",
          "data": {
            "text/plain": [
              "\u001b[1m Trainable params: \u001b[0m\u001b[38;5;34m906\u001b[0m (3.54 KB)\n"
            ],
            "text/html": [
              "<pre style=\"white-space:pre;overflow-x:auto;line-height:normal;font-family:Menlo,'DejaVu Sans Mono',consolas,'Courier New',monospace\"><span style=\"font-weight: bold\"> Trainable params: </span><span style=\"color: #00af00; text-decoration-color: #00af00\">906</span> (3.54 KB)\n",
              "</pre>\n"
            ]
          },
          "metadata": {}
        },
        {
          "output_type": "display_data",
          "data": {
            "text/plain": [
              "\u001b[1m Non-trainable params: \u001b[0m\u001b[38;5;34m0\u001b[0m (0.00 B)\n"
            ],
            "text/html": [
              "<pre style=\"white-space:pre;overflow-x:auto;line-height:normal;font-family:Menlo,'DejaVu Sans Mono',consolas,'Courier New',monospace\"><span style=\"font-weight: bold\"> Non-trainable params: </span><span style=\"color: #00af00; text-decoration-color: #00af00\">0</span> (0.00 B)\n",
              "</pre>\n"
            ]
          },
          "metadata": {}
        }
      ]
    }
  ]
}