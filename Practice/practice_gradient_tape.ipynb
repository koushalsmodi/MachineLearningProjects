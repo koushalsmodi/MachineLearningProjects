{
  "nbformat": 4,
  "nbformat_minor": 0,
  "metadata": {
    "colab": {
      "provenance": [],
      "gpuType": "T4"
    },
    "kernelspec": {
      "name": "python3",
      "display_name": "Python 3"
    },
    "language_info": {
      "name": "python"
    },
    "accelerator": "GPU"
  },
  "cells": [
    {
      "cell_type": "code",
      "execution_count": 2,
      "metadata": {
        "id": "Ih1Yz4Q75LZF",
        "colab": {
          "base_uri": "https://localhost:8080/"
        },
        "outputId": "e02455b4-a373-4510-a3db-f292b34a0dd2"
      },
      "outputs": [
        {
          "output_type": "stream",
          "name": "stdout",
          "text": [
            "<tf.Variable 'Variable:0' shape=() dtype=float32, numpy=0.0>\n",
            "()\n",
            "\n",
            "tf.Tensor(2.0, shape=(), dtype=float32)\n",
            "()\n"
          ]
        }
      ],
      "source": [
        "import tensorflow as tf\n",
        "\n",
        "x = tf.Variable(0.)\n",
        "with tf.GradientTape() as tape:\n",
        "  y = 2*x + 3\n",
        "\n",
        "grad_of_y_wrt_x = tape.gradient(y, x)\n",
        "\n",
        "print(x)\n",
        "print(x.shape)\n",
        "print()\n",
        "print(grad_of_y_wrt_x)\n",
        "print(grad_of_y_wrt_x.shape)"
      ]
    },
    {
      "cell_type": "code",
      "source": [
        "x = tf.Variable(tf.random.uniform((2,2)))\n",
        "\n",
        "with tf.GradientTape() as tape:\n",
        "  y = 2*x + 3\n",
        "\n",
        "grad_of_y_wrt_x = tape.gradient(y, x)\n",
        "\n",
        "print(x)\n",
        "print(x.shape)\n",
        "print()\n",
        "print(grad_of_y_wrt_x)\n",
        "print(grad_of_y_wrt_x.shape)"
      ],
      "metadata": {
        "id": "D47E3j1Z2HO2",
        "colab": {
          "base_uri": "https://localhost:8080/"
        },
        "outputId": "8a174248-0567-4df2-a4e6-af86179b7281"
      },
      "execution_count": 4,
      "outputs": [
        {
          "output_type": "stream",
          "name": "stdout",
          "text": [
            "<tf.Variable 'Variable:0' shape=(2, 2) dtype=float32, numpy=\n",
            "array([[0.23312068, 0.9019171 ],\n",
            "       [0.62587976, 0.4783336 ]], dtype=float32)>\n",
            "(2, 2)\n",
            "\n",
            "tf.Tensor(\n",
            "[[2. 2.]\n",
            " [2. 2.]], shape=(2, 2), dtype=float32)\n",
            "(2, 2)\n"
          ]
        }
      ]
    },
    {
      "cell_type": "code",
      "source": [
        "x = tf.random.uniform((2,2))\n",
        "W = tf.Variable(tf.random.uniform((2,2)))\n",
        "b = tf.Variable(tf.zeros((2,)))\n",
        "\n",
        "with tf.GradientTape() as tape:\n",
        "  y = tf.matmul(x, W) + b\n",
        "\n",
        "grad_of_y_wrt_W_and_b = tape.gradient(y, [W,b])\n",
        "\n",
        "print(f\"x: {x}\")\n",
        "print(f\"x shape: {x.shape}\")\n",
        "print()\n",
        "print(f\"W: {W}\")\n",
        "print(f\"W shape: {W.shape}\")\n",
        "print()\n",
        "print(f\"b: {b}\")\n",
        "print(f\"b shape: {b.shape}\")\n",
        "print()\n",
        "print(len(grad_of_y_wrt_W_and_b))\n",
        "print()\n",
        "print(grad_of_y_wrt_W_and_b)\n",
        "print()\n",
        "print(f\"gradient of y wrt to W: {grad_of_y_wrt_W_and_b[0]}\")\n",
        "print()\n",
        "print(f\"gradient of y wrt to b: {grad_of_y_wrt_W_and_b[1]}\")"
      ],
      "metadata": {
        "colab": {
          "base_uri": "https://localhost:8080/"
        },
        "id": "iEVWAAGA2uGB",
        "outputId": "c2281e59-a7fc-4cd8-92d9-0f1eac3334a4"
      },
      "execution_count": 12,
      "outputs": [
        {
          "output_type": "stream",
          "name": "stdout",
          "text": [
            "x: [[0.21434045 0.91867304]\n",
            " [0.80846965 0.5377463 ]]\n",
            "x shape: (2, 2)\n",
            "\n",
            "W: <tf.Variable 'Variable:0' shape=(2, 2) dtype=float32, numpy=\n",
            "array([[0.3866564 , 0.69314873],\n",
            "       [0.41975403, 0.23881352]], dtype=float32)>\n",
            "W shape: (2, 2)\n",
            "\n",
            "b: <tf.Variable 'Variable:0' shape=(2,) dtype=float32, numpy=array([0., 0.], dtype=float32)>\n",
            "b shape: (2,)\n",
            "\n",
            "2\n",
            "\n",
            "[<tf.Tensor: shape=(2, 2), dtype=float32, numpy=\n",
            "array([[1.0228101, 1.0228101],\n",
            "       [1.4564193, 1.4564193]], dtype=float32)>, <tf.Tensor: shape=(2,), dtype=float32, numpy=array([2., 2.], dtype=float32)>]\n",
            "\n",
            "gradient of y wrt to W: [[1.0228101 1.0228101]\n",
            " [1.4564193 1.4564193]]\n",
            "\n",
            "gradient of y wrt to b: [2. 2.]\n"
          ]
        }
      ]
    }
  ]
}