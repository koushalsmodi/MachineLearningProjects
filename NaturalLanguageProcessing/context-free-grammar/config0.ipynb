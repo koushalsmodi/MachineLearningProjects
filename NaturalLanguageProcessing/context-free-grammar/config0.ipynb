{
  "nbformat": 4,
  "nbformat_minor": 0,
  "metadata": {
    "colab": {
      "provenance": []
    },
    "kernelspec": {
      "name": "python3",
      "display_name": "Python 3"
    },
    "language_info": {
      "name": "python"
    }
  },
  "cells": [
    {
      "cell_type": "code",
      "execution_count": 5,
      "metadata": {
        "id": "YYQDSRWX6DIn"
      },
      "outputs": [],
      "source": [
        "import nltk"
      ]
    },
    {
      "cell_type": "code",
      "source": [
        "grammar = nltk.CFG.fromstring(\"\"\"\n",
        "S -> NP VP\n",
        "\n",
        "NP -> D N | N\n",
        "\n",
        "VP -> V | V NP\n",
        "\n",
        "D -> \"the\" | \"a\"\n",
        "N -> \"she\" | \"city\" | \"car\"\n",
        "V -> \"saw\" | \"walked\"\n",
        "\n",
        "\"\"\")"
      ],
      "metadata": {
        "id": "LB1PqPAa-2yC"
      },
      "execution_count": 6,
      "outputs": []
    },
    {
      "cell_type": "code",
      "source": [
        "parser = nltk.ChartParser(grammar)"
      ],
      "metadata": {
        "id": "QqBy-wp1AkBA"
      },
      "execution_count": 7,
      "outputs": []
    },
    {
      "cell_type": "code",
      "source": [
        "sentence = input(\"Sentence: \").split()\n",
        "try:\n",
        "  for tree in parser.parse(sentence):\n",
        "    tree.pretty_print()\n",
        "except ValueError:\n",
        "  print(\"No parse tree possible\")"
      ],
      "metadata": {
        "colab": {
          "base_uri": "https://localhost:8080/"
        },
        "id": "CO4pks1DAy-I",
        "outputId": "ef8bd318-b040-4be7-d0ae-3198c6fcab28"
      },
      "execution_count": 8,
      "outputs": [
        {
          "output_type": "stream",
          "name": "stdout",
          "text": [
            "Sentence: she walked\n",
            "     S        \n",
            "  ___|____     \n",
            " NP       VP  \n",
            " |        |    \n",
            " N        V   \n",
            " |        |    \n",
            "she     walked\n",
            "\n"
          ]
        }
      ]
    },
    {
      "cell_type": "code",
      "source": [
        "sentence = input(\"Sentence: \").split()\n",
        "try:\n",
        "  for tree in parser.parse(sentence):\n",
        "    tree.pretty_print()\n",
        "except ValueError:\n",
        "  print(\"No parse tree possible\")"
      ],
      "metadata": {
        "colab": {
          "base_uri": "https://localhost:8080/"
        },
        "id": "nYVV_Qw3BCzh",
        "outputId": "07c3d209-1acc-4d68-b115-94df7aec7311"
      },
      "execution_count": 9,
      "outputs": [
        {
          "output_type": "stream",
          "name": "stdout",
          "text": [
            "Sentence: she saw the city\n",
            "         S              \n",
            "  _______|___            \n",
            " |           VP         \n",
            " |    _______|___        \n",
            " NP  |           NP     \n",
            " |   |        ___|___    \n",
            " N   V       D       N  \n",
            " |   |       |       |   \n",
            "she saw     the     city\n",
            "\n"
          ]
        }
      ]
    }
  ]
}