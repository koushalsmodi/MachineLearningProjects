{
  "nbformat": 4,
  "nbformat_minor": 0,
  "metadata": {
    "colab": {
      "provenance": []
    },
    "kernelspec": {
      "name": "python3",
      "display_name": "Python 3"
    },
    "language_info": {
      "name": "python"
    }
  },
  "cells": [
    {
      "cell_type": "code",
      "execution_count": 1,
      "metadata": {
        "id": "ZhgLSb8eBT5d"
      },
      "outputs": [],
      "source": [
        "import nltk"
      ]
    },
    {
      "cell_type": "code",
      "source": [
        "grammar = nltk.CFG.fromstring(\"\"\"\n",
        "\n",
        "S -> NP VP\n",
        "\n",
        "AP -> A | A AP\n",
        "NP -> N | D NP | AP NP | N PP\n",
        "PP -> P NP\n",
        "VP -> V | V NP | V NP PP\n",
        "\n",
        "A -> \"big\" | \"blue\" | \"small\" | \"dry\" | \"wide\"\n",
        "D -> \"the\" | \"a\" | \"an\"\n",
        "N -> \"she\" | \"city\" | \"car\" | \"street\" | \"dog\" | \"binoculars\"\n",
        "P -> \"on\" | \"over\" | \"before\" | \"below\" | \"with\"\n",
        "V -> \"saw\" | \"walked\"\n",
        "\n",
        "\"\"\")"
      ],
      "metadata": {
        "id": "-Rs8fG0EF0NN"
      },
      "execution_count": 2,
      "outputs": []
    },
    {
      "cell_type": "code",
      "source": [
        "parser = nltk.ChartParser(grammar)"
      ],
      "metadata": {
        "id": "4d8w59XBG3pv"
      },
      "execution_count": 3,
      "outputs": []
    },
    {
      "cell_type": "code",
      "source": [
        "sentence = input(\"Sentence: \").split()\n",
        "try:\n",
        "  for tree in parser.parse(sentence):\n",
        "    tree.pretty_print()\n",
        "except ValueError:\n",
        "  print(\"No parse tree possible\")"
      ],
      "metadata": {
        "colab": {
          "base_uri": "https://localhost:8080/"
        },
        "id": "lv86iTS8G6xQ",
        "outputId": "ddb6679d-25cf-4432-e0b5-2776d5e27884"
      },
      "execution_count": 11,
      "outputs": [
        {
          "output_type": "stream",
          "name": "stdout",
          "text": [
            "Sentence: she saw the wide street\n",
            "         S                     \n",
            "  _______|___                   \n",
            " |           VP                \n",
            " |    _______|___               \n",
            " |   |           NP            \n",
            " |   |    _______|____          \n",
            " |   |   |            NP       \n",
            " |   |   |        ____|____     \n",
            " NP  |   |       AP        NP  \n",
            " |   |   |       |         |    \n",
            " N   V   D       A         N   \n",
            " |   |   |       |         |    \n",
            "she saw the     wide     street\n",
            "\n"
          ]
        }
      ]
    },
    {
      "cell_type": "code",
      "source": [
        "sentence = input(\"Sentence: \").split()\n",
        "try:\n",
        "  for tree in parser.parse(sentence):\n",
        "    tree.pretty_print()\n",
        "except ValueError:\n",
        "  print(\"No parse tree possible\")"
      ],
      "metadata": {
        "colab": {
          "base_uri": "https://localhost:8080/"
        },
        "id": "HA3tph3tHdoj",
        "outputId": "e841d17f-a92b-458c-bd58-b0b1bec9f9ab"
      },
      "execution_count": 12,
      "outputs": [
        {
          "output_type": "stream",
          "name": "stdout",
          "text": [
            "Sentence: she saw the dog with the binoculars\n",
            "     S                                     \n",
            "  ___|___________                           \n",
            " |               VP                        \n",
            " |    ___________|________                  \n",
            " |   |       |            PP               \n",
            " |   |       |        ____|___              \n",
            " |   |       NP      |        NP           \n",
            " |   |    ___|___    |     ___|______       \n",
            " NP  |   |       NP  |    |          NP    \n",
            " |   |   |       |   |    |          |      \n",
            " N   V   D       N   P    D          N     \n",
            " |   |   |       |   |    |          |      \n",
            "she saw the     dog with the     binoculars\n",
            "\n",
            "     S                                     \n",
            "  ___|_______                               \n",
            " |           VP                            \n",
            " |    _______|___                           \n",
            " |   |           NP                        \n",
            " |   |    _______|____                      \n",
            " |   |   |            NP                   \n",
            " |   |   |    ________|___                  \n",
            " |   |   |   |            PP               \n",
            " |   |   |   |    ________|___              \n",
            " |   |   |   |   |            NP           \n",
            " |   |   |   |   |         ___|______       \n",
            " NP  |   |   |   |        |          NP    \n",
            " |   |   |   |   |        |          |      \n",
            " N   V   D   N   P        D          N     \n",
            " |   |   |   |   |        |          |      \n",
            "she saw the dog with     the     binoculars\n",
            "\n"
          ]
        }
      ]
    }
  ]
}